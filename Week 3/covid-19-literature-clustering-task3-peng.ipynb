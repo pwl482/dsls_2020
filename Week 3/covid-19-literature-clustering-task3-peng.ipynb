{
 "cells": [
  {
   "cell_type": "markdown",
   "metadata": {},
   "source": [
    "# COVID-19 Literature Clustering"
   ]
  },
  {
   "cell_type": "markdown",
   "metadata": {},
   "source": [
    "# Loading the Data\n",
    "Load the data following the notebook by Ivan Ega Pratama, from Kaggle.\n",
    "#### Cite: [Dataset Parsing Code | Kaggle, COVID EDA: Initial Exploration Tool](https://www.kaggle.com/ivanegapratama/covid-eda-initial-exploration-tool)"
   ]
  },
  {
   "cell_type": "markdown",
   "metadata": {},
   "source": [
    "### Loading Metadata"
   ]
  },
  {
   "cell_type": "code",
   "execution_count": 3,
   "metadata": {},
   "outputs": [],
   "source": [
    "import numpy as np # linear algebra\n",
    "import pandas as pd # data processing, CSV file I/O (e.g. pd.read_csv)\n",
    "import glob\n",
    "import json\n",
    "\n",
    "import matplotlib.pyplot as plt\n",
    "plt.style.use('ggplot')"
   ]
  },
  {
   "cell_type": "markdown",
   "metadata": {},
   "source": [
    "Let's load the metadata of the dateset. 'title' and 'journal' attributes may be useful later when we cluster the articles to see what kinds of articles cluster together."
   ]
  },
  {
   "cell_type": "code",
   "execution_count": 4,
   "metadata": {},
   "outputs": [
    {
     "name": "stderr",
     "output_type": "stream",
     "text": [
      "D:\\Anaconda3\\lib\\site-packages\\IPython\\core\\interactiveshell.py:3049: DtypeWarning: Columns (14) have mixed types. Specify dtype option on import or set low_memory=False.\n",
      "  interactivity=interactivity, compiler=compiler, result=result)\n"
     ]
    },
    {
     "data": {
      "text/html": [
       "<div>\n",
       "<style scoped>\n",
       "    .dataframe tbody tr th:only-of-type {\n",
       "        vertical-align: middle;\n",
       "    }\n",
       "\n",
       "    .dataframe tbody tr th {\n",
       "        vertical-align: top;\n",
       "    }\n",
       "\n",
       "    .dataframe thead th {\n",
       "        text-align: right;\n",
       "    }\n",
       "</style>\n",
       "<table border=\"1\" class=\"dataframe\">\n",
       "  <thead>\n",
       "    <tr style=\"text-align: right;\">\n",
       "      <th></th>\n",
       "      <th>cord_uid</th>\n",
       "      <th>sha</th>\n",
       "      <th>source_x</th>\n",
       "      <th>title</th>\n",
       "      <th>doi</th>\n",
       "      <th>pmcid</th>\n",
       "      <th>pubmed_id</th>\n",
       "      <th>license</th>\n",
       "      <th>abstract</th>\n",
       "      <th>publish_time</th>\n",
       "      <th>authors</th>\n",
       "      <th>journal</th>\n",
       "      <th>Microsoft Academic Paper ID</th>\n",
       "      <th>WHO #Covidence</th>\n",
       "      <th>arxiv_id</th>\n",
       "      <th>has_pdf_parse</th>\n",
       "      <th>has_pmc_xml_parse</th>\n",
       "      <th>full_text_file</th>\n",
       "      <th>url</th>\n",
       "    </tr>\n",
       "  </thead>\n",
       "  <tbody>\n",
       "    <tr>\n",
       "      <th>0</th>\n",
       "      <td>zjufx4fo</td>\n",
       "      <td>b2897e1277f56641193a6db73825f707eed3e4c9</td>\n",
       "      <td>PMC</td>\n",
       "      <td>Sequence requirements for RNA strand transfer ...</td>\n",
       "      <td>10.1093/emboj/20.24.7220</td>\n",
       "      <td>PMC125340</td>\n",
       "      <td>11742998</td>\n",
       "      <td>unk</td>\n",
       "      <td>Nidovirus subgenomic mRNAs contain a leader se...</td>\n",
       "      <td>2001-12-17</td>\n",
       "      <td>Pasternak, Alexander O.; van den Born, Erwin; ...</td>\n",
       "      <td>The EMBO Journal</td>\n",
       "      <td>NaN</td>\n",
       "      <td>NaN</td>\n",
       "      <td>NaN</td>\n",
       "      <td>True</td>\n",
       "      <td>True</td>\n",
       "      <td>custom_license</td>\n",
       "      <td>http://europepmc.org/articles/pmc125340?pdf=re...</td>\n",
       "    </tr>\n",
       "    <tr>\n",
       "      <th>1</th>\n",
       "      <td>ymceytj3</td>\n",
       "      <td>e3d0d482ebd9a8ba81c254cc433f314142e72174</td>\n",
       "      <td>PMC</td>\n",
       "      <td>Crystal structure of murine sCEACAM1a[1,4]: a ...</td>\n",
       "      <td>10.1093/emboj/21.9.2076</td>\n",
       "      <td>PMC125375</td>\n",
       "      <td>11980704</td>\n",
       "      <td>unk</td>\n",
       "      <td>CEACAM1 is a member of the carcinoembryonic an...</td>\n",
       "      <td>2002-05-01</td>\n",
       "      <td>Tan, Kemin; Zelus, Bruce D.; Meijers, Rob; Liu...</td>\n",
       "      <td>The EMBO Journal</td>\n",
       "      <td>NaN</td>\n",
       "      <td>NaN</td>\n",
       "      <td>NaN</td>\n",
       "      <td>True</td>\n",
       "      <td>True</td>\n",
       "      <td>custom_license</td>\n",
       "      <td>http://europepmc.org/articles/pmc125375?pdf=re...</td>\n",
       "    </tr>\n",
       "    <tr>\n",
       "      <th>2</th>\n",
       "      <td>wzj2glte</td>\n",
       "      <td>00b1d99e70f779eb4ede50059db469c65e8c1469</td>\n",
       "      <td>PMC</td>\n",
       "      <td>Synthesis of a novel hepatitis C virus protein...</td>\n",
       "      <td>10.1093/emboj/20.14.3840</td>\n",
       "      <td>PMC125543</td>\n",
       "      <td>11447125</td>\n",
       "      <td>no-cc</td>\n",
       "      <td>Hepatitis C virus (HCV) is an important human ...</td>\n",
       "      <td>2001-07-16</td>\n",
       "      <td>Xu, Zhenming; Choi, Jinah; Yen, T.S.Benedict; ...</td>\n",
       "      <td>EMBO J</td>\n",
       "      <td>NaN</td>\n",
       "      <td>NaN</td>\n",
       "      <td>NaN</td>\n",
       "      <td>True</td>\n",
       "      <td>True</td>\n",
       "      <td>custom_license</td>\n",
       "      <td>https://www.ncbi.nlm.nih.gov/pmc/articles/PMC1...</td>\n",
       "    </tr>\n",
       "    <tr>\n",
       "      <th>3</th>\n",
       "      <td>2sfqsfm1</td>\n",
       "      <td>cf584e00f637cbd8f1bb35f3f09f5ed07b71aeb0</td>\n",
       "      <td>PMC</td>\n",
       "      <td>Structure of coronavirus main proteinase revea...</td>\n",
       "      <td>10.1093/emboj/cdf327</td>\n",
       "      <td>PMC126080</td>\n",
       "      <td>12093723</td>\n",
       "      <td>unk</td>\n",
       "      <td>The key enzyme in coronavirus polyprotein proc...</td>\n",
       "      <td>2002-07-01</td>\n",
       "      <td>Anand, Kanchan; Palm, Gottfried J.; Mesters, J...</td>\n",
       "      <td>The EMBO Journal</td>\n",
       "      <td>NaN</td>\n",
       "      <td>NaN</td>\n",
       "      <td>NaN</td>\n",
       "      <td>True</td>\n",
       "      <td>True</td>\n",
       "      <td>custom_license</td>\n",
       "      <td>http://europepmc.org/articles/pmc126080?pdf=re...</td>\n",
       "    </tr>\n",
       "    <tr>\n",
       "      <th>4</th>\n",
       "      <td>i0zym7iq</td>\n",
       "      <td>dde02f11923815e6a16a31dd6298c46b109c5dfa</td>\n",
       "      <td>PMC</td>\n",
       "      <td>Discontinuous and non-discontinuous subgenomic...</td>\n",
       "      <td>10.1093/emboj/cdf635</td>\n",
       "      <td>PMC136939</td>\n",
       "      <td>12456663</td>\n",
       "      <td>unk</td>\n",
       "      <td>Arteri-, corona-, toro- and roniviruses are ev...</td>\n",
       "      <td>2002-12-01</td>\n",
       "      <td>van Vliet, A.L.W.; Smits, S.L.; Rottier, P.J.M...</td>\n",
       "      <td>The EMBO Journal</td>\n",
       "      <td>NaN</td>\n",
       "      <td>NaN</td>\n",
       "      <td>NaN</td>\n",
       "      <td>True</td>\n",
       "      <td>True</td>\n",
       "      <td>custom_license</td>\n",
       "      <td>http://europepmc.org/articles/pmc136939?pdf=re...</td>\n",
       "    </tr>\n",
       "  </tbody>\n",
       "</table>\n",
       "</div>"
      ],
      "text/plain": [
       "   cord_uid                                       sha source_x  \\\n",
       "0  zjufx4fo  b2897e1277f56641193a6db73825f707eed3e4c9      PMC   \n",
       "1  ymceytj3  e3d0d482ebd9a8ba81c254cc433f314142e72174      PMC   \n",
       "2  wzj2glte  00b1d99e70f779eb4ede50059db469c65e8c1469      PMC   \n",
       "3  2sfqsfm1  cf584e00f637cbd8f1bb35f3f09f5ed07b71aeb0      PMC   \n",
       "4  i0zym7iq  dde02f11923815e6a16a31dd6298c46b109c5dfa      PMC   \n",
       "\n",
       "                                               title  \\\n",
       "0  Sequence requirements for RNA strand transfer ...   \n",
       "1  Crystal structure of murine sCEACAM1a[1,4]: a ...   \n",
       "2  Synthesis of a novel hepatitis C virus protein...   \n",
       "3  Structure of coronavirus main proteinase revea...   \n",
       "4  Discontinuous and non-discontinuous subgenomic...   \n",
       "\n",
       "                        doi      pmcid pubmed_id license  \\\n",
       "0  10.1093/emboj/20.24.7220  PMC125340  11742998     unk   \n",
       "1   10.1093/emboj/21.9.2076  PMC125375  11980704     unk   \n",
       "2  10.1093/emboj/20.14.3840  PMC125543  11447125   no-cc   \n",
       "3      10.1093/emboj/cdf327  PMC126080  12093723     unk   \n",
       "4      10.1093/emboj/cdf635  PMC136939  12456663     unk   \n",
       "\n",
       "                                            abstract publish_time  \\\n",
       "0  Nidovirus subgenomic mRNAs contain a leader se...   2001-12-17   \n",
       "1  CEACAM1 is a member of the carcinoembryonic an...   2002-05-01   \n",
       "2  Hepatitis C virus (HCV) is an important human ...   2001-07-16   \n",
       "3  The key enzyme in coronavirus polyprotein proc...   2002-07-01   \n",
       "4  Arteri-, corona-, toro- and roniviruses are ev...   2002-12-01   \n",
       "\n",
       "                                             authors           journal  \\\n",
       "0  Pasternak, Alexander O.; van den Born, Erwin; ...  The EMBO Journal   \n",
       "1  Tan, Kemin; Zelus, Bruce D.; Meijers, Rob; Liu...  The EMBO Journal   \n",
       "2  Xu, Zhenming; Choi, Jinah; Yen, T.S.Benedict; ...            EMBO J   \n",
       "3  Anand, Kanchan; Palm, Gottfried J.; Mesters, J...  The EMBO Journal   \n",
       "4  van Vliet, A.L.W.; Smits, S.L.; Rottier, P.J.M...  The EMBO Journal   \n",
       "\n",
       "  Microsoft Academic Paper ID WHO #Covidence arxiv_id  has_pdf_parse  \\\n",
       "0                         NaN            NaN      NaN           True   \n",
       "1                         NaN            NaN      NaN           True   \n",
       "2                         NaN            NaN      NaN           True   \n",
       "3                         NaN            NaN      NaN           True   \n",
       "4                         NaN            NaN      NaN           True   \n",
       "\n",
       "   has_pmc_xml_parse  full_text_file  \\\n",
       "0               True  custom_license   \n",
       "1               True  custom_license   \n",
       "2               True  custom_license   \n",
       "3               True  custom_license   \n",
       "4               True  custom_license   \n",
       "\n",
       "                                                 url  \n",
       "0  http://europepmc.org/articles/pmc125340?pdf=re...  \n",
       "1  http://europepmc.org/articles/pmc125375?pdf=re...  \n",
       "2  https://www.ncbi.nlm.nih.gov/pmc/articles/PMC1...  \n",
       "3  http://europepmc.org/articles/pmc126080?pdf=re...  \n",
       "4  http://europepmc.org/articles/pmc136939?pdf=re...  "
      ]
     },
     "execution_count": 4,
     "metadata": {},
     "output_type": "execute_result"
    }
   ],
   "source": [
    "root_path = 'kaggle/input/CORD-19-research-challenge/'\n",
    "metadata_path = f'{root_path}/metadata.csv'\n",
    "meta_df = pd.read_csv(metadata_path, dtype={\n",
    "    'pubmed_id': str,\n",
    "    'Microsoft Academic Paper ID': str, \n",
    "    'doi': str\n",
    "})\n",
    "meta_df.head()"
   ]
  },
  {
   "cell_type": "code",
   "execution_count": 5,
   "metadata": {},
   "outputs": [
    {
     "name": "stdout",
     "output_type": "stream",
     "text": [
      "<class 'pandas.core.frame.DataFrame'>\n",
      "RangeIndex: 59887 entries, 0 to 59886\n",
      "Data columns (total 19 columns):\n",
      "cord_uid                       59887 non-null object\n",
      "sha                            45763 non-null object\n",
      "source_x                       59887 non-null object\n",
      "title                          59724 non-null object\n",
      "doi                            55801 non-null object\n",
      "pmcid                          48139 non-null object\n",
      "pubmed_id                      41328 non-null object\n",
      "license                        59887 non-null object\n",
      "abstract                       48757 non-null object\n",
      "publish_time                   59879 non-null object\n",
      "authors                        57296 non-null object\n",
      "journal                        52828 non-null object\n",
      "Microsoft Academic Paper ID    964 non-null object\n",
      "WHO #Covidence                 1768 non-null object\n",
      "arxiv_id                       676 non-null object\n",
      "has_pdf_parse                  59887 non-null bool\n",
      "has_pmc_xml_parse              59887 non-null bool\n",
      "full_text_file                 51426 non-null object\n",
      "url                            59447 non-null object\n",
      "dtypes: bool(2), object(17)\n",
      "memory usage: 7.9+ MB\n"
     ]
    }
   ],
   "source": [
    "meta_df.info()"
   ]
  },
  {
   "cell_type": "markdown",
   "metadata": {},
   "source": [
    "### Fetch All of JSON File Path"
   ]
  },
  {
   "cell_type": "markdown",
   "metadata": {},
   "source": [
    "Get path to all JSON files:"
   ]
  },
  {
   "cell_type": "code",
   "execution_count": 6,
   "metadata": {},
   "outputs": [
    {
     "data": {
      "text/plain": [
       "71261"
      ]
     },
     "execution_count": 6,
     "metadata": {},
     "output_type": "execute_result"
    }
   ],
   "source": [
    "all_json = glob.glob(f'{root_path}/**/*.json', recursive=True)\n",
    "len(all_json)"
   ]
  },
  {
   "cell_type": "markdown",
   "metadata": {},
   "source": [
    "### Helper Functions"
   ]
  },
  {
   "cell_type": "markdown",
   "metadata": {},
   "source": [
    " File Reader Class"
   ]
  },
  {
   "cell_type": "code",
   "execution_count": 7,
   "metadata": {},
   "outputs": [
    {
     "name": "stdout",
     "output_type": "stream",
     "text": [
      "003d2e515e1aaf06f0052769953e861ed8e56608: ... It is highly contagious, and severe cases can lead to acute respiratory distress or multiple organ failure [3] . On 11 March 2020, the WHO has made the assessment that COVID-19 can be characterised as...\n"
     ]
    }
   ],
   "source": [
    "class FileReader:\n",
    "    def __init__(self, file_path):\n",
    "        with open(file_path, errors='ignore') as file:\n",
    "            content = json.load(file)\n",
    "            self.paper_id = content['paper_id']\n",
    "            self.abstract = []\n",
    "            self.body_text = []\n",
    "            # Abstract\n",
    "            for entry in content['abstract']:\n",
    "                self.abstract.append(entry['text'])\n",
    "            # Body text\n",
    "            for entry in content['body_text']:\n",
    "                self.body_text.append(entry['text'])\n",
    "            self.abstract = '\\n'.join(self.abstract)\n",
    "            self.body_text = '\\n'.join(self.body_text)\n",
    "    def __repr__(self):\n",
    "        return f'{self.paper_id}: {self.abstract[:200]}... {self.body_text[:200]}...'\n",
    "first_row = FileReader(all_json[0])\n",
    "print(first_row)"
   ]
  },
  {
   "cell_type": "markdown",
   "metadata": {},
   "source": [
    "Helper function adds break after every words when character length reach to certain amount. This is for the interactive plot so that hover tool fits the screen."
   ]
  },
  {
   "cell_type": "code",
   "execution_count": 8,
   "metadata": {},
   "outputs": [],
   "source": [
    "def get_breaks(content, length):\n",
    "    data = \"\"\n",
    "    words = content.split(' ')\n",
    "    total_chars = 0\n",
    "\n",
    "    # add break every length characters\n",
    "    for i in range(len(words)):\n",
    "        total_chars += len(words[i])\n",
    "        if total_chars > length:\n",
    "            data = data + \"<br>\" + words[i]\n",
    "            total_chars = 0\n",
    "        else:\n",
    "            data = data + \" \" + words[i]\n",
    "    return data"
   ]
  },
  {
   "cell_type": "markdown",
   "metadata": {},
   "source": [
    "### Load the Data into DataFrame"
   ]
  },
  {
   "cell_type": "markdown",
   "metadata": {},
   "source": [
    "Using the helper functions, let's read in the articles into a DataFrame that can be used easily:"
   ]
  },
  {
   "cell_type": "code",
   "execution_count": 9,
   "metadata": {},
   "outputs": [
    {
     "name": "stdout",
     "output_type": "stream",
     "text": [
      "Processing index: 0 of 71261\n",
      "Processing index: 7126 of 71261\n",
      "Processing index: 14252 of 71261\n",
      "Processing index: 21378 of 71261\n",
      "Processing index: 28504 of 71261\n",
      "Processing index: 35630 of 71261\n",
      "Processing index: 42756 of 71261\n",
      "Processing index: 49882 of 71261\n",
      "Processing index: 57008 of 71261\n",
      "Processing index: 64134 of 71261\n",
      "Processing index: 71260 of 71261\n"
     ]
    },
    {
     "data": {
      "text/html": [
       "<div>\n",
       "<style scoped>\n",
       "    .dataframe tbody tr th:only-of-type {\n",
       "        vertical-align: middle;\n",
       "    }\n",
       "\n",
       "    .dataframe tbody tr th {\n",
       "        vertical-align: top;\n",
       "    }\n",
       "\n",
       "    .dataframe thead th {\n",
       "        text-align: right;\n",
       "    }\n",
       "</style>\n",
       "<table border=\"1\" class=\"dataframe\">\n",
       "  <thead>\n",
       "    <tr style=\"text-align: right;\">\n",
       "      <th></th>\n",
       "      <th>paper_id</th>\n",
       "      <th>doi</th>\n",
       "      <th>abstract</th>\n",
       "      <th>body_text</th>\n",
       "      <th>authors</th>\n",
       "      <th>title</th>\n",
       "      <th>journal</th>\n",
       "      <th>abstract_summary</th>\n",
       "    </tr>\n",
       "  </thead>\n",
       "  <tbody>\n",
       "    <tr>\n",
       "      <th>0</th>\n",
       "      <td>003d2e515e1aaf06f0052769953e861ed8e56608</td>\n",
       "      <td>NaN</td>\n",
       "      <td></td>\n",
       "      <td>It is highly contagious, and severe cases can ...</td>\n",
       "      <td>Shaoping Hu.  Yuan Gao.  Zhangming Niu.  Ying...</td>\n",
       "      <td>Weakly Supervised Deep Learning for COVID-19&lt;...</td>\n",
       "      <td>NaN</td>\n",
       "      <td>Not provided.</td>\n",
       "    </tr>\n",
       "    <tr>\n",
       "      <th>1</th>\n",
       "      <td>00a407540a8bdd6d7425bd8a561eb21d69682511</td>\n",
       "      <td>NaN</td>\n",
       "      <td>Rapidly developed AI-based automated CT image ...</td>\n",
       "      <td>• For Coronavirus patients the system outputs ...</td>\n",
       "      <td>Ophir Gozes.  Maayan Frid-Adar.  Hayit&lt;br&gt;Gre...</td>\n",
       "      <td>Rapid AI Development Cycle for the Coronaviru...</td>\n",
       "      <td>NaN</td>\n",
       "      <td>Rapidly developed AI-based automated CT image...</td>\n",
       "    </tr>\n",
       "    <tr>\n",
       "      <th>2</th>\n",
       "      <td>00c386ee8b9fac7eeb2291a72d52966d83eec814</td>\n",
       "      <td>NaN</td>\n",
       "      <td>It is shown that the evaporation rate of a liq...</td>\n",
       "      <td>It is shown that the evaporation rate of a liq...</td>\n",
       "      <td>P. Grinchuk S..  E. Fisenko I..  S. Fisenko P...</td>\n",
       "      <td>Isothermal evaporation rate of deposited&lt;br&gt;l...</td>\n",
       "      <td>NaN</td>\n",
       "      <td>It is shown that the evaporation rate of a li...</td>\n",
       "    </tr>\n",
       "    <tr>\n",
       "      <th>3</th>\n",
       "      <td>024b30561568979f525d8b2580f85122c02008a0</td>\n",
       "      <td>NaN</td>\n",
       "      <td>A model of reactive social distancing in epide...</td>\n",
       "      <td>Let the proportions of a population who are su...</td>\n",
       "      <td>Rose Baker</td>\n",
       "      <td>Reactive Social distancing in a SIR model of&lt;...</td>\n",
       "      <td>NaN</td>\n",
       "      <td>A model of reactive social distancing in&lt;br&gt;e...</td>\n",
       "    </tr>\n",
       "    <tr>\n",
       "      <th>4</th>\n",
       "      <td>02b3c0c87a6b32d5107a6e05f83f73cb7f939432</td>\n",
       "      <td>NaN</td>\n",
       "      <td>Large scale disease screening is a complicated...</td>\n",
       "      <td>In many cohort studies specimens collected fro...</td>\n",
       "      <td>Gregory Haber.  Yaakov Malinovsky.  Paul Albe...</td>\n",
       "      <td>Is Group Testing Ready for Prime-time in&lt;br&gt;D...</td>\n",
       "      <td>NaN</td>\n",
       "      <td>Large scale disease screening is a complicate...</td>\n",
       "    </tr>\n",
       "  </tbody>\n",
       "</table>\n",
       "</div>"
      ],
      "text/plain": [
       "                                   paper_id  doi  \\\n",
       "0  003d2e515e1aaf06f0052769953e861ed8e56608  NaN   \n",
       "1  00a407540a8bdd6d7425bd8a561eb21d69682511  NaN   \n",
       "2  00c386ee8b9fac7eeb2291a72d52966d83eec814  NaN   \n",
       "3  024b30561568979f525d8b2580f85122c02008a0  NaN   \n",
       "4  02b3c0c87a6b32d5107a6e05f83f73cb7f939432  NaN   \n",
       "\n",
       "                                            abstract  \\\n",
       "0                                                      \n",
       "1  Rapidly developed AI-based automated CT image ...   \n",
       "2  It is shown that the evaporation rate of a liq...   \n",
       "3  A model of reactive social distancing in epide...   \n",
       "4  Large scale disease screening is a complicated...   \n",
       "\n",
       "                                           body_text  \\\n",
       "0  It is highly contagious, and severe cases can ...   \n",
       "1  • For Coronavirus patients the system outputs ...   \n",
       "2  It is shown that the evaporation rate of a liq...   \n",
       "3  Let the proportions of a population who are su...   \n",
       "4  In many cohort studies specimens collected fro...   \n",
       "\n",
       "                                             authors  \\\n",
       "0   Shaoping Hu.  Yuan Gao.  Zhangming Niu.  Ying...   \n",
       "1   Ophir Gozes.  Maayan Frid-Adar.  Hayit<br>Gre...   \n",
       "2   P. Grinchuk S..  E. Fisenko I..  S. Fisenko P...   \n",
       "3                                         Rose Baker   \n",
       "4   Gregory Haber.  Yaakov Malinovsky.  Paul Albe...   \n",
       "\n",
       "                                               title journal  \\\n",
       "0   Weakly Supervised Deep Learning for COVID-19<...     NaN   \n",
       "1   Rapid AI Development Cycle for the Coronaviru...     NaN   \n",
       "2   Isothermal evaporation rate of deposited<br>l...     NaN   \n",
       "3   Reactive Social distancing in a SIR model of<...     NaN   \n",
       "4   Is Group Testing Ready for Prime-time in<br>D...     NaN   \n",
       "\n",
       "                                    abstract_summary  \n",
       "0                                      Not provided.  \n",
       "1   Rapidly developed AI-based automated CT image...  \n",
       "2   It is shown that the evaporation rate of a li...  \n",
       "3   A model of reactive social distancing in<br>e...  \n",
       "4   Large scale disease screening is a complicate...  "
      ]
     },
     "execution_count": 9,
     "metadata": {},
     "output_type": "execute_result"
    }
   ],
   "source": [
    "dict_ = {'paper_id': [], 'doi':[], 'abstract': [], 'body_text': [], 'authors': [], 'title': [], 'journal': [], 'abstract_summary': []}\n",
    "for idx, entry in enumerate(all_json):\n",
    "    if idx % (len(all_json) // 10) == 0:\n",
    "        print(f'Processing index: {idx} of {len(all_json)}')\n",
    "    \n",
    "    try:\n",
    "        content = FileReader(entry)\n",
    "    except Exception as e:\n",
    "        continue  # invalid paper format, skip\n",
    "    \n",
    "    # get metadata information\n",
    "    meta_data = meta_df.loc[meta_df['sha'] == content.paper_id]\n",
    "    # no metadata, skip this paper\n",
    "    if len(meta_data) == 0:\n",
    "        continue\n",
    "    \n",
    "    dict_['abstract'].append(content.abstract)\n",
    "    dict_['paper_id'].append(content.paper_id)\n",
    "    dict_['body_text'].append(content.body_text)\n",
    "    \n",
    "    # also create a column for the summary of abstract to be used in a plot\n",
    "    if len(content.abstract) == 0: \n",
    "        # no abstract provided\n",
    "        dict_['abstract_summary'].append(\"Not provided.\")\n",
    "    elif len(content.abstract.split(' ')) > 100:\n",
    "        # abstract provided is too long for plot, take first 100 words append with ...\n",
    "        info = content.abstract.split(' ')[:100]\n",
    "        summary = get_breaks(' '.join(info), 40)\n",
    "        dict_['abstract_summary'].append(summary + \"...\")\n",
    "    else:\n",
    "        # abstract is short enough\n",
    "        summary = get_breaks(content.abstract, 40)\n",
    "        dict_['abstract_summary'].append(summary)\n",
    "        \n",
    "    # get metadata information\n",
    "    meta_data = meta_df.loc[meta_df['sha'] == content.paper_id]\n",
    "    \n",
    "    try:\n",
    "        # if more than one author\n",
    "        authors = meta_data['authors'].values[0].split(';')\n",
    "        if len(authors) > 2:\n",
    "            # if more than 2 authors, take them all with html tag breaks in between\n",
    "            dict_['authors'].append(get_breaks('. '.join(authors), 40))\n",
    "        else:\n",
    "            # authors will fit in plot\n",
    "            dict_['authors'].append(\". \".join(authors))\n",
    "    except Exception as e:\n",
    "        # if only one author - or Null valie\n",
    "        dict_['authors'].append(meta_data['authors'].values[0])\n",
    "    \n",
    "    # add the title information, add breaks when needed\n",
    "    try:\n",
    "        title = get_breaks(meta_data['title'].values[0], 40)\n",
    "        dict_['title'].append(title)\n",
    "    # if title was not provided\n",
    "    except Exception as e:\n",
    "        dict_['title'].append(meta_data['title'].values[0])\n",
    "    \n",
    "    # add the journal information\n",
    "    dict_['journal'].append(meta_data['journal'].values[0])\n",
    "    \n",
    "    # add doi\n",
    "    dict_['doi'].append(meta_data['doi'].values[0])\n",
    "    \n",
    "df_covid = pd.DataFrame(dict_, columns=['paper_id', 'doi', 'abstract', 'body_text', 'authors', 'title', 'journal', 'abstract_summary'])\n",
    "df_covid.head()"
   ]
  },
  {
   "cell_type": "markdown",
   "metadata": {},
   "source": [
    "## Some feature engineering\n",
    "Adding word count columns for both abstract and body_text can be useful parameters later:"
   ]
  },
  {
   "cell_type": "code",
   "execution_count": 10,
   "metadata": {},
   "outputs": [
    {
     "data": {
      "text/html": [
       "<div>\n",
       "<style scoped>\n",
       "    .dataframe tbody tr th:only-of-type {\n",
       "        vertical-align: middle;\n",
       "    }\n",
       "\n",
       "    .dataframe tbody tr th {\n",
       "        vertical-align: top;\n",
       "    }\n",
       "\n",
       "    .dataframe thead th {\n",
       "        text-align: right;\n",
       "    }\n",
       "</style>\n",
       "<table border=\"1\" class=\"dataframe\">\n",
       "  <thead>\n",
       "    <tr style=\"text-align: right;\">\n",
       "      <th></th>\n",
       "      <th>paper_id</th>\n",
       "      <th>doi</th>\n",
       "      <th>abstract</th>\n",
       "      <th>body_text</th>\n",
       "      <th>authors</th>\n",
       "      <th>title</th>\n",
       "      <th>journal</th>\n",
       "      <th>abstract_summary</th>\n",
       "      <th>abstract_word_count</th>\n",
       "      <th>body_word_count</th>\n",
       "      <th>body_unique_words</th>\n",
       "    </tr>\n",
       "  </thead>\n",
       "  <tbody>\n",
       "    <tr>\n",
       "      <th>0</th>\n",
       "      <td>003d2e515e1aaf06f0052769953e861ed8e56608</td>\n",
       "      <td>NaN</td>\n",
       "      <td></td>\n",
       "      <td>It is highly contagious, and severe cases can ...</td>\n",
       "      <td>Shaoping Hu.  Yuan Gao.  Zhangming Niu.  Ying...</td>\n",
       "      <td>Weakly Supervised Deep Learning for COVID-19&lt;...</td>\n",
       "      <td>NaN</td>\n",
       "      <td>Not provided.</td>\n",
       "      <td>0</td>\n",
       "      <td>4007</td>\n",
       "      <td>1408</td>\n",
       "    </tr>\n",
       "    <tr>\n",
       "      <th>1</th>\n",
       "      <td>00a407540a8bdd6d7425bd8a561eb21d69682511</td>\n",
       "      <td>NaN</td>\n",
       "      <td>Rapidly developed AI-based automated CT image ...</td>\n",
       "      <td>• For Coronavirus patients the system outputs ...</td>\n",
       "      <td>Ophir Gozes.  Maayan Frid-Adar.  Hayit&lt;br&gt;Gre...</td>\n",
       "      <td>Rapid AI Development Cycle for the Coronaviru...</td>\n",
       "      <td>NaN</td>\n",
       "      <td>Rapidly developed AI-based automated CT image...</td>\n",
       "      <td>102</td>\n",
       "      <td>2060</td>\n",
       "      <td>819</td>\n",
       "    </tr>\n",
       "    <tr>\n",
       "      <th>2</th>\n",
       "      <td>00c386ee8b9fac7eeb2291a72d52966d83eec814</td>\n",
       "      <td>NaN</td>\n",
       "      <td>It is shown that the evaporation rate of a liq...</td>\n",
       "      <td>It is shown that the evaporation rate of a liq...</td>\n",
       "      <td>P. Grinchuk S..  E. Fisenko I..  S. Fisenko P...</td>\n",
       "      <td>Isothermal evaporation rate of deposited&lt;br&gt;l...</td>\n",
       "      <td>NaN</td>\n",
       "      <td>It is shown that the evaporation rate of a li...</td>\n",
       "      <td>119</td>\n",
       "      <td>3140</td>\n",
       "      <td>943</td>\n",
       "    </tr>\n",
       "    <tr>\n",
       "      <th>3</th>\n",
       "      <td>024b30561568979f525d8b2580f85122c02008a0</td>\n",
       "      <td>NaN</td>\n",
       "      <td>A model of reactive social distancing in epide...</td>\n",
       "      <td>Let the proportions of a population who are su...</td>\n",
       "      <td>Rose Baker</td>\n",
       "      <td>Reactive Social distancing in a SIR model of&lt;...</td>\n",
       "      <td>NaN</td>\n",
       "      <td>A model of reactive social distancing in&lt;br&gt;e...</td>\n",
       "      <td>53</td>\n",
       "      <td>952</td>\n",
       "      <td>426</td>\n",
       "    </tr>\n",
       "    <tr>\n",
       "      <th>4</th>\n",
       "      <td>02b3c0c87a6b32d5107a6e05f83f73cb7f939432</td>\n",
       "      <td>NaN</td>\n",
       "      <td>Large scale disease screening is a complicated...</td>\n",
       "      <td>In many cohort studies specimens collected fro...</td>\n",
       "      <td>Gregory Haber.  Yaakov Malinovsky.  Paul Albe...</td>\n",
       "      <td>Is Group Testing Ready for Prime-time in&lt;br&gt;D...</td>\n",
       "      <td>NaN</td>\n",
       "      <td>Large scale disease screening is a complicate...</td>\n",
       "      <td>1255</td>\n",
       "      <td>4439</td>\n",
       "      <td>1121</td>\n",
       "    </tr>\n",
       "  </tbody>\n",
       "</table>\n",
       "</div>"
      ],
      "text/plain": [
       "                                   paper_id  doi  \\\n",
       "0  003d2e515e1aaf06f0052769953e861ed8e56608  NaN   \n",
       "1  00a407540a8bdd6d7425bd8a561eb21d69682511  NaN   \n",
       "2  00c386ee8b9fac7eeb2291a72d52966d83eec814  NaN   \n",
       "3  024b30561568979f525d8b2580f85122c02008a0  NaN   \n",
       "4  02b3c0c87a6b32d5107a6e05f83f73cb7f939432  NaN   \n",
       "\n",
       "                                            abstract  \\\n",
       "0                                                      \n",
       "1  Rapidly developed AI-based automated CT image ...   \n",
       "2  It is shown that the evaporation rate of a liq...   \n",
       "3  A model of reactive social distancing in epide...   \n",
       "4  Large scale disease screening is a complicated...   \n",
       "\n",
       "                                           body_text  \\\n",
       "0  It is highly contagious, and severe cases can ...   \n",
       "1  • For Coronavirus patients the system outputs ...   \n",
       "2  It is shown that the evaporation rate of a liq...   \n",
       "3  Let the proportions of a population who are su...   \n",
       "4  In many cohort studies specimens collected fro...   \n",
       "\n",
       "                                             authors  \\\n",
       "0   Shaoping Hu.  Yuan Gao.  Zhangming Niu.  Ying...   \n",
       "1   Ophir Gozes.  Maayan Frid-Adar.  Hayit<br>Gre...   \n",
       "2   P. Grinchuk S..  E. Fisenko I..  S. Fisenko P...   \n",
       "3                                         Rose Baker   \n",
       "4   Gregory Haber.  Yaakov Malinovsky.  Paul Albe...   \n",
       "\n",
       "                                               title journal  \\\n",
       "0   Weakly Supervised Deep Learning for COVID-19<...     NaN   \n",
       "1   Rapid AI Development Cycle for the Coronaviru...     NaN   \n",
       "2   Isothermal evaporation rate of deposited<br>l...     NaN   \n",
       "3   Reactive Social distancing in a SIR model of<...     NaN   \n",
       "4   Is Group Testing Ready for Prime-time in<br>D...     NaN   \n",
       "\n",
       "                                    abstract_summary  abstract_word_count  \\\n",
       "0                                      Not provided.                    0   \n",
       "1   Rapidly developed AI-based automated CT image...                  102   \n",
       "2   It is shown that the evaporation rate of a li...                  119   \n",
       "3   A model of reactive social distancing in<br>e...                   53   \n",
       "4   Large scale disease screening is a complicate...                 1255   \n",
       "\n",
       "   body_word_count  body_unique_words  \n",
       "0             4007               1408  \n",
       "1             2060                819  \n",
       "2             3140                943  \n",
       "3              952                426  \n",
       "4             4439               1121  "
      ]
     },
     "execution_count": 10,
     "metadata": {},
     "output_type": "execute_result"
    }
   ],
   "source": [
    "df_covid['abstract_word_count'] = df_covid['abstract'].apply(lambda x: len(x.strip().split()))  # word count in abstract\n",
    "df_covid['body_word_count'] = df_covid['body_text'].apply(lambda x: len(x.strip().split()))  # word count in body\n",
    "df_covid['body_unique_words']=df_covid['body_text'].apply(lambda x:len(set(str(x).split())))  # number of unique words in body\n",
    "df_covid.head()"
   ]
  },
  {
   "cell_type": "code",
   "execution_count": 11,
   "metadata": {},
   "outputs": [
    {
     "name": "stdout",
     "output_type": "stream",
     "text": [
      "<class 'pandas.core.frame.DataFrame'>\n",
      "RangeIndex: 43331 entries, 0 to 43330\n",
      "Data columns (total 11 columns):\n",
      "paper_id               43331 non-null object\n",
      "doi                    42267 non-null object\n",
      "abstract               43331 non-null object\n",
      "body_text              43331 non-null object\n",
      "authors                42635 non-null object\n",
      "title                  43293 non-null object\n",
      "journal                39612 non-null object\n",
      "abstract_summary       43331 non-null object\n",
      "abstract_word_count    43331 non-null int64\n",
      "body_word_count        43331 non-null int64\n",
      "body_unique_words      43331 non-null int64\n",
      "dtypes: int64(3), object(8)\n",
      "memory usage: 3.6+ MB\n"
     ]
    }
   ],
   "source": [
    "df_covid.info()"
   ]
  },
  {
   "cell_type": "code",
   "execution_count": 12,
   "metadata": {},
   "outputs": [
    {
     "data": {
      "text/plain": [
       "count     43331\n",
       "unique    30960\n",
       "top            \n",
       "freq      12271\n",
       "Name: abstract, dtype: object"
      ]
     },
     "execution_count": 12,
     "metadata": {},
     "output_type": "execute_result"
    }
   ],
   "source": [
    "df_covid['abstract'].describe(include='all')"
   ]
  },
  {
   "cell_type": "markdown",
   "metadata": {},
   "source": [
    "## Load data from excel"
   ]
  },
  {
   "cell_type": "code",
   "execution_count": 15,
   "metadata": {},
   "outputs": [
    {
     "name": "stdout",
     "output_type": "stream",
     "text": [
      "kaggle/input/CORD-19-research-challenge//DSinLS-SS2020-List-peng.xlsx\n",
      "<bound method Book.sheet_names of <xlrd.book.Book object at 0x0000028F15B2FA58>>\n",
      "<xlrd.sheet.Sheet object at 0x0000028F15B4B828>\n",
      "{36864, 35842, 6149, 22026, 31253, 7707, 2589, 40483, 36390, 5173, 9272, 8249, 18502, 5705, 8792, 10845, 34404, 5225, 23147, 29294, 37489, 5746, 4728, 7800, 30841, 31866, 2182, 9865, 43158, 3223, 19096, 19607, 3735, 43168, 20641, 31906, 37033, 4266, 38059, 20652, 8374, 8378, 6340, 18629, 23749, 40650, 203, 11474, 11475, 18131, 27860, 31965, 24295, 42219, 15602, 763, 3841, 36104, 38665, 8465, 15633, 13075, 9492, 39189, 4886, 37140, 13590, 40210, 19740, 9502, 36639, 10016, 17183, 42782, 5924, 30502, 12077, 19758, 22831, 10548, 21818, 39740, 5437, 21309, 24896, 11074, 38729, 26448, 38230, 9051, 1374, 11625, 14698, 20846, 9073, 19830, 16759, 11146, 37775, 28562, 8092, 10141, 15262, 8110, 41393, 31671, 11704, 42937, 25021, 21442, 29125, 12231, 20425, 14283, 7118, 16849, 15828, 39382, 31711, 10720, 7651, 30693, 4076, 32764, 40433, 5107, 20470, 20473, 22012, 10749, 3070, 4095}\n",
      "total number of papers in excel: 181\n",
      "132 papers found.\n"
     ]
    }
   ],
   "source": [
    "import xlrd\n",
    "\n",
    "excel_path = f'{root_path}/DSinLS-SS2020-List-peng.xlsx'\n",
    "print(excel_path)\n",
    "\n",
    "#load titles from excel\n",
    "def read_excel():\n",
    "    wb = xlrd.open_workbook(filename=excel_path)\n",
    "    print(wb.sheet_names)\n",
    "    sheet = wb.sheet_by_index(0)\n",
    "    print(sheet)\n",
    "    titles = sheet.col_values(2)\n",
    "    return titles\n",
    "\n",
    "# find the corresponding papers from kaggle dataframe by full matching the title\n",
    "def find_papers(df, titles):\n",
    "    # use set to store indices of paper can remove duplicates\n",
    "    paper_indices = set()\n",
    "    lines = -1\n",
    "    for i in range(len(titles)):\n",
    "        if titles[i]:\n",
    "            lines += 1\n",
    "            title = get_breaks(titles[i], 40)\n",
    "            query_stm = 'title == \\'' + title + '\\''\n",
    "            #print(query_stm)\n",
    "            #print(titles[i])\n",
    "            #print(title)\n",
    "            res = df.query(query_stm)\n",
    "            # if corresponding record found, add its index into the set\n",
    "            if not res.empty:\n",
    "                ind = res.iloc[0].name\n",
    "                #print(ind)\n",
    "                paper_indices.add(ind)\n",
    "    return paper_indices, lines\n",
    "\n",
    "titles = read_excel()\n",
    "        \n",
    "paper_indices, lines = find_papers(df_covid, titles)    \n",
    "print(paper_indices)\n",
    "print(\"total number of papers in excel: \" + str(lines))\n",
    "print(str(len(paper_indices)) + \" papers found.\")"
   ]
  },
  {
   "cell_type": "markdown",
   "metadata": {},
   "source": [
    "# Data Pre-processing"
   ]
  },
  {
   "cell_type": "markdown",
   "metadata": {},
   "source": [
    "Unfortunately, running the next steps of the notebook is not possible on the full dataset within Kaggle. The full plot is available is at https://maksimekin.github.io/COVID19-Literature-Clustering/plots/t-sne_covid-19_interactive.html.\n",
    "\n",
    "In Kaggle we will limit the dataframe to **10,000** instances"
   ]
  },
  {
   "cell_type": "code",
   "execution_count": 17,
   "metadata": {},
   "outputs": [
    {
     "name": "stdout",
     "output_type": "stream",
     "text": [
      "(132, 11)\n"
     ]
    }
   ],
   "source": [
    "df = pd.DataFrame(columns=['paper_id', 'doi', 'abstract', 'body_text', 'authors', 'title', 'journal', 'abstract_summary'])\n",
    "for i in range(len(paper_indices)):\n",
    "    df = df.append(df_covid.iloc[i])\n",
    "print(df.shape)"
   ]
  },
  {
   "cell_type": "markdown",
   "metadata": {},
   "source": [
    "Now that we have our dataset loaded, we need to clean-up the text to improve any clustering or classification efforts. First, let's drop Null vales:"
   ]
  },
  {
   "cell_type": "code",
   "execution_count": 18,
   "metadata": {},
   "outputs": [
    {
     "name": "stdout",
     "output_type": "stream",
     "text": [
      "<class 'pandas.core.frame.DataFrame'>\n",
      "Int64Index: 132 entries, 0 to 131\n",
      "Data columns (total 11 columns):\n",
      "paper_id               132 non-null object\n",
      "doi                    6 non-null object\n",
      "abstract               132 non-null object\n",
      "body_text              132 non-null object\n",
      "authors                132 non-null object\n",
      "title                  132 non-null object\n",
      "journal                2 non-null object\n",
      "abstract_summary       132 non-null object\n",
      "abstract_word_count    132 non-null float64\n",
      "body_unique_words      132 non-null float64\n",
      "body_word_count        132 non-null float64\n",
      "dtypes: float64(3), object(8)\n",
      "memory usage: 12.4+ KB\n"
     ]
    }
   ],
   "source": [
    "#df.dropna(inplace=True)\n",
    "df.info()"
   ]
  },
  {
   "cell_type": "markdown",
   "metadata": {},
   "source": [
    "### Handling multiple languages\n",
    "Next we are going to determine the language of each paper in the dataframe. Not all of the sources are English and the language needs to be identified so that we know how handle these instances"
   ]
  },
  {
   "cell_type": "code",
   "execution_count": 19,
   "metadata": {},
   "outputs": [
    {
     "name": "stderr",
     "output_type": "stream",
     "text": [
      "100%|████████████████████████████████████████████████████████████████████████████████| 132/132 [00:02<00:00, 59.70it/s]\n"
     ]
    }
   ],
   "source": [
    "from tqdm import tqdm\n",
    "from langdetect import detect\n",
    "from langdetect import DetectorFactory\n",
    "\n",
    "# set seed\n",
    "DetectorFactory.seed = 0\n",
    "\n",
    "# hold label - language\n",
    "languages = []\n",
    "\n",
    "# go through each text\n",
    "for ii in tqdm(range(0,len(df))):\n",
    "    # split by space into list, take the first x intex, join with space\n",
    "    text = df.iloc[ii]['body_text'].split(\" \")\n",
    "    \n",
    "    lang = \"en\"\n",
    "    try:\n",
    "        if len(text) > 50:\n",
    "            lang = detect(\" \".join(text[:50]))\n",
    "        elif len(text) > 0:\n",
    "            lang = detect(\" \".join(text[:len(text)]))\n",
    "    # ught... beginning of the document was not in a good format\n",
    "    except Exception as e:\n",
    "        all_words = set(text)\n",
    "        try:\n",
    "            lang = detect(\" \".join(all_words))\n",
    "        # what!! :( let's see if we can find any text in abstract...\n",
    "        except Exception as e:\n",
    "            \n",
    "            try:\n",
    "                # let's try to label it through the abstract then\n",
    "                lang = detect(df.iloc[ii]['abstract_summary'])\n",
    "            except Exception as e:\n",
    "                lang = \"unknown\"\n",
    "                pass\n",
    "    \n",
    "    # get the language    \n",
    "    languages.append(lang)"
   ]
  },
  {
   "cell_type": "code",
   "execution_count": 20,
   "metadata": {},
   "outputs": [
    {
     "name": "stdout",
     "output_type": "stream",
     "text": [
      "Total: 132\n",
      "\n",
      "{'en': 131, 'es': 1}\n"
     ]
    }
   ],
   "source": [
    "from pprint import pprint\n",
    "\n",
    "languages_dict = {}\n",
    "for lang in set(languages):\n",
    "    languages_dict[lang] = languages.count(lang)\n",
    "    \n",
    "print(\"Total: {}\\n\".format(len(languages)))\n",
    "pprint(languages_dict)"
   ]
  },
  {
   "cell_type": "markdown",
   "metadata": {},
   "source": [
    "Lets take a look at the language distribution in the dataset"
   ]
  },
  {
   "cell_type": "code",
   "execution_count": 21,
   "metadata": {},
   "outputs": [
    {
     "data": {
      "image/png": "[encoded data removed]",
      "text/plain": [
       "<Figure size 432x288 with 1 Axes>"
      ]
     },
     "metadata": {
      "needs_background": "light"
     },
     "output_type": "display_data"
    }
   ],
   "source": [
    "df['language'] = languages\n",
    "plt.bar(range(len(languages_dict)), list(languages_dict.values()), align='center')\n",
    "plt.xticks(range(len(languages_dict)), list(languages_dict.keys()))\n",
    "plt.title(\"Distribution of Languages in Dataset\")\n",
    "plt.show()"
   ]
  },
  {
   "cell_type": "code",
   "execution_count": 22,
   "metadata": {},
   "outputs": [
    {
     "name": "stdout",
     "output_type": "stream",
     "text": [
      "<class 'pandas.core.frame.DataFrame'>\n",
      "Int64Index: 131 entries, 0 to 131\n",
      "Data columns (total 12 columns):\n",
      "paper_id               131 non-null object\n",
      "doi                    6 non-null object\n",
      "abstract               131 non-null object\n",
      "body_text              131 non-null object\n",
      "authors                131 non-null object\n",
      "title                  131 non-null object\n",
      "journal                2 non-null object\n",
      "abstract_summary       131 non-null object\n",
      "abstract_word_count    131 non-null float64\n",
      "body_unique_words      131 non-null float64\n",
      "body_word_count        131 non-null float64\n",
      "language               131 non-null object\n",
      "dtypes: float64(3), object(9)\n",
      "memory usage: 13.3+ KB\n"
     ]
    }
   ],
   "source": [
    "df = df[df['language'] == 'en'] \n",
    "df.info()"
   ]
  },
  {
   "cell_type": "code",
   "execution_count": 23,
   "metadata": {},
   "outputs": [],
   "source": [
    "# Download the spacy bio parser\n",
    "\n",
    "from IPython.utils import io\n",
    "with io.capture_output() as captured:\n",
    "    !pip install https://s3-us-west-2.amazonaws.com/ai2-s2-scispacy/releases/v0.2.4/en_core_sci_lg-0.2.4.tar.gz"
   ]
  },
  {
   "cell_type": "code",
   "execution_count": 24,
   "metadata": {},
   "outputs": [],
   "source": [
    "#NLP \n",
    "import spacy\n",
    "from spacy.lang.en.stop_words import STOP_WORDS\n",
    "import en_core_sci_lg  # model downloaded in previous step"
   ]
  },
  {
   "cell_type": "markdown",
   "metadata": {},
   "source": [
    "### Stopwords\n",
    "\n",
    "Part of the preprocessing will be finding and removing stopwords (common words that will act as noise in the clustering step)."
   ]
  },
  {
   "cell_type": "code",
   "execution_count": 25,
   "metadata": {},
   "outputs": [
    {
     "data": {
      "text/plain": [
       "['‘ll',\n",
       " 'through',\n",
       " 'become',\n",
       " \"'d\",\n",
       " 'towards',\n",
       " 'onto',\n",
       " 'am',\n",
       " 'though',\n",
       " 'him',\n",
       " 'between']"
      ]
     },
     "execution_count": 25,
     "metadata": {},
     "output_type": "execute_result"
    }
   ],
   "source": [
    "import string\n",
    "\n",
    "punctuations = string.punctuation\n",
    "stopwords = list(STOP_WORDS)\n",
    "stopwords[:10]"
   ]
  },
  {
   "cell_type": "code",
   "execution_count": 26,
   "metadata": {},
   "outputs": [],
   "source": [
    "custom_stop_words = [\n",
    "    'doi', 'preprint', 'copyright', 'peer', 'reviewed', 'org', 'https', 'et', 'al', 'author', 'figure', \n",
    "    'rights', 'reserved', 'permission', 'used', 'using', 'biorxiv', 'medrxiv', 'license', 'fig', 'fig.', \n",
    "    'al.', 'Elsevier', 'PMC', 'CZI', 'www'\n",
    "]\n",
    "\n",
    "for w in custom_stop_words:\n",
    "    if w not in stopwords:\n",
    "        stopwords.append(w)"
   ]
  },
  {
   "cell_type": "markdown",
   "metadata": {},
   "source": [
    "### Next lets create a function that will process the text data for us. \n",
    "For this purpose we will be using the spacy library. This function will convert text to lower case, remove punctuation, and find and remove stopwords. For the parser, we will use en_core_sci_lg. This is a model for processing biomedical, scientific or clinical text."
   ]
  },
  {
   "cell_type": "code",
   "execution_count": 27,
   "metadata": {},
   "outputs": [],
   "source": [
    "# Parser\n",
    "parser = en_core_sci_lg.load(disable=[\"tagger\", \"ner\"])\n",
    "parser.max_length = 7000000\n",
    "\n",
    "def spacy_tokenizer(sentence):\n",
    "    mytokens = parser(sentence)\n",
    "    mytokens = [ word.lemma_.lower().strip() if word.lemma_ != \"-PRON-\" else word.lower_ for word in mytokens ]\n",
    "    mytokens = [ word for word in mytokens if word not in stopwords and word not in punctuations ]\n",
    "    mytokens = \" \".join([i for i in mytokens])\n",
    "    return mytokens"
   ]
  },
  {
   "cell_type": "markdown",
   "metadata": {},
   "source": [
    "Applying the text-processing function on the **body_text**. "
   ]
  },
  {
   "cell_type": "code",
   "execution_count": 28,
   "metadata": {},
   "outputs": [
    {
     "name": "stderr",
     "output_type": "stream",
     "text": [
      "100%|████████████████████████████████████████████████████████████████████████████████| 131/131 [00:48<00:00,  2.69it/s]\n"
     ]
    }
   ],
   "source": [
    "tqdm.pandas()\n",
    "df[\"processed_text\"] = df[\"body_text\"].progress_apply(spacy_tokenizer)"
   ]
  },
  {
   "cell_type": "markdown",
   "metadata": {},
   "source": [
    "### Let's take a look at word count in the papers"
   ]
  },
  {
   "cell_type": "code",
   "execution_count": 29,
   "metadata": {},
   "outputs": [],
   "source": [
    "import seaborn as sns"
   ]
  },
  {
   "cell_type": "code",
   "execution_count": 30,
   "metadata": {},
   "outputs": [
    {
     "name": "stderr",
     "output_type": "stream",
     "text": [
      "D:\\Anaconda3\\lib\\site-packages\\scipy\\stats\\stats.py:1713: FutureWarning: Using a non-tuple sequence for multidimensional indexing is deprecated; use `arr[tuple(seq)]` instead of `arr[seq]`. In the future this will be interpreted as an array index, `arr[np.array(seq)]`, which will result either in an error or a different result.\n",
      "  return np.add.reduce(sorted[indexer] * weights, axis=axis) / sumval\n"
     ]
    },
    {
     "data": {
      "text/plain": [
       "count      131.000000\n",
       "mean      3754.183206\n",
       "std       2299.693959\n",
       "min        205.000000\n",
       "25%       2067.000000\n",
       "50%       3406.000000\n",
       "75%       4632.500000\n",
       "max      12192.000000\n",
       "Name: body_word_count, dtype: float64"
      ]
     },
     "execution_count": 30,
     "metadata": {},
     "output_type": "execute_result"
    },
    {
     "data": {
      "image/png": "[encoded data removed]",
      "text/plain": [
       "<Figure size 432x288 with 1 Axes>"
      ]
     },
     "metadata": {
      "needs_background": "light"
     },
     "output_type": "display_data"
    }
   ],
   "source": [
    "sns.distplot(df['body_word_count'])\n",
    "df['body_word_count'].describe()"
   ]
  },
  {
   "cell_type": "code",
   "execution_count": 31,
   "metadata": {},
   "outputs": [
    {
     "data": {
      "text/plain": [
       "count     131.000000\n",
       "mean     1113.564885\n",
       "std       495.877654\n",
       "min       117.000000\n",
       "25%       724.500000\n",
       "50%      1032.000000\n",
       "75%      1402.500000\n",
       "max      2773.000000\n",
       "Name: body_unique_words, dtype: float64"
      ]
     },
     "execution_count": 31,
     "metadata": {},
     "output_type": "execute_result"
    },
    {
     "data": {
      "image/png": "[encoded data removed]",
      "text/plain": [
       "<Figure size 432x288 with 1 Axes>"
      ]
     },
     "metadata": {
      "needs_background": "light"
     },
     "output_type": "display_data"
    }
   ],
   "source": [
    "sns.distplot(df['body_unique_words'])\n",
    "df['body_unique_words'].describe()"
   ]
  },
  {
   "cell_type": "markdown",
   "metadata": {},
   "source": [
    "# Vectorization\n",
    "\n",
    "Now that we have pre-processed the data, it is time to convert it into a format that can be handled by our algorithms. For this purpose we will be using tf-idf. This will convert our string formatted data into a measure of how important each word is to the instance out of the literature as a whole."
   ]
  },
  {
   "cell_type": "code",
   "execution_count": 32,
   "metadata": {},
   "outputs": [],
   "source": [
    "from sklearn.feature_extraction.text import TfidfVectorizer\n",
    "def vectorize(text, maxx_features):\n",
    "    \n",
    "    vectorizer = TfidfVectorizer(max_features=maxx_features)\n",
    "    X = vectorizer.fit_transform(text)\n",
    "    return X"
   ]
  },
  {
   "cell_type": "markdown",
   "metadata": {},
   "source": [
    "Vectorize our data. We will be clustering based off the content of the body text. The maximum number of features will be limited. Only the top 2 ** 12 features will be used, eseentially acting as a noise filter. Additionally, more features cause painfully long runtimes."
   ]
  },
  {
   "cell_type": "code",
   "execution_count": 33,
   "metadata": {},
   "outputs": [
    {
     "data": {
      "text/plain": [
       "(131, 4096)"
      ]
     },
     "execution_count": 33,
     "metadata": {},
     "output_type": "execute_result"
    }
   ],
   "source": [
    "text = df['processed_text'].values\n",
    "X = vectorize(text, 2 ** 12)\n",
    "X.shape"
   ]
  },
  {
   "cell_type": "markdown",
   "metadata": {},
   "source": [
    "# PCA  & Clustering\n",
    "\n",
    "Let's see how much we can reduce the dimensions while still keeping 95% variance. We will apply Principle Component Analysis (PCA) to our vectorized data. The reason for this is that by keeping a large number of dimensions with PCA, you don’t destroy much of the information, but hopefully will remove some noise/outliers from the data, and make the clustering problem easier for k-means. Note that X_reduced will only be used for k-means, t-SNE will still use the original feature vector X that was generated through tf-idf on the NLP processed text.\n",
    "\n",
    "(Thank you Dr. Edward Raff for the suggestion)"
   ]
  },
  {
   "cell_type": "code",
   "execution_count": 34,
   "metadata": {},
   "outputs": [
    {
     "data": {
      "text/plain": [
       "(131, 116)"
      ]
     },
     "execution_count": 34,
     "metadata": {},
     "output_type": "execute_result"
    }
   ],
   "source": [
    "from sklearn.decomposition import PCA\n",
    "\n",
    "pca = PCA(n_components=0.95, random_state=42)\n",
    "X_reduced= pca.fit_transform(X.toarray())\n",
    "X_reduced.shape"
   ]
  },
  {
   "cell_type": "code",
   "execution_count": 35,
   "metadata": {},
   "outputs": [],
   "source": [
    "from sklearn.cluster import KMeans"
   ]
  },
  {
   "cell_type": "markdown",
   "metadata": {},
   "source": [
    "### How many clusters? \n",
    "\n",
    "To find the best k value for k-means we'll look at the distortion at different k values. Distortion computes the sum of squared distances from each point to its assigned center. When distortion is plotted against k there will be a k value after which decreases in distortion are minimal. This is the desired number of clusters."
   ]
  },
  {
   "cell_type": "code",
   "execution_count": 37,
   "metadata": {},
   "outputs": [],
   "source": [
    "from sklearn import metrics\n",
    "from scipy.spatial.distance import cdist\n",
    "\n",
    "# run kmeans with many different k\n",
    "distortions = []\n",
    "K = range(2, 50)\n",
    "for k in K:\n",
    "    k_means = KMeans(n_clusters=k, random_state=42).fit(X_reduced)\n",
    "    k_means.fit(X_reduced)\n",
    "    distortions.append(sum(np.min(cdist(X_reduced, k_means.cluster_centers_, 'euclidean'), axis=1)) / X.shape[0])\n",
    "    #print('Found distortion for {} clusters'.format(k))"
   ]
  },
  {
   "cell_type": "code",
   "execution_count": 38,
   "metadata": {
    "scrolled": true
   },
   "outputs": [
    {
     "data": {
      "image/png": "[encoded data removed]",
      "text/plain": [
       "<Figure size 432x288 with 1 Axes>"
      ]
     },
     "metadata": {
      "needs_background": "light"
     },
     "output_type": "display_data"
    }
   ],
   "source": [
    "X_line = [K[0], K[-1]]\n",
    "Y_line = [distortions[0], distortions[-1]]\n",
    "\n",
    "# Plot the elbow\n",
    "plt.plot(K, distortions, 'b-')\n",
    "plt.plot(X_line, Y_line, 'r')\n",
    "plt.xlabel('k')\n",
    "plt.ylabel('Distortion')\n",
    "plt.title('The Elbow Method showing the optimal k')\n",
    "plt.show()"
   ]
  },
  {
   "cell_type": "markdown",
   "metadata": {},
   "source": [
    "Simply take k = 8"
   ]
  },
  {
   "cell_type": "markdown",
   "metadata": {},
   "source": [
    "### Run k-means"
   ]
  },
  {
   "cell_type": "markdown",
   "metadata": {},
   "source": [
    "Now that we have an appropriate k value, we can run k-means on the PCA-processed feature vector (X_reduced). "
   ]
  },
  {
   "cell_type": "code",
   "execution_count": 39,
   "metadata": {},
   "outputs": [],
   "source": [
    "k = 8 \n",
    "kmeans = KMeans(n_clusters=k, random_state=42)\n",
    "y_pred = kmeans.fit_predict(X_reduced)\n",
    "df['y'] = y_pred"
   ]
  },
  {
   "cell_type": "markdown",
   "metadata": {},
   "source": [
    "# Dimensionality Reduction with t-SNE"
   ]
  },
  {
   "cell_type": "markdown",
   "metadata": {},
   "source": [
    "Using [t-SNE](https://lvdmaaten.github.io/tsne) we can reduce our high dimensional features vector to 2 dimensions. By using the 2 dimensions as x,y coordinates, the body_text can be plotted. \n",
    "\n",
    "> t-Distributed Stochastic Neighbor Embedding (t-SNE) reduces dimensionality while trying to keep similar instances close and dissimilar instances apart. It is mostly used for visualization, in particular to visualize clusters of instances in high-dimensional space\n",
    "> #### Cite: [Hands-On Machine Learning with Scikit-Learn, Keras & TensorFlow: Second Edition | Aurélien Geron](https://github.com/ageron/handson-ml2)"
   ]
  },
  {
   "cell_type": "code",
   "execution_count": 40,
   "metadata": {},
   "outputs": [
    {
     "name": "stdout",
     "output_type": "stream",
     "text": [
      "[t-SNE] Computing 130 nearest neighbors...\n",
      "[t-SNE] Indexed 131 samples in 0.001s...\n",
      "[t-SNE] Computed neighbors for 131 samples in 0.125s...\n",
      "[t-SNE] Computed conditional probabilities for sample 131 / 131\n",
      "[t-SNE] Mean sigma: 0.430470\n",
      "[t-SNE] KL divergence after 250 iterations with early exaggeration: 43.131107\n",
      "[t-SNE] KL divergence after 900 iterations: 0.117396\n"
     ]
    }
   ],
   "source": [
    "from sklearn.manifold import TSNE\n",
    "\n",
    "tsne = TSNE(verbose=1, perplexity=100, random_state=42)\n",
    "X_embedded = tsne.fit_transform(X.toarray())"
   ]
  },
  {
   "cell_type": "markdown",
   "metadata": {},
   "source": [
    "So that step took a while! Let's take a look at what our data looks like when compressed to 2 dimensions. "
   ]
  },
  {
   "cell_type": "code",
   "execution_count": 87,
   "metadata": {},
   "outputs": [
    {
     "data": {
      "image/png": "[encoded data removed]",
      "text/plain": [
       "<Figure size 1080x1080 with 1 Axes>"
      ]
     },
     "metadata": {},
     "output_type": "display_data"
    }
   ],
   "source": [
    "from matplotlib import pyplot as plt\n",
    "import seaborn as sns\n",
    "\n",
    "# sns settings\n",
    "sns.set(rc={'figure.figsize':(15,15)})\n",
    "\n",
    "# colors\n",
    "palette = sns.color_palette(\"bright\", 1)\n",
    "\n",
    "# plot\n",
    "sns.scatterplot(X_embedded[:,0], X_embedded[:,1], palette=palette)\n",
    "plt.title('t-SNE with no Labels')\n",
    "plt.savefig(\"t-sne_covid19.png\")\n",
    "plt.show()"
   ]
  },
  {
   "cell_type": "markdown",
   "metadata": {},
   "source": [
    "This looks pretty bland. There are some clusters we can immediately detect, but the many instances closer to the center are harder to separate. t-SNE did a good job at reducing the dimensionality, but now we need some labels. Let's use the clusters found by k-means as labels. This will help visually separate different concentrations of topics."
   ]
  },
  {
   "cell_type": "code",
   "execution_count": 86,
   "metadata": {},
   "outputs": [
    {
     "data": {
      "image/png": "[encoded data removed]",
      "text/plain": [
       "<Figure size 1080x1080 with 1 Axes>"
      ]
     },
     "metadata": {},
     "output_type": "display_data"
    }
   ],
   "source": [
    "%matplotlib inline\n",
    "from matplotlib import pyplot as plt\n",
    "import seaborn as sns\n",
    "\n",
    "# sns settings\n",
    "sns.set(rc={'figure.figsize':(15,15)})\n",
    "\n",
    "# colors \n",
    "# change color from 20 to 8\n",
    "palette = sns.hls_palette(8, l=.4, s=.9)\n",
    "\n",
    "# plot\n",
    "sns.scatterplot(X_embedded[:,0], X_embedded[:,1], hue=y_pred, legend='full', palette=palette)\n",
    "plt.title('t-SNE with Kmeans Labels')\n",
    "plt.savefig(\"improved_cluster_tsne.png\")\n",
    "plt.show()"
   ]
  },
  {
   "cell_type": "markdown",
   "metadata": {},
   "source": [
    "The labeled plot gives better insight into how the papers are grouped. It is interesting that both k-means and t-SNE are able to agree on certain clusters even though they were ran independetly. The location of each paper on the plot was determined by t-SNE while the label (color) was determined by k-means. If we look at a particular part of the plot where t-SNE has grouped many articles forming a cluster, it is likely that k-means is uniform in the labeling of this cluster (most of the cluster is the same color). This behavior shows that structure within the literature can be observed and measured to some extent. \n",
    "\n",
    "Now there are other cases where the colored labels (k-means) are spread out on the plot (t-SNE). This is a result of t-SNE and k-means finding different connections in the higher dimensional data. The topics of these papers often intersect so it hard to cleanly separate them. This effect can be observed in the formation of subclusters on the plot. These subclusters are a conglomeration of different k-means labels but may share some connection determined by t-SNE.\n",
    "\n",
    "This organization of the data does not act as a simple search engine. The clustering + dimensionality reduction is performed on the mathematical similarities of the publications. As an unsupervised approach, the algorithms may even find connections that were unnaparent to humans. This may highlight hidden shared information and advance further research.\n"
   ]
  },
  {
   "cell_type": "markdown",
   "metadata": {},
   "source": [
    "# Topic Modeling on Each Cluster\n",
    "\n",
    "Now we will attempt to find the most significant words in each clusters. K-means clustered the articles but did not label the topics. Through topic modeling we will find out what the most important terms for each cluster are. This will add more meaning to the cluster by giving keywords to quickly identify the themes of the cluster."
   ]
  },
  {
   "cell_type": "markdown",
   "metadata": {},
   "source": [
    "For topic modeling, we will use LDA (Latent Dirichlet Allocation). In LDA, each document can be described by a distribution of topics and each topic can be described by a distribution of words[.](https://towardsdatascience.com/light-on-math-machine-learning-intuitive-guide-to-latent-dirichlet-allocation-437c81220158)"
   ]
  },
  {
   "cell_type": "code",
   "execution_count": 43,
   "metadata": {},
   "outputs": [],
   "source": [
    "from sklearn.decomposition import LatentDirichletAllocation\n",
    "from sklearn.feature_extraction.text import CountVectorizer"
   ]
  },
  {
   "cell_type": "code",
   "execution_count": 44,
   "metadata": {
    "scrolled": true
   },
   "outputs": [
    {
     "data": {
      "image/jpeg": "[encoded data removed]",
      "text/plain": [
       "<IPython.core.display.Image object>"
      ]
     },
     "execution_count": 44,
     "metadata": {
      "image/jpeg": {
       "height": 600,
       "width": 600
      }
     },
     "output_type": "execute_result"
    }
   ],
   "source": [
    "Image(filename='kaggle/input/kaggle-resources/lda.jpg', width=600, height=600)"
   ]
  },
  {
   "cell_type": "markdown",
   "metadata": {},
   "source": [
    "[source](https://towardsdatascience.com/latent-dirichlet-allocation-15800c852699)"
   ]
  },
  {
   "cell_type": "markdown",
   "metadata": {},
   "source": [
    "First we will create 8 vectorizers, one for each of our cluster labels"
   ]
  },
  {
   "cell_type": "code",
   "execution_count": 45,
   "metadata": {},
   "outputs": [],
   "source": [
    "vectorizers = []\n",
    "    \n",
    "for ii in range(0, 8):\n",
    "    # Creating a vectorizer\n",
    "    vectorizers.append(CountVectorizer(min_df=5, max_df=0.9, stop_words='english', lowercase=True, token_pattern='[a-zA-Z\\-][a-zA-Z\\-]{2,}'))"
   ]
  },
  {
   "cell_type": "code",
   "execution_count": 46,
   "metadata": {},
   "outputs": [
    {
     "data": {
      "text/plain": [
       "CountVectorizer(analyzer='word', binary=False, decode_error='strict',\n",
       "        dtype=<class 'numpy.int64'>, encoding='utf-8', input='content',\n",
       "        lowercase=True, max_df=0.9, max_features=None, min_df=5,\n",
       "        ngram_range=(1, 1), preprocessor=None, stop_words='english',\n",
       "        strip_accents=None, token_pattern='[a-zA-Z\\\\-][a-zA-Z\\\\-]{2,}',\n",
       "        tokenizer=None, vocabulary=None)"
      ]
     },
     "execution_count": 46,
     "metadata": {},
     "output_type": "execute_result"
    }
   ],
   "source": [
    "vectorizers[0]"
   ]
  },
  {
   "cell_type": "markdown",
   "metadata": {},
   "source": [
    "Now we will vectorize the data from each of our clusters"
   ]
  },
  {
   "cell_type": "code",
   "execution_count": 47,
   "metadata": {},
   "outputs": [],
   "source": [
    "vectorized_data = []\n",
    "\n",
    "for current_cluster, cvec in enumerate(vectorizers):\n",
    "    try:\n",
    "        vectorized_data.append(cvec.fit_transform(df.loc[df['y'] == current_cluster, 'processed_text']))\n",
    "    except Exception as e:\n",
    "        print(\"Not enough instances in cluster: \" + str(current_cluster))\n",
    "        vectorized_data.append(None)"
   ]
  },
  {
   "cell_type": "code",
   "execution_count": 48,
   "metadata": {},
   "outputs": [
    {
     "data": {
      "text/plain": [
       "8"
      ]
     },
     "execution_count": 48,
     "metadata": {},
     "output_type": "execute_result"
    }
   ],
   "source": [
    "len(vectorized_data)"
   ]
  },
  {
   "cell_type": "markdown",
   "metadata": {},
   "source": [
    "Topic modeling will be performed through the use of Latent Dirichlet Allocation (LDA). This is a generative statistical model that allows sets of words to be explained by a shared topic"
   ]
  },
  {
   "cell_type": "code",
   "execution_count": 49,
   "metadata": {},
   "outputs": [
    {
     "data": {
      "text/plain": [
       "LatentDirichletAllocation(batch_size=128, doc_topic_prior=None,\n",
       "             evaluate_every=-1, learning_decay=0.7,\n",
       "             learning_method='online', learning_offset=10.0,\n",
       "             max_doc_update_iter=100, max_iter=10, mean_change_tol=0.001,\n",
       "             n_components=8, n_jobs=None, n_topics=None, perp_tol=0.1,\n",
       "             random_state=42, topic_word_prior=None,\n",
       "             total_samples=1000000.0, verbose=False)"
      ]
     },
     "execution_count": 49,
     "metadata": {},
     "output_type": "execute_result"
    }
   ],
   "source": [
    "# number of topics per cluster\n",
    "NUM_TOPICS_PER_CLUSTER = 8\n",
    "\n",
    "lda_models = []\n",
    "for ii in range(0, 8):\n",
    "    # Latent Dirichlet Allocation Model\n",
    "    lda = LatentDirichletAllocation(n_components=NUM_TOPICS_PER_CLUSTER, max_iter=10, learning_method='online',verbose=False, random_state=42)\n",
    "    lda_models.append(lda)\n",
    "    \n",
    "lda_models[0]"
   ]
  },
  {
   "cell_type": "markdown",
   "metadata": {},
   "source": [
    "For each cluster, we had created a correspoding LDA model in the previous step. We will now fit_transform all the LDA models on their respective cluster vectors"
   ]
  },
  {
   "cell_type": "code",
   "execution_count": 50,
   "metadata": {},
   "outputs": [],
   "source": [
    "clusters_lda_data = []\n",
    "\n",
    "for current_cluster, lda in enumerate(lda_models):\n",
    "    # print(\"Current Cluster: \" + str(current_cluster))\n",
    "    \n",
    "    if vectorized_data[current_cluster] != None:\n",
    "        clusters_lda_data.append((lda.fit_transform(vectorized_data[current_cluster])))"
   ]
  },
  {
   "cell_type": "markdown",
   "metadata": {},
   "source": [
    "Extracts the keywords from each cluster"
   ]
  },
  {
   "cell_type": "code",
   "execution_count": 51,
   "metadata": {},
   "outputs": [],
   "source": [
    "# Functions for printing keywords for each topic\n",
    "def selected_topics(model, vectorizer, top_n=3):\n",
    "    current_words = []\n",
    "    keywords = []\n",
    "    \n",
    "    for idx, topic in enumerate(model.components_):\n",
    "        words = [(vectorizer.get_feature_names()[i], topic[i]) for i in topic.argsort()[:-top_n - 1:-1]]\n",
    "        for word in words:\n",
    "            if word[0] not in current_words:\n",
    "                keywords.append(word)\n",
    "                current_words.append(word[0])\n",
    "                \n",
    "    keywords.sort(key = lambda x: x[1])  \n",
    "    keywords.reverse()\n",
    "    return_values = []\n",
    "    for ii in keywords:\n",
    "        return_values.append(ii[0])\n",
    "    return return_values"
   ]
  },
  {
   "cell_type": "markdown",
   "metadata": {},
   "source": [
    "Append list of keywords for a single cluster to 2D list of length NUM_TOPICS_PER_CLUSTER"
   ]
  },
  {
   "cell_type": "code",
   "execution_count": 52,
   "metadata": {},
   "outputs": [],
   "source": [
    "all_keywords = []\n",
    "for current_vectorizer, lda in enumerate(lda_models):\n",
    "    # print(\"Current Cluster: \" + str(current_vectorizer))\n",
    "\n",
    "    if vectorized_data[current_vectorizer] != None:\n",
    "        all_keywords.append(selected_topics(lda, vectorizers[current_vectorizer]))"
   ]
  },
  {
   "cell_type": "code",
   "execution_count": 53,
   "metadata": {},
   "outputs": [
    {
     "data": {
      "text/plain": [
       "['day',\n",
       " 'state',\n",
       " 'immunity',\n",
       " 'social',\n",
       " 'change',\n",
       " 'epidemic',\n",
       " 'consider',\n",
       " 'discrepancy',\n",
       " 'option',\n",
       " 'stochastic']"
      ]
     },
     "execution_count": 53,
     "metadata": {},
     "output_type": "execute_result"
    }
   ],
   "source": [
    "all_keywords[0][:10]"
   ]
  },
  {
   "cell_type": "code",
   "execution_count": 54,
   "metadata": {},
   "outputs": [
    {
     "data": {
      "text/plain": [
       "8"
      ]
     },
     "execution_count": 54,
     "metadata": {},
     "output_type": "execute_result"
    }
   ],
   "source": [
    "len(all_keywords)"
   ]
  },
  {
   "cell_type": "markdown",
   "metadata": {},
   "source": [
    "### Save current outputs to file\n",
    "\n",
    "Re-running some parts of the notebook (especially vectorization and t-SNE) are time intensive tasks. We want to make sure that the important outputs for generating the bokeh plot are saved for future use."
   ]
  },
  {
   "cell_type": "code",
   "execution_count": 71,
   "metadata": {},
   "outputs": [],
   "source": [
    "f=open('topics.txt','w')\n",
    "\n",
    "count = 0\n",
    "\n",
    "for ii in all_keywords:\n",
    "\n",
    "    if vectorized_data[count] != None:\n",
    "        f.write(', '.join(ii) + \"\\n\")\n",
    "    else:\n",
    "        f.write(\"Not enough instances to be determined. \\n\")\n",
    "        f.write(', '.join(ii) + \"\\n\")\n",
    "    count += 1\n",
    "\n",
    "f.close()"
   ]
  },
  {
   "cell_type": "code",
   "execution_count": 72,
   "metadata": {},
   "outputs": [],
   "source": [
    "import pickle\n",
    "\n",
    "# save the COVID-19 DataFrame, too large for github\n",
    "pickle.dump(df, open(\"df_covid.p\", \"wb\" ))\n",
    "\n",
    "# save the final t-SNE\n",
    "pickle.dump(X_embedded, open(\"X_embedded.p\", \"wb\" ))\n",
    "\n",
    "# save the labels generate with k-means(20)\n",
    "pickle.dump(y_pred, open(\"y_pred.p\", \"wb\" ))"
   ]
  },
  {
   "cell_type": "markdown",
   "metadata": {},
   "source": [
    "# Classify\n",
    "\n",
    "Though arbitrary, after running kmeans, the data is now 'labeled'. This means that we now use supervised learning to see how well the clustering generalizes. This is just one way to evaluate the clustering. If k-means was able to find a meaningful split in the data, it should be possible to train a classifier to predict which cluster a given instance should belong to. "
   ]
  },
  {
   "cell_type": "code",
   "execution_count": 73,
   "metadata": {},
   "outputs": [],
   "source": [
    "# function to print out classification model report\n",
    "def classification_report(model_name, test, pred):\n",
    "    from sklearn.metrics import precision_score, recall_score\n",
    "    from sklearn.metrics import accuracy_score\n",
    "    from sklearn.metrics import f1_score\n",
    "    \n",
    "    print(model_name, \":\\n\")\n",
    "    print(\"Accuracy Score: \", '{:,.3f}'.format(float(accuracy_score(test, pred)) * 100), \"%\")\n",
    "    print(\"     Precision: \", '{:,.3f}'.format(float(precision_score(test, pred, average='macro')) * 100), \"%\")\n",
    "    print(\"        Recall: \", '{:,.3f}'.format(float(recall_score(test, pred, average='macro')) * 100), \"%\")\n",
    "    print(\"      F1 score: \", '{:,.3f}'.format(float(f1_score(test, pred, average='macro')) * 100), \"%\")"
   ]
  },
  {
   "cell_type": "markdown",
   "metadata": {},
   "source": [
    "Let's split the data into train/test sets"
   ]
  },
  {
   "cell_type": "code",
   "execution_count": 74,
   "metadata": {},
   "outputs": [
    {
     "name": "stdout",
     "output_type": "stream",
     "text": [
      "X_train size: 104\n",
      "X_test size: 27 \n",
      "\n"
     ]
    }
   ],
   "source": [
    "from sklearn.model_selection import train_test_split\n",
    "\n",
    "# test set size of 20% of the data and the random seed 42 <3\n",
    "X_train, X_test, y_train, y_test = train_test_split(X.toarray(),y_pred, test_size=0.2, random_state=42)\n",
    "\n",
    "print(\"X_train size:\", len(X_train))\n",
    "print(\"X_test size:\", len(X_test), \"\\n\")"
   ]
  },
  {
   "cell_type": "markdown",
   "metadata": {},
   "source": [
    "**Precision** is ratio of True Positives to True Positives + False Positives. This is the accuracy of positive predictions<br>\n",
    "**Recall** (also known as TPR) measures the ratio of True Positives to True Positives + False Negatives. It measures the ratio of positive instances that are correctly detected by the classifer.<br>\n",
    "**F1 score**  is the harmonic average of the precision and recall. F1 score will only be high if both precision and recall are high\n",
    "\n",
    "#### Cite: [Hands-On Machine Learning with Scikit-Learn, Keras & TensorFlow: Second Edition | Aurélien Geron](https://github.com/ageron/handson-ml2) "
   ]
  },
  {
   "cell_type": "code",
   "execution_count": 75,
   "metadata": {},
   "outputs": [
    {
     "name": "stdout",
     "output_type": "stream",
     "text": [
      "Stochastic Gradient Descent Report (Training Set) :\n",
      "\n",
      "Accuracy Score:  62.500 %\n",
      "     Precision:  60.472 %\n",
      "        Recall:  51.146 %\n",
      "      F1 score:  51.805 %\n"
     ]
    },
    {
     "name": "stderr",
     "output_type": "stream",
     "text": [
      "D:\\Anaconda3\\lib\\site-packages\\sklearn\\metrics\\classification.py:1143: UndefinedMetricWarning: Precision is ill-defined and being set to 0.0 in labels with no predicted samples.\n",
      "  'precision', 'predicted', average, warn_for)\n",
      "D:\\Anaconda3\\lib\\site-packages\\sklearn\\metrics\\classification.py:1143: UndefinedMetricWarning: F-score is ill-defined and being set to 0.0 in labels with no predicted samples.\n",
      "  'precision', 'predicted', average, warn_for)\n"
     ]
    }
   ],
   "source": [
    "from sklearn.model_selection import cross_val_score\n",
    "from sklearn.model_selection import cross_val_predict\n",
    "from sklearn.linear_model import SGDClassifier\n",
    "\n",
    "# SGD instance\n",
    "sgd_clf = SGDClassifier(max_iter=10000, tol=1e-3, random_state=42, n_jobs=4)\n",
    "# train SGD\n",
    "sgd_clf.fit(X_train, y_train)\n",
    "\n",
    "# cross validation predictions\n",
    "sgd_pred = cross_val_predict(sgd_clf, X_train, y_train, cv=3, n_jobs=4)\n",
    "\n",
    "# print out the classification report\n",
    "classification_report(\"Stochastic Gradient Descent Report (Training Set)\", y_train, sgd_pred)"
   ]
  },
  {
   "cell_type": "markdown",
   "metadata": {},
   "source": [
    "To test for overfitting, let's see how the model generalizes over the test set"
   ]
  },
  {
   "cell_type": "code",
   "execution_count": 76,
   "metadata": {},
   "outputs": [
    {
     "name": "stderr",
     "output_type": "stream",
     "text": [
      "D:\\Anaconda3\\lib\\site-packages\\sklearn\\model_selection\\_split.py:652: Warning: The least populated class in y has only 1 members, which is too few. The minimum number of members in any class cannot be less than n_splits=3.\n",
      "  % (min_groups, self.n_splits)), Warning)\n"
     ]
    },
    {
     "name": "stdout",
     "output_type": "stream",
     "text": [
      "Stochastic Gradient Descent Report (Training Set) :\n",
      "\n",
      "Accuracy Score:  44.444 %\n",
      "     Precision:  30.291 %\n",
      "        Recall:  26.250 %\n",
      "      F1 score:  26.111 %\n"
     ]
    },
    {
     "name": "stderr",
     "output_type": "stream",
     "text": [
      "D:\\Anaconda3\\lib\\site-packages\\sklearn\\metrics\\classification.py:1143: UndefinedMetricWarning: Precision is ill-defined and being set to 0.0 in labels with no predicted samples.\n",
      "  'precision', 'predicted', average, warn_for)\n",
      "D:\\Anaconda3\\lib\\site-packages\\sklearn\\metrics\\classification.py:1143: UndefinedMetricWarning: F-score is ill-defined and being set to 0.0 in labels with no predicted samples.\n",
      "  'precision', 'predicted', average, warn_for)\n"
     ]
    }
   ],
   "source": [
    "# cross validation predictions\n",
    "sgd_pred = cross_val_predict(sgd_clf, X_test, y_test, cv=3, n_jobs=4)\n",
    "\n",
    "# print out the classification report\n",
    "classification_report(\"Stochastic Gradient Descent Report (Training Set)\", y_test, sgd_pred)"
   ]
  },
  {
   "cell_type": "markdown",
   "metadata": {},
   "source": [
    "Now let's see how the model can generalize across the whole dataset."
   ]
  },
  {
   "cell_type": "code",
   "execution_count": 77,
   "metadata": {},
   "outputs": [
    {
     "name": "stderr",
     "output_type": "stream",
     "text": [
      "D:\\Anaconda3\\lib\\site-packages\\sklearn\\model_selection\\_split.py:652: Warning: The least populated class in y has only 6 members, which is too few. The minimum number of members in any class cannot be less than n_splits=10.\n",
      "  % (min_groups, self.n_splits)), Warning)\n"
     ]
    },
    {
     "name": "stdout",
     "output_type": "stream",
     "text": [
      "Mean cv Score - SGD: 79.197 %\n"
     ]
    }
   ],
   "source": [
    "sgd_cv_score = cross_val_score(sgd_clf, X.toarray(), y_pred, cv=10)\n",
    "print(\"Mean cv Score - SGD: {:,.3f}\".format(float(sgd_cv_score.mean()) * 100), \"%\")"
   ]
  },
  {
   "cell_type": "markdown",
   "metadata": {},
   "source": [
    "# Plotting the data\n",
    "The previous steps have given us clustering labels and a dataset of papers reduced to two dimensions. By pairing this with Bokeh, we can create an interactive plot of the literature. This should organize the papers such that related publications are in close proximity. To try to undertstand what the similarities may be, we have also performed topic modelling on each cluster of papers in order to pick out the key terms.\n",
    "\n",
    "Bokeh will pair the actual papers with their positions on the t-SNE plot. Through this approach it will be easier to see how papers fit together, allowing for both exploration of the dataset and evaluation of the clustering. "
   ]
  },
  {
   "cell_type": "code",
   "execution_count": 78,
   "metadata": {},
   "outputs": [],
   "source": [
    "import os\n",
    "\n",
    "# change into lib directory to load plot python scripts\n",
    "main_path = os.getcwd()\n",
    "lib_path = 'kaggle/input/kaggle-resources'\n",
    "os.chdir(lib_path)"
   ]
  },
  {
   "cell_type": "code",
   "execution_count": 79,
   "metadata": {},
   "outputs": [],
   "source": [
    "# required libraries for plot\n",
    "from call_backs import input_callback, selected_code  # file with customJS callbacks for bokeh\n",
    "                                                      # github.com/MaksimEkin/COVID19-Literature-Clustering/blob/master/lib/call_backs.py\n",
    "import bokeh\n",
    "from bokeh.models import ColumnDataSource, HoverTool, LinearColorMapper, CustomJS, Slider, TapTool, TextInput\n",
    "from bokeh.palettes import Category20\n",
    "from bokeh.transform import linear_cmap, transform\n",
    "from bokeh.io import output_file, show, output_notebook\n",
    "from bokeh.plotting import figure\n",
    "from bokeh.models import RadioButtonGroup, TextInput, Div, Paragraph\n",
    "from bokeh.layouts import column, widgetbox, row, layout\n",
    "from bokeh.layouts import column"
   ]
  },
  {
   "cell_type": "code",
   "execution_count": 80,
   "metadata": {},
   "outputs": [],
   "source": [
    "# go back\n",
    "os.chdir(main_path)"
   ]
  },
  {
   "cell_type": "markdown",
   "metadata": {},
   "source": [
    "## Load the Keywords per Cluster"
   ]
  },
  {
   "cell_type": "code",
   "execution_count": 81,
   "metadata": {},
   "outputs": [],
   "source": [
    "import os\n",
    "\n",
    "topic_path = 'topics.txt'\n",
    "with open(topic_path) as f:\n",
    "    topics = f.readlines()"
   ]
  },
  {
   "cell_type": "markdown",
   "metadata": {},
   "source": [
    "## Setup"
   ]
  },
  {
   "cell_type": "code",
   "execution_count": 82,
   "metadata": {},
   "outputs": [
    {
     "data": {
      "text/html": [
       "\n",
       "    <div class=\"bk-root\">\n",
       "        <a href=\"https://bokeh.pydata.org\" target=\"_blank\" class=\"bk-logo bk-logo-small bk-logo-notebook\"></a>\n",
       "        <span id=\"1344\">Loading BokehJS ...</span>\n",
       "    </div>"
      ]
     },
     "metadata": {},
     "output_type": "display_data"
    },
    {
     "data": {
      "application/javascript": [
       "\n",
       "(function(root) {\n",
       "  function now() {\n",
       "    return new Date();\n",
       "  }\n",
       "\n",
       "  var force = true;\n",
       "\n",
       "  if (typeof root._bokeh_onload_callbacks === \"undefined\" || force === true) {\n",
       "    root._bokeh_onload_callbacks = [];\n",
       "    root._bokeh_is_loading = undefined;\n",
       "  }\n",
       "\n",
       "  var JS_MIME_TYPE = 'application/javascript';\n",
       "  var HTML_MIME_TYPE = 'text/html';\n",
       "  var EXEC_MIME_TYPE = 'application/vnd.bokehjs_exec.v0+json';\n",
       "  var CLASS_NAME = 'output_bokeh rendered_html';\n",
       "\n",
       "  /**\n",
       "   * Render data to the DOM node\n",
       "   */\n",
       "  function render(props, node) {\n",
       "    var script = document.createElement(\"script\");\n",
       "    node.appendChild(script);\n",
       "  }\n",
       "\n",
       "  /**\n",
       "   * Handle when an output is cleared or removed\n",
       "   */\n",
       "  function handleClearOutput(event, handle) {\n",
       "    var cell = handle.cell;\n",
       "\n",
       "    var id = cell.output_area._bokeh_element_id;\n",
       "    var server_id = cell.output_area._bokeh_server_id;\n",
       "    // Clean up Bokeh references\n",
       "    if (id != null && id in Bokeh.index) {\n",
       "      Bokeh.index[id].model.document.clear();\n",
       "      delete Bokeh.index[id];\n",
       "    }\n",
       "\n",
       "    if (server_id !== undefined) {\n",
       "      // Clean up Bokeh references\n",
       "      var cmd = \"from bokeh.io.state import curstate; print(curstate().uuid_to_server['\" + server_id + \"'].get_sessions()[0].document.roots[0]._id)\";\n",
       "      cell.notebook.kernel.execute(cmd, {\n",
       "        iopub: {\n",
       "          output: function(msg) {\n",
       "            var id = msg.content.text.trim();\n",
       "            if (id in Bokeh.index) {\n",
       "              Bokeh.index[id].model.document.clear();\n",
       "              delete Bokeh.index[id];\n",
       "            }\n",
       "          }\n",
       "        }\n",
       "      });\n",
       "      // Destroy server and session\n",
       "      var cmd = \"import bokeh.io.notebook as ion; ion.destroy_server('\" + server_id + \"')\";\n",
       "      cell.notebook.kernel.execute(cmd);\n",
       "    }\n",
       "  }\n",
       "\n",
       "  /**\n",
       "   * Handle when a new output is added\n",
       "   */\n",
       "  function handleAddOutput(event, handle) {\n",
       "    var output_area = handle.output_area;\n",
       "    var output = handle.output;\n",
       "\n",
       "    // limit handleAddOutput to display_data with EXEC_MIME_TYPE content only\n",
       "    if ((output.output_type != \"display_data\") || (!output.data.hasOwnProperty(EXEC_MIME_TYPE))) {\n",
       "      return\n",
       "    }\n",
       "\n",
       "    var toinsert = output_area.element.find(\".\" + CLASS_NAME.split(' ')[0]);\n",
       "\n",
       "    if (output.metadata[EXEC_MIME_TYPE][\"id\"] !== undefined) {\n",
       "      toinsert[toinsert.length - 1].firstChild.textContent = output.data[JS_MIME_TYPE];\n",
       "      // store reference to embed id on output_area\n",
       "      output_area._bokeh_element_id = output.metadata[EXEC_MIME_TYPE][\"id\"];\n",
       "    }\n",
       "    if (output.metadata[EXEC_MIME_TYPE][\"server_id\"] !== undefined) {\n",
       "      var bk_div = document.createElement(\"div\");\n",
       "      bk_div.innerHTML = output.data[HTML_MIME_TYPE];\n",
       "      var script_attrs = bk_div.children[0].attributes;\n",
       "      for (var i = 0; i < script_attrs.length; i++) {\n",
       "        toinsert[toinsert.length - 1].firstChild.setAttribute(script_attrs[i].name, script_attrs[i].value);\n",
       "      }\n",
       "      // store reference to server id on output_area\n",
       "      output_area._bokeh_server_id = output.metadata[EXEC_MIME_TYPE][\"server_id\"];\n",
       "    }\n",
       "  }\n",
       "\n",
       "  function register_renderer(events, OutputArea) {\n",
       "\n",
       "    function append_mime(data, metadata, element) {\n",
       "      // create a DOM node to render to\n",
       "      var toinsert = this.create_output_subarea(\n",
       "        metadata,\n",
       "        CLASS_NAME,\n",
       "        EXEC_MIME_TYPE\n",
       "      );\n",
       "      this.keyboard_manager.register_events(toinsert);\n",
       "      // Render to node\n",
       "      var props = {data: data, metadata: metadata[EXEC_MIME_TYPE]};\n",
       "      render(props, toinsert[toinsert.length - 1]);\n",
       "      element.append(toinsert);\n",
       "      return toinsert\n",
       "    }\n",
       "\n",
       "    /* Handle when an output is cleared or removed */\n",
       "    events.on('clear_output.CodeCell', handleClearOutput);\n",
       "    events.on('delete.Cell', handleClearOutput);\n",
       "\n",
       "    /* Handle when a new output is added */\n",
       "    events.on('output_added.OutputArea', handleAddOutput);\n",
       "\n",
       "    /**\n",
       "     * Register the mime type and append_mime function with output_area\n",
       "     */\n",
       "    OutputArea.prototype.register_mime_type(EXEC_MIME_TYPE, append_mime, {\n",
       "      /* Is output safe? */\n",
       "      safe: true,\n",
       "      /* Index of renderer in `output_area.display_order` */\n",
       "      index: 0\n",
       "    });\n",
       "  }\n",
       "\n",
       "  // register the mime type if in Jupyter Notebook environment and previously unregistered\n",
       "  if (root.Jupyter !== undefined) {\n",
       "    var events = require('base/js/events');\n",
       "    var OutputArea = require('notebook/js/outputarea').OutputArea;\n",
       "\n",
       "    if (OutputArea.prototype.mime_types().indexOf(EXEC_MIME_TYPE) == -1) {\n",
       "      register_renderer(events, OutputArea);\n",
       "    }\n",
       "  }\n",
       "\n",
       "  \n",
       "  if (typeof (root._bokeh_timeout) === \"undefined\" || force === true) {\n",
       "    root._bokeh_timeout = Date.now() + 5000;\n",
       "    root._bokeh_failed_load = false;\n",
       "  }\n",
       "\n",
       "  var NB_LOAD_WARNING = {'data': {'text/html':\n",
       "     \"<div style='background-color: #fdd'>\\n\"+\n",
       "     \"<p>\\n\"+\n",
       "     \"BokehJS does not appear to have successfully loaded. If loading BokehJS from CDN, this \\n\"+\n",
       "     \"may be due to a slow or bad network connection. Possible fixes:\\n\"+\n",
       "     \"</p>\\n\"+\n",
       "     \"<ul>\\n\"+\n",
       "     \"<li>re-rerun `output_notebook()` to attempt to load from CDN again, or</li>\\n\"+\n",
       "     \"<li>use INLINE resources instead, as so:</li>\\n\"+\n",
       "     \"</ul>\\n\"+\n",
       "     \"<code>\\n\"+\n",
       "     \"from bokeh.resources import INLINE\\n\"+\n",
       "     \"output_notebook(resources=INLINE)\\n\"+\n",
       "     \"</code>\\n\"+\n",
       "     \"</div>\"}};\n",
       "\n",
       "  function display_loaded() {\n",
       "    var el = document.getElementById(\"1344\");\n",
       "    if (el != null) {\n",
       "      el.textContent = \"BokehJS is loading...\";\n",
       "    }\n",
       "    if (root.Bokeh !== undefined) {\n",
       "      if (el != null) {\n",
       "        el.textContent = \"BokehJS \" + root.Bokeh.version + \" successfully loaded.\";\n",
       "      }\n",
       "    } else if (Date.now() < root._bokeh_timeout) {\n",
       "      setTimeout(display_loaded, 100)\n",
       "    }\n",
       "  }\n",
       "\n",
       "\n",
       "  function run_callbacks() {\n",
       "    try {\n",
       "      root._bokeh_onload_callbacks.forEach(function(callback) {\n",
       "        if (callback != null)\n",
       "          callback();\n",
       "      });\n",
       "    } finally {\n",
       "      delete root._bokeh_onload_callbacks\n",
       "    }\n",
       "    console.debug(\"Bokeh: all callbacks have finished\");\n",
       "  }\n",
       "\n",
       "  function load_libs(css_urls, js_urls, callback) {\n",
       "    if (css_urls == null) css_urls = [];\n",
       "    if (js_urls == null) js_urls = [];\n",
       "\n",
       "    root._bokeh_onload_callbacks.push(callback);\n",
       "    if (root._bokeh_is_loading > 0) {\n",
       "      console.debug(\"Bokeh: BokehJS is being loaded, scheduling callback at\", now());\n",
       "      return null;\n",
       "    }\n",
       "    if (js_urls == null || js_urls.length === 0) {\n",
       "      run_callbacks();\n",
       "      return null;\n",
       "    }\n",
       "    console.debug(\"Bokeh: BokehJS not loaded, scheduling load and callback at\", now());\n",
       "    root._bokeh_is_loading = css_urls.length + js_urls.length;\n",
       "\n",
       "    function on_load() {\n",
       "      root._bokeh_is_loading--;\n",
       "      if (root._bokeh_is_loading === 0) {\n",
       "        console.debug(\"Bokeh: all BokehJS libraries/stylesheets loaded\");\n",
       "        run_callbacks()\n",
       "      }\n",
       "    }\n",
       "\n",
       "    function on_error() {\n",
       "      console.error(\"failed to load \" + url);\n",
       "    }\n",
       "\n",
       "    for (var i = 0; i < css_urls.length; i++) {\n",
       "      var url = css_urls[i];\n",
       "      const element = document.createElement(\"link\");\n",
       "      element.onload = on_load;\n",
       "      element.onerror = on_error;\n",
       "      element.rel = \"stylesheet\";\n",
       "      element.type = \"text/css\";\n",
       "      element.href = url;\n",
       "      console.debug(\"Bokeh: injecting link tag for BokehJS stylesheet: \", url);\n",
       "      document.body.appendChild(element);\n",
       "    }\n",
       "\n",
       "    for (var i = 0; i < js_urls.length; i++) {\n",
       "      var url = js_urls[i];\n",
       "      var element = document.createElement('script');\n",
       "      element.onload = on_load;\n",
       "      element.onerror = on_error;\n",
       "      element.async = false;\n",
       "      element.src = url;\n",
       "      console.debug(\"Bokeh: injecting script tag for BokehJS library: \", url);\n",
       "      document.head.appendChild(element);\n",
       "    }\n",
       "  };var element = document.getElementById(\"1344\");\n",
       "  if (element == null) {\n",
       "    console.error(\"Bokeh: ERROR: autoload.js configured with elementid '1344' but no matching script tag was found. \")\n",
       "    return false;\n",
       "  }\n",
       "\n",
       "  function inject_raw_css(css) {\n",
       "    const element = document.createElement(\"style\");\n",
       "    element.appendChild(document.createTextNode(css));\n",
       "    document.body.appendChild(element);\n",
       "  }\n",
       "\n",
       "  var js_urls = [\"https://cdn.pydata.org/bokeh/release/bokeh-1.1.0.min.js\", \"https://cdn.pydata.org/bokeh/release/bokeh-widgets-1.1.0.min.js\", \"https://cdn.pydata.org/bokeh/release/bokeh-tables-1.1.0.min.js\", \"https://cdn.pydata.org/bokeh/release/bokeh-gl-1.1.0.min.js\"];\n",
       "  var css_urls = [\"https://cdn.pydata.org/bokeh/release/bokeh-1.1.0.min.css\", \"https://cdn.pydata.org/bokeh/release/bokeh-widgets-1.1.0.min.css\", \"https://cdn.pydata.org/bokeh/release/bokeh-tables-1.1.0.min.css\"];\n",
       "\n",
       "  var inline_js = [\n",
       "    function(Bokeh) {\n",
       "      Bokeh.set_log_level(\"info\");\n",
       "    },\n",
       "    \n",
       "    function(Bokeh) {\n",
       "      \n",
       "    },\n",
       "    function(Bokeh) {} // ensure no trailing comma for IE\n",
       "  ];\n",
       "\n",
       "  function run_inline_js() {\n",
       "    \n",
       "    if ((root.Bokeh !== undefined) || (force === true)) {\n",
       "      for (var i = 0; i < inline_js.length; i++) {\n",
       "        inline_js[i].call(root, root.Bokeh);\n",
       "      }if (force === true) {\n",
       "        display_loaded();\n",
       "      }} else if (Date.now() < root._bokeh_timeout) {\n",
       "      setTimeout(run_inline_js, 100);\n",
       "    } else if (!root._bokeh_failed_load) {\n",
       "      console.log(\"Bokeh: BokehJS failed to load within specified timeout.\");\n",
       "      root._bokeh_failed_load = true;\n",
       "    } else if (force !== true) {\n",
       "      var cell = $(document.getElementById(\"1344\")).parents('.cell').data().cell;\n",
       "      cell.output_area.append_execute_result(NB_LOAD_WARNING)\n",
       "    }\n",
       "\n",
       "  }\n",
       "\n",
       "  if (root._bokeh_is_loading === 0) {\n",
       "    console.debug(\"Bokeh: BokehJS loaded, going straight to plotting\");\n",
       "    run_inline_js();\n",
       "  } else {\n",
       "    load_libs(css_urls, js_urls, function() {\n",
       "      console.debug(\"Bokeh: BokehJS plotting callback run at\", now());\n",
       "      run_inline_js();\n",
       "    });\n",
       "  }\n",
       "}(window));"
      ],
      "application/vnd.bokehjs_load.v0+json": "\n(function(root) {\n  function now() {\n    return new Date();\n  }\n\n  var force = true;\n\n  if (typeof root._bokeh_onload_callbacks === \"undefined\" || force === true) {\n    root._bokeh_onload_callbacks = [];\n    root._bokeh_is_loading = undefined;\n  }\n\n  \n\n  \n  if (typeof (root._bokeh_timeout) === \"undefined\" || force === true) {\n    root._bokeh_timeout = Date.now() + 5000;\n    root._bokeh_failed_load = false;\n  }\n\n  var NB_LOAD_WARNING = {'data': {'text/html':\n     \"<div style='background-color: #fdd'>\\n\"+\n     \"<p>\\n\"+\n     \"BokehJS does not appear to have successfully loaded. If loading BokehJS from CDN, this \\n\"+\n     \"may be due to a slow or bad network connection. Possible fixes:\\n\"+\n     \"</p>\\n\"+\n     \"<ul>\\n\"+\n     \"<li>re-rerun `output_notebook()` to attempt to load from CDN again, or</li>\\n\"+\n     \"<li>use INLINE resources instead, as so:</li>\\n\"+\n     \"</ul>\\n\"+\n     \"<code>\\n\"+\n     \"from bokeh.resources import INLINE\\n\"+\n     \"output_notebook(resources=INLINE)\\n\"+\n     \"</code>\\n\"+\n     \"</div>\"}};\n\n  function display_loaded() {\n    var el = document.getElementById(\"1344\");\n    if (el != null) {\n      el.textContent = \"BokehJS is loading...\";\n    }\n    if (root.Bokeh !== undefined) {\n      if (el != null) {\n        el.textContent = \"BokehJS \" + root.Bokeh.version + \" successfully loaded.\";\n      }\n    } else if (Date.now() < root._bokeh_timeout) {\n      setTimeout(display_loaded, 100)\n    }\n  }\n\n\n  function run_callbacks() {\n    try {\n      root._bokeh_onload_callbacks.forEach(function(callback) {\n        if (callback != null)\n          callback();\n      });\n    } finally {\n      delete root._bokeh_onload_callbacks\n    }\n    console.debug(\"Bokeh: all callbacks have finished\");\n  }\n\n  function load_libs(css_urls, js_urls, callback) {\n    if (css_urls == null) css_urls = [];\n    if (js_urls == null) js_urls = [];\n\n    root._bokeh_onload_callbacks.push(callback);\n    if (root._bokeh_is_loading > 0) {\n      console.debug(\"Bokeh: BokehJS is being loaded, scheduling callback at\", now());\n      return null;\n    }\n    if (js_urls == null || js_urls.length === 0) {\n      run_callbacks();\n      return null;\n    }\n    console.debug(\"Bokeh: BokehJS not loaded, scheduling load and callback at\", now());\n    root._bokeh_is_loading = css_urls.length + js_urls.length;\n\n    function on_load() {\n      root._bokeh_is_loading--;\n      if (root._bokeh_is_loading === 0) {\n        console.debug(\"Bokeh: all BokehJS libraries/stylesheets loaded\");\n        run_callbacks()\n      }\n    }\n\n    function on_error() {\n      console.error(\"failed to load \" + url);\n    }\n\n    for (var i = 0; i < css_urls.length; i++) {\n      var url = css_urls[i];\n      const element = document.createElement(\"link\");\n      element.onload = on_load;\n      element.onerror = on_error;\n      element.rel = \"stylesheet\";\n      element.type = \"text/css\";\n      element.href = url;\n      console.debug(\"Bokeh: injecting link tag for BokehJS stylesheet: \", url);\n      document.body.appendChild(element);\n    }\n\n    for (var i = 0; i < js_urls.length; i++) {\n      var url = js_urls[i];\n      var element = document.createElement('script');\n      element.onload = on_load;\n      element.onerror = on_error;\n      element.async = false;\n      element.src = url;\n      console.debug(\"Bokeh: injecting script tag for BokehJS library: \", url);\n      document.head.appendChild(element);\n    }\n  };var element = document.getElementById(\"1344\");\n  if (element == null) {\n    console.error(\"Bokeh: ERROR: autoload.js configured with elementid '1344' but no matching script tag was found. \")\n    return false;\n  }\n\n  function inject_raw_css(css) {\n    const element = document.createElement(\"style\");\n    element.appendChild(document.createTextNode(css));\n    document.body.appendChild(element);\n  }\n\n  var js_urls = [\"https://cdn.pydata.org/bokeh/release/bokeh-1.1.0.min.js\", \"https://cdn.pydata.org/bokeh/release/bokeh-widgets-1.1.0.min.js\", \"https://cdn.pydata.org/bokeh/release/bokeh-tables-1.1.0.min.js\", \"https://cdn.pydata.org/bokeh/release/bokeh-gl-1.1.0.min.js\"];\n  var css_urls = [\"https://cdn.pydata.org/bokeh/release/bokeh-1.1.0.min.css\", \"https://cdn.pydata.org/bokeh/release/bokeh-widgets-1.1.0.min.css\", \"https://cdn.pydata.org/bokeh/release/bokeh-tables-1.1.0.min.css\"];\n\n  var inline_js = [\n    function(Bokeh) {\n      Bokeh.set_log_level(\"info\");\n    },\n    \n    function(Bokeh) {\n      \n    },\n    function(Bokeh) {} // ensure no trailing comma for IE\n  ];\n\n  function run_inline_js() {\n    \n    if ((root.Bokeh !== undefined) || (force === true)) {\n      for (var i = 0; i < inline_js.length; i++) {\n        inline_js[i].call(root, root.Bokeh);\n      }if (force === true) {\n        display_loaded();\n      }} else if (Date.now() < root._bokeh_timeout) {\n      setTimeout(run_inline_js, 100);\n    } else if (!root._bokeh_failed_load) {\n      console.log(\"Bokeh: BokehJS failed to load within specified timeout.\");\n      root._bokeh_failed_load = true;\n    } else if (force !== true) {\n      var cell = $(document.getElementById(\"1344\")).parents('.cell').data().cell;\n      cell.output_area.append_execute_result(NB_LOAD_WARNING)\n    }\n\n  }\n\n  if (root._bokeh_is_loading === 0) {\n    console.debug(\"Bokeh: BokehJS loaded, going straight to plotting\");\n    run_inline_js();\n  } else {\n    load_libs(css_urls, js_urls, function() {\n      console.debug(\"Bokeh: BokehJS plotting callback run at\", now());\n      run_inline_js();\n    });\n  }\n}(window));"
     },
     "metadata": {},
     "output_type": "display_data"
    }
   ],
   "source": [
    "# show on notebook\n",
    "output_notebook()\n",
    "# target labels\n",
    "y_labels = y_pred\n",
    "\n",
    "# data sources\n",
    "source = ColumnDataSource(data=dict(\n",
    "    x= X_embedded[:,0], \n",
    "    y= X_embedded[:,1],\n",
    "    x_backup = X_embedded[:,0],\n",
    "    y_backup = X_embedded[:,1],\n",
    "    desc= y_labels, \n",
    "    titles= df['title'],\n",
    "    authors = df['authors'],\n",
    "    journal = df['journal'],\n",
    "    abstract = df['abstract_summary'],\n",
    "    labels = [\"C-\" + str(x) for x in y_labels],\n",
    "    links = df['doi']\n",
    "    ))\n",
    "\n",
    "# hover over information\n",
    "hover = HoverTool(tooltips=[\n",
    "    (\"Title\", \"@titles{safe}\"),\n",
    "    (\"Author(s)\", \"@authors{safe}\"),\n",
    "    (\"Journal\", \"@journal\"),\n",
    "    (\"Abstract\", \"@abstract{safe}\"),\n",
    "    (\"Link\", \"@links\")\n",
    "],\n",
    "point_policy=\"follow_mouse\")\n",
    "\n",
    "# map colors\n",
    "mapper = linear_cmap(field_name='desc', \n",
    "                     palette=Category20[8],\n",
    "                     low=min(y_labels) ,high=max(y_labels))\n",
    "\n",
    "# prepare the figure\n",
    "plot = figure(plot_width=1200, plot_height=850, \n",
    "           tools=[hover, 'pan', 'wheel_zoom', 'box_zoom', 'reset', 'save', 'tap'], \n",
    "           title=\"Clustering of the COVID-19 Literature with t-SNE and K-Means\", \n",
    "           toolbar_location=\"above\")\n",
    "\n",
    "# plot settings\n",
    "plot.scatter('x', 'y', size=5, \n",
    "          source=source,\n",
    "          fill_color=mapper,\n",
    "          line_alpha=0.3,\n",
    "          line_color=\"black\",\n",
    "          legend = 'labels')\n",
    "plot.legend.background_fill_alpha = 0.6"
   ]
  },
  {
   "cell_type": "markdown",
   "metadata": {},
   "source": [
    "## Widgets"
   ]
  },
  {
   "cell_type": "code",
   "execution_count": 83,
   "metadata": {},
   "outputs": [],
   "source": [
    "# Keywords\n",
    "text_banner = Paragraph(text= 'Keywords: Slide to specific cluster to see the keywords.', height=45)\n",
    "input_callback_1 = input_callback(plot, source, text_banner, topics)\n",
    "\n",
    "# currently selected article\n",
    "div_curr = Div(text=\"\"\"Click on a plot to see the link to the article.\"\"\",height=150)\n",
    "callback_selected = CustomJS(args=dict(source=source, current_selection=div_curr), code=selected_code())\n",
    "taptool = plot.select(type=TapTool)\n",
    "taptool.callback = callback_selected\n",
    "\n",
    "# WIDGETS\n",
    "slider = Slider(start=0, end=8, value=8, step=1, title=\"Cluster #\", callback=input_callback_1)\n",
    "keyword = TextInput(title=\"Search:\", callback=input_callback_1)\n",
    "\n",
    "# pass call back arguments\n",
    "input_callback_1.args[\"text\"] = keyword\n",
    "input_callback_1.args[\"slider\"] = slider"
   ]
  },
  {
   "cell_type": "markdown",
   "metadata": {},
   "source": [
    "## Style"
   ]
  },
  {
   "cell_type": "code",
   "execution_count": 84,
   "metadata": {},
   "outputs": [],
   "source": [
    "# STYLE\n",
    "slider.sizing_mode = \"stretch_width\"\n",
    "slider.margin=15\n",
    "\n",
    "keyword.sizing_mode = \"scale_both\"\n",
    "keyword.margin=15\n",
    "\n",
    "div_curr.style={'color': '#BF0A30', 'font-family': 'Helvetica Neue, Helvetica, Arial, sans-serif;', 'font-size': '1.1em'}\n",
    "div_curr.sizing_mode = \"scale_both\"\n",
    "div_curr.margin = 8\n",
    "\n",
    "text_banner.style={'color': '#0269A4', 'font-family': 'Helvetica Neue, Helvetica, Arial, sans-serif;', 'font-size': '1.1em'}\n",
    "text_banner.sizing_mode = \"scale_both\"\n",
    "text_banner.margin = 8\n",
    "\n",
    "plot.sizing_mode = \"scale_both\"\n",
    "plot.margin = 5\n",
    "\n",
    "r = row(div_curr,text_banner)\n",
    "r.sizing_mode = \"stretch_width\""
   ]
  },
  {
   "cell_type": "markdown",
   "metadata": {},
   "source": [
    "## SHOW"
   ]
  },
  {
   "cell_type": "code",
   "execution_count": 85,
   "metadata": {},
   "outputs": [
    {
     "data": {
      "text/html": [
       "\n",
       "\n",
       "\n",
       "\n",
       "\n",
       "\n",
       "  <div class=\"bk-root\" id=\"1ae1b849-c092-4477-9614-8d832fbc2383\" data-root-id=\"1415\"></div>\n"
      ]
     },
     "metadata": {},
     "output_type": "display_data"
    },
    {
     "data": {
      "application/javascript": [
       "(function(root) {\n",
       "  function embed_document(root) {\n",
       "    \n",
       "  var docs_json = {\"a3bdadfc-4adf-4e28-9f4c-6ce59aadfcd6\":{\"roots\":{\"references\":[{\"attributes\":{\"children\":[{\"id\":\"1411\",\"type\":\"Row\"},{\"id\":\"1412\",\"type\":\"Row\"},{\"id\":\"1413\",\"type\":\"Row\"},{\"id\":\"1414\",\"type\":\"Row\"}],\"sizing_mode\":\"scale_both\"},\"id\":\"1415\",\"type\":\"Column\"},{\"attributes\":{\"children\":[{\"id\":\"1398\",\"type\":\"Div\"}]},\"id\":\"1413\",\"type\":\"Row\"},{\"attributes\":{\"below\":[{\"id\":\"1359\",\"type\":\"LinearAxis\"}],\"center\":[{\"id\":\"1363\",\"type\":\"Grid\"},{\"id\":\"1368\",\"type\":\"Grid\"},{\"id\":\"1394\",\"type\":\"Legend\"}],\"left\":[{\"id\":\"1364\",\"type\":\"LinearAxis\"}],\"margin\":[5,5,5,5],\"plot_height\":850,\"plot_width\":1200,\"renderers\":[{\"id\":\"1386\",\"type\":\"GlyphRenderer\"}],\"sizing_mode\":\"scale_both\",\"title\":{\"id\":\"1349\",\"type\":\"Title\"},\"toolbar\":{\"id\":\"1375\",\"type\":\"Toolbar\"},\"toolbar_location\":\"above\",\"x_range\":{\"id\":\"1351\",\"type\":\"DataRange1d\"},\"x_scale\":{\"id\":\"1355\",\"type\":\"LinearScale\"},\"y_range\":{\"id\":\"1353\",\"type\":\"DataRange1d\"},\"y_scale\":{\"id\":\"1357\",\"type\":\"LinearScale\"}},\"id\":\"1348\",\"subtype\":\"Figure\",\"type\":\"Plot\"},{\"attributes\":{},\"id\":\"1372\",\"type\":\"ResetTool\"},{\"attributes\":{},\"id\":\"1370\",\"type\":\"WheelZoomTool\"},{\"attributes\":{},\"id\":\"1373\",\"type\":\"SaveTool\"},{\"attributes\":{\"text\":\"Clustering of the COVID-19 Literature with t-SNE and K-Means\"},\"id\":\"1349\",\"type\":\"Title\"},{\"attributes\":{\"callback\":{\"id\":\"1399\",\"type\":\"CustomJS\"}},\"id\":\"1374\",\"type\":\"TapTool\"},{\"attributes\":{\"children\":[{\"id\":\"1396\",\"type\":\"Paragraph\"}]},\"id\":\"1412\",\"type\":\"Row\"},{\"attributes\":{\"callback\":null},\"id\":\"1351\",\"type\":\"DataRange1d\"},{\"attributes\":{\"fill_alpha\":{\"value\":0.1},\"fill_color\":{\"value\":\"#1f77b4\"},\"line_alpha\":{\"value\":0.1},\"line_color\":{\"value\":\"#1f77b4\"},\"size\":{\"units\":\"screen\",\"value\":5},\"x\":{\"field\":\"x\"},\"y\":{\"field\":\"y\"}},\"id\":\"1385\",\"type\":\"Scatter\"},{\"attributes\":{\"callback\":null},\"id\":\"1353\",\"type\":\"DataRange1d\"},{\"attributes\":{\"callback\":{\"id\":\"1397\",\"type\":\"CustomJS\"},\"end\":8,\"margin\":[15,15,15,15],\"sizing_mode\":\"stretch_width\",\"start\":0,\"title\":\"Cluster #\",\"value\":8},\"id\":\"1408\",\"type\":\"Slider\"},{\"attributes\":{\"high\":7,\"low\":0,\"palette\":[\"#1f77b4\",\"#aec7e8\",\"#ff7f0e\",\"#ffbb78\",\"#2ca02c\",\"#98df8a\",\"#d62728\",\"#ff9896\"]},\"id\":\"1347\",\"type\":\"LinearColorMapper\"},{\"attributes\":{},\"id\":\"1355\",\"type\":\"LinearScale\"},{\"attributes\":{},\"id\":\"1391\",\"type\":\"BasicTickFormatter\"},{\"attributes\":{\"data_source\":{\"id\":\"1345\",\"type\":\"ColumnDataSource\"},\"glyph\":{\"id\":\"1384\",\"type\":\"Scatter\"},\"hover_glyph\":null,\"muted_glyph\":null,\"nonselection_glyph\":{\"id\":\"1385\",\"type\":\"Scatter\"},\"selection_glyph\":null,\"view\":{\"id\":\"1387\",\"type\":\"CDSView\"}},\"id\":\"1386\",\"type\":\"GlyphRenderer\"},{\"attributes\":{},\"id\":\"1357\",\"type\":\"LinearScale\"},{\"attributes\":{\"callback\":{\"id\":\"1397\",\"type\":\"CustomJS\"},\"margin\":[15,15,15,15],\"sizing_mode\":\"scale_both\",\"title\":\"Search:\"},\"id\":\"1409\",\"type\":\"TextInput\"},{\"attributes\":{\"formatter\":{\"id\":\"1391\",\"type\":\"BasicTickFormatter\"},\"ticker\":{\"id\":\"1360\",\"type\":\"BasicTicker\"}},\"id\":\"1359\",\"type\":\"LinearAxis\"},{\"attributes\":{\"source\":{\"id\":\"1345\",\"type\":\"ColumnDataSource\"}},\"id\":\"1387\",\"type\":\"CDSView\"},{\"attributes\":{\"args\":{\"current_selection\":{\"id\":\"1398\",\"type\":\"Div\"},\"source\":{\"id\":\"1345\",\"type\":\"ColumnDataSource\"}},\"code\":\"\\n            var titles = [];\\n            var authors = [];\\n            var journals = [];\\n            var links = [];\\n            cb_data.source.selected.indices.forEach(index => titles.push(source.data['titles'][index]));\\n            cb_data.source.selected.indices.forEach(index => authors.push(source.data['authors'][index]));\\n            cb_data.source.selected.indices.forEach(index => journals.push(source.data['journal'][index]));\\n            cb_data.source.selected.indices.forEach(index => links.push(source.data['links'][index]));\\n            title = \\\"<h4>\\\" + titles[0].toString().replace(/<br>/g, ' ') + \\\"</h4>\\\";\\n            authors = \\\"<p1><b>Authors:</b> \\\" + authors[0].toString().replace(/<br>/g, ' ') + \\\"<br>\\\"\\n            // journal = \\\"<b>Journal</b>\\\" + journals[0].toString() + \\\"<br>\\\"\\n            link = \\\"<b>Link:</b> <a href='\\\" + \\\"http://doi.org/\\\" + links[0].toString() + \\\"'>\\\" + \\\"http://doi.org/\\\" + links[0].toString() + \\\"</a></p1>\\\"\\n            current_selection.text = title + authors + link\\n            current_selection.change.emit();\\n    \"},\"id\":\"1399\",\"type\":\"CustomJS\"},{\"attributes\":{},\"id\":\"1389\",\"type\":\"BasicTickFormatter\"},{\"attributes\":{},\"id\":\"1360\",\"type\":\"BasicTicker\"},{\"attributes\":{\"height\":45,\"margin\":[8,8,8,8],\"sizing_mode\":\"scale_both\",\"style\":{\"color\":\"#0269A4\",\"font-family\":\"Helvetica Neue, Helvetica, Arial, sans-serif;\",\"font-size\":\"1.1em\"},\"text\":\"Keywords: Slide to specific cluster to see the keywords.\"},\"id\":\"1396\",\"type\":\"Paragraph\"},{\"attributes\":{\"children\":[{\"id\":\"1348\",\"subtype\":\"Figure\",\"type\":\"Plot\"}]},\"id\":\"1414\",\"type\":\"Row\"},{\"attributes\":{\"args\":{\"out_text\":{\"id\":\"1396\",\"type\":\"Paragraph\"},\"p\":{\"id\":\"1348\",\"subtype\":\"Figure\",\"type\":\"Plot\"},\"slider\":{\"id\":\"1408\",\"type\":\"Slider\"},\"source\":{\"id\":\"1345\",\"type\":\"ColumnDataSource\"},\"text\":{\"id\":\"1409\",\"type\":\"TextInput\"},\"topics\":[\"day, state, immunity, social, change, epidemic, consider, discrepancy, option, stochastic, estimate, infection, death, rate, parameter\\n\",\"model, segmentation, loss, propose, network, map, value, layer, mask, lung, numb, detection, pneumonia, respiratory, obtain, approach, sample, transfer\\n\",\"infect, contact, risk, individual, location, model, social, relate, structure, small, server, datum, point, app, increase, device\\n\",\"optimal, time, infect, pandemic, virus, covid-, cost, people, intervention, model, area, rate, control, set, value, use, datum\\n\",\"infect, individual, city, model, covid-, mutation, location, infection, distance, protein, bias, word, sequence, use, sars-cov-, case, virus, datum\\n\",\"risk, consider, activity, provide, term, relate, virus, state, crisis, note, set, work, datum, process, way\\n\",\"infect, population, algorithm, virus, model, expect, require, probability, datum, level, rate, identify, obtain, information, compare, characteristic, mix, important, specific\\n\",\"infection, population, source, edge, distance, effectiveness, model, question, time, sample, network, node\\n\"]},\"code\":\"\\n\\t\\t\\t\\tvar key = text.value;\\n\\t\\t\\t\\tkey = key.toLowerCase();\\n\\t\\t\\t\\tvar cluster = slider.value;\\n                var data = source.data; \\n                \\n                \\n                x = data['x'];\\n                y = data['y'];\\n                x_backup = data['x_backup'];\\n                y_backup = data['y_backup'];\\n                labels = data['desc'];\\n                abstract = data['abstract'];\\n                titles = data['titles'];\\n                authors = data['authors'];\\n                journal = data['journal'];\\n                if (cluster == '20') {\\n                    out_text.text = 'Keywords: Slide to specific cluster to see the keywords.';\\n                    for (i = 0; i < x.length; i++) {\\n\\t\\t\\t\\t\\t\\tif(abstract[i].includes(key) || \\n\\t\\t\\t\\t\\t\\ttitles[i].includes(key) || \\n\\t\\t\\t\\t\\t\\tauthors[i].includes(key) || \\n\\t\\t\\t\\t\\t\\tjournal[i].includes(key)) {\\n\\t\\t\\t\\t\\t\\t\\tx[i] = x_backup[i];\\n\\t\\t\\t\\t\\t\\t\\ty[i] = y_backup[i];\\n\\t\\t\\t\\t\\t\\t} else {\\n\\t\\t\\t\\t\\t\\t\\tx[i] = undefined;\\n\\t\\t\\t\\t\\t\\t\\ty[i] = undefined;\\n\\t\\t\\t\\t\\t\\t}\\n                    }\\n                }\\n                else {\\n                    out_text.text = 'Keywords: ' + topics[Number(cluster)];\\n                    for (i = 0; i < x.length; i++) {\\n                        if(labels[i] == cluster) {\\n\\t\\t\\t\\t\\t\\t\\tif(abstract[i].includes(key) || \\n\\t\\t\\t\\t\\t\\t\\ttitles[i].includes(key) || \\n\\t\\t\\t\\t\\t\\t\\tauthors[i].includes(key) || \\n\\t\\t\\t\\t\\t\\t\\tjournal[i].includes(key)) {\\n\\t\\t\\t\\t\\t\\t\\t\\tx[i] = x_backup[i];\\n\\t\\t\\t\\t\\t\\t\\t\\ty[i] = y_backup[i];\\n\\t\\t\\t\\t\\t\\t\\t} else {\\n\\t\\t\\t\\t\\t\\t\\t\\tx[i] = undefined;\\n\\t\\t\\t\\t\\t\\t\\t\\ty[i] = undefined;\\n\\t\\t\\t\\t\\t\\t\\t}\\n                        } else {\\n                            x[i] = undefined;\\n                            y[i] = undefined;\\n                        }\\n                    }\\n                }\\n            source.change.emit();\\n            \"},\"id\":\"1397\",\"type\":\"CustomJS\"},{\"attributes\":{\"ticker\":{\"id\":\"1360\",\"type\":\"BasicTicker\"}},\"id\":\"1363\",\"type\":\"Grid\"},{\"attributes\":{\"background_fill_alpha\":{\"value\":0.6},\"items\":[{\"id\":\"1395\",\"type\":\"LegendItem\"}]},\"id\":\"1394\",\"type\":\"Legend\"},{\"attributes\":{},\"id\":\"1405\",\"type\":\"UnionRenderers\"},{\"attributes\":{},\"id\":\"1406\",\"type\":\"Selection\"},{\"attributes\":{\"formatter\":{\"id\":\"1389\",\"type\":\"BasicTickFormatter\"},\"ticker\":{\"id\":\"1365\",\"type\":\"BasicTicker\"}},\"id\":\"1364\",\"type\":\"LinearAxis\"},{\"attributes\":{\"height\":150,\"margin\":[8,8,8,8],\"sizing_mode\":\"scale_both\",\"style\":{\"color\":\"#BF0A30\",\"font-family\":\"Helvetica Neue, Helvetica, Arial, sans-serif;\",\"font-size\":\"1.1em\"},\"text\":\"Click on a plot to see the link to the article.\"},\"id\":\"1398\",\"type\":\"Div\"},{\"attributes\":{\"callback\":null,\"data\":{\"abstract\":[\"Not provided.\",\" Rapidly developed AI-based automated CT image<br>analysis tools can achieve high accuracy in detection of<br>Coronavirus positive patients as well as quantification of<br>disease burden.\\n\\u2022 Utilizing the deep-learning image<br>analysis system developed, we achieved classification<br>results for Coronavirus vs Non-coronavirus cases per<br>thoracic CT studies of 0.996 AUC (95%CI: 0.989-1.00) on<br>Chinese control and infected patients. Possible<br>working point: 98.2% sensitivity, 92.2%<br>specificity.\\n\\u2022 Conclusion:\\nThis initial study, which is<br>currently being expanded to a larger population,<br>demonstrated that rapidly developed AI-based image<br>analysis can achieve high accuracy in detection of<br>Coronavirus as well as quantification and tracking of<br>disease burden.\",\" It is shown that the evaporation rate of a liquid<br>sample containing the culture of coronavirus affects<br>its survival on a substrate. Possible mechanisms<br>of such influence can be due to the appearance of<br>large, about 140 bar, non comprehensive capillary<br>pressures and the associated dynamic forces during the<br>movement of the evaporation front in a sample with the<br>virus. A simulation of isothermal evaporation of a<br>thin liquid sample based on the Stefan problem was<br>performed. The comparison of simulation data and recent<br>experiments on the coronavirus survival on various<br>surfaces showed that the rate of isothermal evaporation<br>of...\",\" A model of reactive social distancing in<br>epidemics is proposed, in which the infection rate<br>changes with the number infected. The finalsize<br>equation for the total number that the epidemic will<br>infect can be derived analytically, as can the peak<br>infection proportion. This model could assist planners<br>during for example the COVID-19 pandemic.\",\" Large scale disease screening is a complicated<br>process in which high costs must be balanced against<br>pressing public health needs. When the goal is screening<br>for infectious disease, one approach is group<br>testing in which samples are initially tested in pools<br>and individual samples are retested only if the<br>initial pooled test was positive.\\nIntuitively, if the<br>prevalence of infection is small, this could result in a<br>large reduction of the total number of tests<br>required. Despite this, the use of group testing in<br>medical studies has been limited, largely due to<br>skepticism about the impact of pooling on the accuracy...\",\" Infectious disease outbreaks recapitulate<br>biology: they emerge from the multi-level interaction<br>of hosts, pathogens, and their shared<br>environment. As a result, predicting when, where, and how far<br>diseases will spread requires a complex systems<br>approach to modeling. Recent studies have demonstrated<br>that predicting different components of<br>outbreaks-e.g., the expected number of cases, pace and tempo of<br>cases needing treatment, demand for prophylactic<br>equipment, importation probability etc.-is feasible<br>1,2,3,4,5,6,7,8,9 . Therefore, advancing both the science and<br>practice of disease forecasting now requires testing<br>for the presence of fundamental limits to outbreak<br>prediction 10, 11, 12, 13 . To investigate the question...\",\" Identifying the infection sources in a<br>network, including the index cases that introduce a<br>contagious disease into a population network, the servers<br>that inject a computer virus into a computer<br>network, or the individuals who started a rumor in a<br>social network, plays a critical role in limiting the<br>damage caused by the infection through timely<br>quarantine of the sources. We consider the problem of<br>estimating the infection sources and the infection<br>regions (subsets of nodes infected by each source) in a<br>network, based only on knowledge of which nodes are<br>infected and their connections, and when the number of...\",\" Data collection and processing via digital<br>public health technologies are being promoted<br>worldwide by governments and private companies as<br>strategic remedies for mitigating the COVID-19 pandemic<br>and loosening lockdown measures. However, the<br>ethical and legal boundaries of deploying digital<br>tools for disease surveillance and control purposes<br>are unclear, and a rapidly evolving debate has<br>emerged globally around the promises and risks of<br>mobilizing digital tools for public health. To help<br>scientists and policymakers navigate technological and<br>ethical uncertainty, we present a typology of the<br>primary digital public health applications currently<br>in use. Namely: proximity and contact tracing,<br>symptom monitoring, quarantine...\",\" In the last few months, the novel COVID-19<br>pandemic has spread all over the world. Due to its easy<br>transmission, developing techniques to accurately and<br>easily identify the presence of COVID-19 and<br>distinguish it from other forms of flus and pneumonia is<br>crucial. Recent research has shown that the chest X-rays<br>of patients suffering from COVID-19 depicts<br>certain abnormalities in the radiography. However,<br>those approaches are closed source and not made<br>available to the research community for<br>re-producibility and gaining a deeper insight. The goal of this<br>work is to build open source and open access datasets<br>and present an...\",\" Doctors and nurses in these weeks are busy in the<br>trenches, fighting against a new invisible enemy:<br>Covid-19. Cities are locked down and civilians are<br>besieged in their own homes, to prevent the spreading of<br>the virus. War-related terminology is commonly<br>used to frame the discourse around epidemics and<br>diseases. Arguably the discourse around the current<br>epidemic will make use of war-related metaphors too,not<br>only in public discourse and the media, but also in<br>the tweets written by non-experts of mass<br>communication. We hereby present an analysis of the discourse<br>around #Covid-19, based on a corpus of 200k tweets<br>posted...\",\" In the face of a pandemic, individuals may<br>decide whether they take actions to mitigate the<br>spread of the disease (cooperate), or not (defect),<br>resulting in a 'disease dilemma' similar to the<br>prisoner's dilemma. Cooperation requires an individual<br>to change their routine behaviours to benefit<br>others. The rate of cooperation within a population is<br>directly linked to the rate of spread of the disease.<br>Unfortunately, evolutionary game dynamics predict that all<br>individuals evolve to defect. Here, we combine the disease<br>dilemma with the compartmental model used for diseases<br>which do not confer immunity. We prove that if the time<br>scale...\",\" In this work, a proposal to forecast the<br>populations using generalized logistics regression curve<br>fitting is presented. This type of curve is used to study<br>population growth, in this case population of people<br>infected with the Covid-19 virus; and it can also be used<br>to approximate the survival curve used in<br>actuarial and similar studies.\",\" We study the maximum score statistic to detect<br>and estimate local signals in the form of<br>change-points in the level, slope, or other property of a<br>sequence of observations, and to segment the sequence<br>when there appear to be multiple changes. We find<br>that when observations are serially dependent, the<br>change-points can lead to upwardly biased estimates of<br>autocorrelations, resulting in a sometimes serious loss of power.<br>Examples involving temperature variations, the level<br>of atmospheric greenhouse gases, suicide rates<br>and daily incidence of COVID-19 illustrate the<br>general theory.\",\" The worldwide spread of COVID-19 has called for<br>fast advancement of new modelling strategies to<br>estimate its unprecedented spread. Here, we introduce a<br>model based on the fundamental SIR equations with a<br>stochastic disorder by a random exchange of infected<br>populations between cities to study dynamics in an<br>interacting network of epicentres in a model state.<br>Although each stochastic exchange conserves<br>populations pair-wise, the disorder drives the global<br>system towards newer routes to dynamic equilibrium.<br>Upon controlling the range of the exchange<br>fraction, we show that it is possible to control the<br>heterogeneity in the spread and the co-operativity among...\",\" We investigate the time-optimal control<br>problem in SIR (Susceptible-Infected-Recovered)<br>epidemic models, focusing on different control<br>policies: vaccination, isolation, culling, and<br>reduction of transmission. Applying the Pontryagin's<br>Minimum Principle (PMP) to the unconstrained control<br>problems (i.e. without costs of control or resource<br>limitations), we prove that, for all the policies<br>investigated, only bangbang controls with at most one switch<br>are admitted. When a switch occurs, the optimal<br>strategy is to delay the control action some amount of<br>time and then apply the control at the maximum rate<br>for the remainder of the outbreak. This result is in<br>contrast with previous findings...\",\" As of April, 6th, 2020, the total number of<br>COVID-19 reported cases and deaths are 4778 and 136. This<br>is an alarming situation as with a huge population<br>within few days India will enter in stage-3 of COVID-19<br>transmission. In the absence of neither an effective<br>treatment or vaccine and with an incomplete<br>understanding of the epidemiological cycle, predictive<br>mathematical models can help exploring of both COVID-19<br>transmission and control. In this present study, we consider<br>a new mathematical model on COVID-19<br>transmission that incorporate lock-down effect and<br>variability in transmission between symptomatic and<br>asymptomatic populations with former being a...\",\" The novel coronavirus, SARS-CoV-2, and the<br>disease it causes, COVID-19 was declared a pandemic on<br>March 11, 2020 by the World Health Organization.<br>Since then, the disease has spread all over the world,<br>with the United States becoming the country with the<br>highest number of cases. Governments around the world<br>have undertaken varying degrees of public safety<br>measures, including recommendations and ad campaigns<br>for improved hygiene practices, enacting social<br>distancing requirements and limiting large public<br>gatherings, and stay-at-home orders and lockdowns. In the<br>United States, while the response has varied greatly<br>from state to state, we clearly see that the...\",\" As COVID-19 quickly became one of the most<br>concerned global crisis, the demand for data in academic<br>research is also increasing. Currently, there are<br>several open access Twitter datasets, but none of them<br>is dedicated to the institutional and news media<br>Twitter data collection. To fill this blank, we<br>retrieved data from 69 institutional/news media Twitter<br>accounts, 17 of them were related to government and<br>international organizations, 52 of them were news media<br>across North America, Europe and Asia. We believe our<br>open access data can provide researchers more<br>availability to conduct social science research.\",\" We present a simple but realistic model for<br>describing the diffusion of an infectious disease on a<br>population of individuals. The dynamics is governed by a<br>single functional delay differential equation,<br>which, in the case of a large population, can be solved<br>exactly, even in the presence of a time-dependent<br>infection rate. This delay model has a higher degree of<br>accuracy than the so-called SIR model, commonly used in<br>epidemiology, which, instead, is formulated in terms of a set<br>of three ordinary differential equations. We<br>apply our model to describe the outbreak of the new<br>virus COVID-19 in Italy, taking...\",\" We give some numerical observations on the<br>total number of infected by the recent COVID-19<br>epidemic in Italy. The analysis is very simple and is<br>adapted from the well-known SIR model. A tanh formula<br>with two parameters is taken into consideration. A<br>polynomial correlation between the parameters is<br>formulated, giving an upper bound for the time of the peak of<br>new infected. The result is discussed in the<br>conclusions.\",\" This paper deals with the mathematical<br>modeling and numerical simulations related to the<br>coronavirus dynamics. A description is developed based on<br>the framework of<br>susceptibleexposed-infectious-removed model. Initially, a model verification is<br>carried out calibrating system parameters with data<br>from China, Italy, Iran and Brazil. Afterward,<br>numerical simulations are performed to analyze<br>different scenarios of COVID-19 in Brazil. Results show<br>the importance of governmental and individual<br>actions to control the number and the period of the<br>critical situations related to the pandemic. detected<br>in Wuhan City, Hubei Province of China.<br>Afterward, the situation evolves to a huge global crisis<br>with severe...\",\" We comparatively analyzed the spatiotemporal<br>fluctuations of the 2019-novel coronavirus and SARS<br>outbreaks to understand their epidemiological<br>characteristics.\\nMethodologically, we introduced TPL (Taylor's power law) to<br>characterize their spatiotemporal<br>heterogeneity/stability and Hubbell's (2001) unified neutral theory of<br>biodiversity (UNTB) [specifically Harris et al. (2015)<br>HDP-MSN model (hierarchical Dirichlet<br>process-multi-site neutral)] to approximate the metapopulation<br>of coronavirus infections. First, TPL analysis<br>suggested that the coronaviruses appear to have a<br>specific heterogeneity/stability scaling parameter<br>(TPL-b) slightly exceeding 2 for cumulative<br>infections or exceeding 1 for daily incremental<br>infections, suggesting their potentially 'chaotic',<br>unstable outbreaks. Another TPL parameter (M 0 ) (i.e.,<br>infection critical...\",\" The very first case of corona-virus illness was<br>recorded on 30 January 2020, in India and the number of<br>infected cases, including the death toll, continues to<br>rise. In this paper, we present short-term forecasts<br>of COVID-19 for 28 Indian states and five union<br>territories using realtime data from 30 January to 21 April<br>2020. Applying Holt's second-order exponential<br>smoothing method and autoregressive integrated moving<br>average (ARIMA) model, we generate 10-day ahead<br>forecasts of the likely number of infected cases and<br>deaths in India for 22 April to 1 May 2020. Our results<br>show that the number of cumulative cases...\",\" Just like your phone can detect what song is<br>playing in crowded spaces, we show that Artificial<br>Intelligence transfer learning algorithms trained on cough<br>phone recordings results in diagnostic tests for<br>COVID-19. To gain adoption by the health care community,<br>we plan to validate our results in a clinical trial<br>and three other venues in Mexico, Spain and the USA 1<br>. However, if we had data from other on-going<br>clinical trials\",\" The new coronavirus known as COVID-19 is<br>rapidly spreading since December 2019. Without any<br>vaccination or medicine, the means of controlling it are<br>limited to quarantine and social distancing.\\nHere we<br>study the spatio-temporal propagation of the<br>COVID-19 virus in China and compare it to other global<br>locations. Our results suggest that the disease<br>propagation is highly related to population migration from<br>Hubei resembling a L\\u00e9vy flight which is<br>characteristic of human mobility. Our results also suggest<br>that the disease spread in a city in China is<br>characterized by two-stages process. At early times, at order<br>of few days, the infection...\",\" The novel coronavirus (2019-nCoV) is a<br>recently emerged human pathogen that has spread widely<br>since January 2020. Initially, the basic<br>reproductive number, R 0 , was estimated to be 2.2 to 2.7. Here<br>we provide a new estimate of this quantity. We<br>collected extensive individual case reports and<br>estimated key epidemiology parameters, including the<br>incubation period. Integrating these estimates and<br>high-resolution real-time human travel and infection data with<br>mathematical models, we estimated that the number of<br>infected individuals during early epidemic double<br>every 2.4 days, and the R 0 value is likely to be between<br>4.7 and 6.6. We further...\",\" The COVID-19 pandemic continues to have a<br>devastating effect on the health and well-being of the<br>global population. A critical step in the fight<br>against COVID-19 is effective screening of infected<br>patients, with one of the key screening approaches being<br>radiological imaging using chest radiography. It was found<br>in early studies that patients present<br>abnormalities in chest radiography images that are<br>characteristic of those infected with COVID-19. Motivated by<br>this, a number of artificial intelligence (AI)<br>systems based on deep learning have been proposed and<br>results have been shown to be quite promising in terms of<br>accuracy in detecting patients...\",\" Coronavirus disease 2019 (COVID-19\",\"Not provided.\",\" Governments and researchers around the world<br>are implementing digital contact tracing<br>solutions to stem the spread of infectious disease,<br>namely COVID-19. Many of these solutions threaten<br>individual rights and privacy. Our goal is to break past the<br>false dichotomy of effective versus<br>privacy-preserving contact tracing. We offer an alternative<br>approach to assess and communicate users' risk of<br>exposure to an infectious disease while preserving<br>individual privacy. Our proposal uses recent GPS location<br>histories, which are transformed and encrypted, and a<br>private set intersection protocol to interface with a<br>semi-trusted authority.\\nThere have been other recent<br>proposals for privacy-preserving contact tracing,<br>based...\",\" Coronavirus COVID-19 spreads through the<br>population mostly based on social contact. To gauge the<br>potential for widespread contagion, to cope with<br>associated uncertainty and to inform its mitigation, more<br>accurate and robust modelling is centrally important<br>for policy making.\\nWe provide a flexible<br>modelling approach that increases the accuracy with<br>which insights can be made. We use this to analyse<br>different scenarios relevant to the COVID-19 situation<br>in the UK. We present a stochastic model that<br>captures the inherently probabilistic nature of<br>contagion between population members. The<br>computational nature of our model means that spatial<br>constraints (e.g., communities and regions), the...\",\" We present CovidQA, the beginnings of a<br>question answering dataset specifically designed for<br>COVID-19, built by hand from knowledge gathered from<br>Kaggle's COVID-19 Open Research Dataset Challenge. To<br>our knowledge, this is the first publicly<br>available resource of its type, and intended as a stopgap<br>measure for guiding research until more substantial<br>evaluation resources become available. While this<br>dataset, comprising 124 question-article pairs as of<br>the present version 0.1 release, does not have<br>sufficient examples for supervised machine learning, we<br>believe that it can be helpful for evaluating the<br>zero-shot or transfer capabilities of existing models on<br>topics specifically related...\",\" The outbreak of COVID-19 caused by SARS-CoV-2<br>in Wuhan and other cities in China in 2019 has<br>become a global pandemic as declared by World Health<br>Organization (WHO) in the first quarter of 2020 [19] . The<br>delay in diagnosis, limited hospital resources and<br>other treatment resources leads to rapid spread of<br>COVID-19. In this article, we consider an optimal control<br>COVID-19 transmission model and assess the impact of<br>some control measures that can lead to the reduction<br>of exposed and infectious individuals in the<br>population. We investigate three control strategies for<br>this deadly infectious disease using personal<br>protection, treatment...\",\" Using daily infection data for Hong Kong we<br>explore the validity of a variety of models of disease<br>propagation when applied to the SARS epidemic. Surrogate<br>data methods show that simple random models are<br>insufficient and that the standard epidemic<br>susceptible-infected-removed model does not fully account for the underlying<br>variability in the observed data.\\nAs an alternative, we<br>consider a more complex small world network model and<br>show that such a structure can be applied to reliably<br>produce simulations quantitative similar to the true<br>data. The small world network model not only captures<br>the apparently random fluctuation in the reported<br>data,...\",\" Presented here is the design of the Mechanical<br>Ventilator Milano (MVM), a novel mechanical ventilator<br>designed for rapid mass production in response to the<br>COVID-19 pandemic to address the urgent shortage of<br>intensive therapy ventilators in many countries, and the<br>growing difficulty in procuring these devices through<br>normal supply chains across borders.\\nThis<br>ventilator is an electro-mechanical equivalent of the old<br>and reliable Manley Ventilator, and is able to<br>operate in both pressure-controlled and<br>pressure-supported ventilation modes.\\nMVM is optimized for the<br>COVID-19 emergency, thanks to the collaboration with<br>medical doctors in the front line. MVM is designed for<br>large-scale production in...\",\" The purpose of this work is to give a<br>contribution to the understanding of the COVID-19 contagion<br>in Italy. To this end, we developed a modified<br>Susceptible-Infected-Recovered (SIR) model for the contagion, and we used<br>official data of the pandemic up to March 30th, 2020 for<br>identifying the parameters of this model. The non standard<br>part of our approach resides in the fact that we<br>considered as model parameters also the initial number of<br>susceptible individuals, as well as the proportionality<br>factor relating the detected number of positives with<br>the actual (and unknown) number of infected<br>individuals. Identifying the contagion,...\",\" During the current COVID-19 pandemic it is<br>imperative to give early warnings to reduce mortality.<br>However, non-specialist such as authorities and the<br>general population face several problems to<br>understand the real thread of this pandemic, and<br>under/overestimation of its risk are a commonplace in the press and<br>social media. Here we define an index, which we call the<br>COVID-19 Burden Index, that relates the capacities of<br>the healthcare system of a given country to treat<br>severe and critical cases. Its value is 0 if there is no<br>extra strain in the healthcare system, and it reaches<br>1.0 when the collapse...\",\" Different countries -and sometimes different<br>regions within the same countries -have adopted<br>different strategies in trying to contain the ongoing<br>COVID-19 epidemic; these mix in variable parts social<br>confinement, early detection and contact tracing. In this<br>paper we discuss the different effects of these<br>ingredients on the epidemic dynamics; the discussion is<br>conducted with the help of two simple models, i.e. the<br>classical SIR model and the recently introduced variant<br>(A-SIR, arXiv:2003.08720) which takes into account<br>the presence of a large set of asymptomatic<br>infectives.\",\" In the midst of pandemic for respiratory<br>illness, the call for non-pharmaceutical<br>interventions become the highest priority for infectious<br>disease and public health experts, while the race<br>towards vaccine or medical intervention are ongoing.<br>Individuals may modify their behavior and take<br>preventative steps to reduce infection risk in the bid to<br>adhere to the call by government officials and<br>experts. As a result, the existence of relationship<br>between the preliminary and the final transmission<br>rates become feeble. This study evaluates the<br>behavioral changes (mitigation and suppression<br>measures) proposed by public health experts for COVID-19<br>which had altered human behavior and...\",\" We study the data for the cumulative as well as<br>daily number of cases in the Covid-19 outbreak in<br>China. The cumulative data can be fit to an empirical<br>form obtained from a<br>Susceptible-Infected-Removed (SIR) model studied on an Euclidean network<br>previously. Plotting the number of cases against the<br>distance from the epicenter for both China and Italy, we<br>find an approximate power law variation with an<br>exponent \\u223c 1.85 showing strongly that the spatial<br>dependence plays a key role, a factor included in the model.<br>We report here that the SIR model on the Eucledean<br>network can reproduce with...\",\" In this paper, we propose a mathematical model<br>for analyzing and predicting the number of<br>confirmed cases of COVID-19. Our model is a<br>time-dependent susceptibleinfected-recovered (SIR) model<br>that tracks two time series: (i) the transmission<br>rate at time t and (ii) the recovering rate at time t.<br>Our time-dependent SIR method is better than the<br>traditional static SIR model as it can adapt to the change of<br>contagious disease control policies such as city<br>lockdowns. Moreover, it is also more robust than the direct<br>estimation of the number of confirmed cases, as a sudden<br>change of the definition of the...\",\" We proposed a Monte-Carlo method to estimate<br>temporal reproduction number without complete<br>information about symptom onsets of all cases.<br>Province-level analysis demonstrated the huge success of<br>Chinese control measures on COVID-19, that is,<br>provinces' reproduction numbers quickly decrease to <1 by<br>just one week after taking actions.\",\" Epidemic processes are used commonly for<br>modeling and analysis of biological networks, computer<br>networks, and human contact networks. The idea of<br>competing viruses has been explored recently, motivated<br>by the spread of different ideas along different<br>social networks. Previous studies of competitive<br>viruses have focused only on two viruses and on static<br>graph structures. In this paper, we consider<br>multiple competing viruses over static and dynamic<br>graph structures, and investigate the eradication<br>and propagation of diseases in these systems.<br>Stability analysis for the class of models we consider is<br>performed and an antidote control technique is proposed.\",\" Goal: As the Coronavirus Pandemic of 2019/2020<br>unfolds, a COVID-19 'Immunity Passport' has been mooted<br>as a way to enable individuals to return back to<br>work or be admitted to current off-limits<br>locations. While the quality of antibody testing and the<br>likelihood of even attaining COVID-19 immunity continue<br>to be researched, we address the issues involved<br>in providing tamper-proof and<br>privacy-preserving certification, both for COVID-19 immunity and<br>in general. Methods: We developed a prototype<br>mobile phone app and requisite distributed server<br>architecture that facilitates instant verification of<br>tamper-proof test results. Personally identifiable<br>information is only stored at the user's discretion,...\",\" The Coronavirus, also known as the COVID-19\",\" In the context of the ongoing Covid-19<br>pandemic, several reports and studies have attempted to<br>model and predict the spread of the disease. There is<br>also intense debate about policies for limiting the<br>damage, both to health and to the economy. On the one<br>hand, the health and safety of the population is the<br>principal consideration for most countries. On the other<br>hand, we cannot ignore the potential for long-term<br>economic damage caused by strict nation-wide<br>lockdowns. In this working paper, we present a<br>quantitative way to compute lockdown decisions for<br>individual cities or regions, while balancing health and<br>economic...\",\" COVID-19 is an acute respiratory disease that<br>has been classified as a pandemic by the World<br>Health Organization. Characterization of this<br>disease is still in its early stages; however, it is<br>known to have high mortality rates, particularly<br>among individuals with preexisting medical<br>conditions. Creating models to identify individuals who<br>are at the greatest risk for severe complications<br>due to COVID-19 will be useful for outreach<br>campaigns to help mitigate the disease's worst effects.<br>While information specific to COVID-19 is limited, a<br>model using complications due to other upper<br>respiratory infections can be used as a proxy to help<br>identify...\",\" The emerging global infectious COVID-19<br>coronavirus disease by novel Severe Acute Respiratory<br>Syndrome Coronavirus 2 (SARS-CoV-2) presents critical<br>threats to global public health and the economy since it<br>was identified in late December 2019 in China. The<br>virus has gone through various pathways of<br>evolution. For understanding the evolution and<br>transmission of SARS-CoV-2, genotyping of virus isolates is<br>of great importance. We present an accurate<br>method for effectively genotyping SARS-CoV-2<br>viruses using complete genomes. The method employs the<br>multiple sequence alignments of the genome isolates<br>with the SARS-CoV-2 reference genome. The SNP<br>genotypes are then measured by Jaccard distances to...\",\" Background: Following stringent social<br>distancing measures, some European countries are<br>beginning to report a slowed or negative rate of growth of<br>daily case numbers testing positive for the novel<br>coronavirus. The notion that the first wave of infection is<br>close to its peak begs the question of whether future<br>peaks or 'second waves' are likely. We sought to<br>determine the current size of the effective (i.e.<br>susceptible) population for seven European countries-to<br>estimate immunity levels following this first wave. We<br>compare these numbers to the total population sizes of<br>these countries, in order to investigate the<br>potential for future peaks.\\nWe...\",\" Recently, the novel coronavirus 2019 has<br>caused a pandemic disease over 200 countries,<br>influencing billions of humans. To control the infection,<br>the first and key step is to identify and separate<br>the infected people. But due to the lack of Reverse<br>Transcription Polymerase Chain Reaction (RT-PCR) tests, it<br>is essential to discover suspected COVID-19<br>patients via CT scan analysis by radiologists. However,<br>CT scan analysis is usually time-consuming,<br>requiring at least 15 minutes per case. In this paper, we<br>develop a novel Joint Classification and Segmentation<br>(JCS) system to perform real-time and explainable<br>COVID-19 diagnosis. To train our JCS system,...\",\" This paper addresses the new problem of<br>automated screening of coronavirus disease 2019<br>(COVID-19) based on chest X-rays, which is urgently<br>demanded toward fast stopping the pandemic. However,<br>robust and accurate screening of COVID-19 from chest<br>X-rays is still a globally recognized challenge<br>because of two bottlenecks: 1) imaging features of<br>COVID-19 share some similarities with other pneumonia<br>on chest X-rays, and 2) the misdiagnosis rate of<br>COVID-19 is very high, and the misdiagnosis cost is<br>expensive. While a few pioneering works have made much<br>progress, they underestimate both crucial bottlenecks.<br>In this paper, we report our solution,<br>discriminative cost-sensitive...\",\" In this investigation I used the Logistic Model<br>to fit the COVID-19 pandemic data for some<br>countries. The data modeled is the death numbers per day in<br>China, Iran, Italy, South Korea, Spain and United<br>States. Considering the current growth rate of the<br>pandemic, it was possible to show that the death toll<br>should be between 3,277-3,327 deaths in China,<br>2,035-2,107 in Iran, 120-134 in South Korea, 11, 793 in Italy<br>and 6,217-7,405 in Spain. Also, with this toy model<br>it was possible to show a clear emergence of a new<br>outbreak within the same country (Iran, China and the...\",\" In this study, we use US county-level COVID-19<br>case data from January 21-March 25, 2020 to study the<br>exponential behavior of case growth at the metropolitan<br>scale. In particular, we assume that all localized<br>outbreaks are in an early stage (either undergoing<br>exponential growth in the number of cases, or are<br>effectively contained) and compare the explanatory<br>performance of different simple exponential and linear<br>growth models for different metropolitan areas.<br>While we find no relationship between city size and<br>exponential growth rate (directly related to R0, which<br>denotes average the number of cases an infected<br>individual infects), we do find...\",\" The 2014 Ebola outbreak in West Africa raised<br>many questions about the control of infectious<br>disease in an increasingly connected global society.<br>Limited availability of contact information made<br>contact tracing difficult or impractical in combating<br>the outbreak. We consider the development of<br>multi-scale public health strategies and simulate<br>policies for community-level response aimed at early<br>screening of communities rather than individuals, as<br>well as travel restriction to prevent community<br>cross-contamination. Our analysis shows the policies to be effective<br>even at a relatively low level of compliance. In our<br>simulations, 40% of individuals conforming to these<br>policies is enough to stop...\",\" In this paper, a novel approach called<br>GSA-DenseNet121-COVID-19 based on a hybrid convolutional neural network<br>(CNN) architecture is proposed using an<br>optimization algorithm. The CNN architecture that was used<br>is called DenseNet121 and the optimization<br>algorithm that was used is called the gravitational<br>search algorithm (GSA). The GSA is adapted to<br>determine the best values for the hyperparameters of the<br>DenseNet121 architecture, and to achieve a high level of<br>accuracy in diagnosing COVID-19 disease through chest<br>x-ray image analysis. The obtained results showed<br>that the proposed approach was able to correctly<br>classify 98% of the test set. To test the...\",\" In limiting the rapid spread of highly<br>infectious diseases like Covid-19 means to immediately<br>identify individuals who had been in contact with a newly<br>diagnosed infected person have proven to be important.<br>Such potential victims can go into quarantine until<br>tested thus constraining further spread. This note<br>describes a concept of mobile device (e.g. Smart phones)<br>based approach for tracking inter-personal<br>contacts which might have led to infection and alerting<br>the potential victims. The approach assures means<br>for defense against malicious usage while<br>assuring a high level of privacy for all people involved.\",\" The coronavirus disease , caused by the<br>SARS-CoV-2 virus, was declared a pandemic by the World<br>Health Organization (WHO) in February 2020.<br>Currently, there are no vaccines or treatments that have<br>been approved after clinical trials. Social<br>distancing measures, including travel bans, school<br>closure, and quarantine applied to countries or regions<br>are being used to limit the spread of the disease,<br>and the demand on the healthcare infrastructure.<br>The seclusion of groups and individuals has led to<br>limited access to accurate information. To update the<br>public, especially in South Africa, announcements are<br>made by the minister of health daily. These...\",\" An alternative to epidemiological models for<br>transmission dynamics of Covid-19 in China, we propose the<br>artificial intelligence (AI)-inspired methods for<br>real-time forecasting of Covid-19 to estimate the size,<br>lengths and ending time of Covid-19 across China.\",\" The recent outbreak of COVID-19 in Mainland<br>China is characterized by a distinctive algebraic,<br>subexponential increase of confirmed cases with time during<br>the early phase of the epidemic, contrasting an<br>initial exponential growth expected for an<br>unconstrained outbreak with sufficiently large<br>reproduction rate. Although case counts vary significantly<br>between affected provinces in Mainland China, the<br>scaling law t \\u00b5 is surprisingly universal, with a range<br>of exponents \\u00b5 = 2.1 \\u00b1 0.3. The universality of this<br>behavior indicates that, in spite of social, regional,<br>demographical, geographical, and socio-economical<br>heterogeneities of affected Chinese provinces, this outbreak<br>is dominated by fundamental mechanisms...\",\" In a recent report we have collected some data<br>about the COVID-19 epidemics in Northern Italy; in<br>this follow-up we analyze how these changed after<br>the mild restrictive measures taken by the<br>Government two weeks ago and the large campaign of public<br>awareness developed in the meanwhile.\",\" Daily case reports and daily fatalities for<br>analysed using the Susceptible-Infected-Removed<br>(SIR) model. For each country, the<br>Susceptible-Infected-Removed (SIR) models fitting cumulative infective<br>case data within 5% error are analysed. It is shown<br>that the quantity that can be the most robustly<br>estimated from the normalized data, is the timing of the<br>maximum and timings of the inflection points of the<br>proportion of infected individuals.\",\"Not provided.\",\" A semiempirical model, based in the logistic<br>map, has been succesfully applied to forecast<br>important quantities along the several phases of the<br>outbreak of the covid-19 for different countries. This<br>paper shows how the model was calibrated and applied<br>to perform predictions of people needing to be<br>hospitalized, needs of ventilators, or the number of deaths<br>which would be produced. It is shown specifically the<br>results obtained in the case of Spain, showing a<br>prediction of diagnosed infected and deaths which will be<br>observed after the ease of the total lockdown produced<br>the 13 th of March. Is also shown...\",\"Not provided.\",\" A novel bioinspired metaheuristic is proposed<br>in this work, simulating how the coronavirus<br>spreads and infects healthy people. From an initial<br>individual (the patient zero), the coronavirus infects<br>new patients at known rates, creating new<br>populations of infected people. Every individual can<br>either die or infect and, afterwards, be sent to the<br>recovered population. Relevant terms such as<br>re-infection probability, super-spreading rate or<br>traveling rate are introduced in the model in order to<br>simulate as accurately as possible the coronavirus<br>activity. The Coronavirus Optimization Algorithm has<br>two major advantages compared to other similar<br>strategies. First, the input parameters are already...\",\" This paper develops an agent-level simulation<br>model, termed ALPS, for simulating the spread of an<br>infectious disease in a confined community. The mechanism<br>of transmission is agent-to-agent contact,<br>using parameters reported for Corona COVID-19<br>pandemic. The main goal of the ALPS simulation is analyze<br>effects of preventive measuresimposition and lifting<br>of lockdown norms -on the rates of infections,<br>fatalities and recoveries. The model assumptions and<br>choices represent a balance between competing demands<br>of being realistic and being efficient for<br>real-time inferences. The model provides<br>quantification of gains in reducing casualties by imposition<br>and maintenance of restrictive measures in place.\",\" In a recent paper [1], Singh and Adhikari<br>present results of an analysis of a mathematical model<br>of epidemiology based on which they argue that a 49<br>day lockdown is required in India for containing<br>the pandemic in India. We assert that as a model<br>study with the stated assumptions, the analysis<br>presented in the paper is perfectly valid, however, any<br>serious comparison with real data and attempts at<br>prediction from the model are highly problematic. The main<br>point of the present paper is to convincingly<br>establish this assertion while providing a warning that<br>the results and analysis of such...\",\" Some ideas are presented about the physical<br>motivation of the apparent capacity of generalized<br>logistic equations to describe the outbreak of the<br>COVID-19 infection, and in general of quite many other<br>epidemics. The main focuses here are: the complex,<br>possibly fractal, structure of the locus describing the<br>\\\"contagion event set\\\"; what can be learnt from the models of<br>trophic webs with \\\"herd behaviour\\\".\",\"Not provided.\",\" By incorporating segregated spatial domain<br>and individual-based linkage into the SIS<br>(susceptible-infected-susceptible) model, we investigate the coupled effects of<br>random walk and intragroup interaction on contagion.<br>Compared with the situation where only local movement or<br>individual-based linkage exists, the coexistence of them leads<br>to a wider spread of infectious disease. The roles<br>of narrowing segregated spatial domain and<br>reducing mobility in epidemic control are checked,<br>these two measures are found to be conducive to<br>curbing the spread of infectious disease. Considering<br>heterogeneous time scales between local movement and global<br>interaction, a log-log relation between the change in the<br>number of...\",\" IMPORTANCE: We found that the real time reverse<br>transcription-polymerase chain reaction (RT-PCR) detection of viral RNA<br>from sputum or nasopharyngeal swab has a relatively<br>low positive rate in the early stage to determine<br>COVID-19 (named by the World Health Organization). The<br>manifestations of computed tomography (CT) imaging of<br>COVID-19 had their own characteristics, which are<br>different from other types of viral pneumonia, such as<br>Influenza-A viral pneumonia. Therefore, clinical doctors<br>call for another early diagnostic criteria for this<br>new type of pneumonia as soon as possible.<br>OBJECTIVE: This study aimed to establish an early<br>screening model to distinguish COVID-19 pneumonia...\",\" Traditional vaccines against viruses are<br>designed to target their surface proteins, i.e.,<br>antigens, which can trigger the immune system to produce<br>specific antibodies to capture and neutralize the<br>viruses. However, viruses often evolve quickly, and<br>their antigens are prone to mutations to avoid<br>recognition by the antibodies (antigenic drift). This<br>limitation of the antibody-mediated immunity could be<br>addressed by the T-cell mediated immunity, which is able<br>to recognize conserved viral HLA peptides<br>presented on virus-infected cells. Thus, by targeting<br>conserved regions on the genome of a virus, T-cell<br>epitope-based vaccines are less subjected to mutations and<br>may work effectively on...\",\" Coronavirus Disease 2019 caused by severe<br>acute respiratory syndrome coronaviruses 2<br>(SARS-CoV-2) has become a serious global epidemic in the past<br>few months and caused huge loss to human society<br>worldwide. For such a large-scale epidemic, early<br>detection and isolation of potential virus carriers is<br>essential to curb the spread of the epidemic. Recent<br>studies have shown that one important feature of<br>COVID-19 is the abnormal respiratory status caused by<br>viral infections. During the epidemic, many people<br>tend to wear masks to reduce the risk of getting sick.<br>Therefore, in this paper, we propose a portable<br>non-contact method to screen...\",\" The observed sequence variation at a locus<br>informs about the evolutionary history of the sample<br>and past population size dynamics. The standard<br>Kingman coalescent model on genealogies -timed trees<br>that represent the ancestry of the sample -is used in<br>a generative model of molecular sequence<br>variation to infer evolutionary parameters. However,<br>the state space of Kingman's genealogies grows<br>superexponentially with sample size n, making inference<br>computationally unfeasible already for small n. We introduce a<br>new coalescent model called Tajima<br>heterochronous n-coalescent with a substantially smaller<br>cardinality of the genealogical space. This process allows<br>to analyze samples collected at different times,...\",\" In this paper, we propose a machine learning<br>technics and SIR models (deterministic and stochastic<br>cases) with numerical approximations to predict the<br>number of cases infected with the COVID-19, for both in<br>few days and the following three weeks. Like in [1]<br>and based on the public data from [2], we estimate<br>parameters and make predictions to help on how to find<br>concrete actions to control the situation. Under<br>optimistic estimation, the pandemic in some countries<br>will end soon, while for most of the countries in the<br>world, the hit of anti-pandemic will be no later than<br>the beginning of...\",\" Pandemic and epidemic diseases such as<br>CoVID-19, SARS-CoV2, and Ebola have spread to multiple<br>countries and infected thousands of people. Such<br>diseases spread mainly through person-to-person<br>contacts. Health care authorities recommend contact<br>tracing procedures to prevent the spread to a vast<br>population. Although several mobile applications have<br>been developed to trace contacts, they typically<br>require collection of privacy-intrusive information<br>such as GPS locations, and the logging of<br>privacy-sensitive data on a third party server, or require<br>additional infrastructure such as WiFi APs with known<br>locations. In this paper, we introduce CONTAIN, a<br>privacy-oriented mobile contact tracing application that does<br>not...\",\" Chest computed tomography (CT) is widely used<br>for the management of Coronavirus disease 2019<br>(COVID-19) pneumonia because of its availability and<br>rapidity 1-3 . The standard of reference for confirming<br>COVID-19 relies on microbiological tests but these<br>tests might not be available in an emergency setting<br>and their results are not immediately available,<br>contrary to CT. In addition to its role for early<br>diagnosis, CT has a prognostic role by allowing visually<br>evaluating the extent of COVID-19 lung abnormalities 4, 5 .<br>The objective of this study is to address<br>prediction of short-term outcomes, especially need for<br>mechanical ventilation. In...\",\" Feline infectious peritonitis (FIP) is<br>associated with mutations in the feline coronavirus<br>(FCoV) genome that are thought to convert the<br>subclinical feline enteric coronavirus (FECV) into the<br>lethal feline infectious peritonitis virus (FIPV). A<br>key feature of FIPV, not shared with FECV, is the<br>productive infection of macrophages. Therefore<br>mutations in proteins that govern cell tropism, such as<br>the spike glycoprotein, may play an important role<br>in FIP progression. In a prior study, involving a<br>limited number of samples, we have shown an association<br>of FIP with mutations in the protease<br>cleavage--activation site located between the receptor--binding<br>and fusion domains...\",\" While the coronavirus spreads around the<br>world, governments are attempting to reduce<br>contagion rates at the expense of negative economic<br>effects.\\nMarket expectations have plummeted, foreshadowing<br>the risk of a global economic crisis and mass<br>unemployment. Governments provide huge financial aid<br>programmes to mitigate the expected economic shocks. To<br>achieve higher effectiveness with cyclical and fiscal<br>policy measures, it is key to identify the industries<br>that are most in need of support.\\nIn this study, we<br>introduce a data-mining approach to measure the<br>industryspecific risks related to COVID-19. We examine company<br>risk reports filed to the U.S. Securities and<br>Exchange Commission (SEC)....\",\" In the last decade, humanity has faced many<br>different pandemics such as SARS, H1N1, and presently<br>novel coronavirus . On one side, scientists are<br>focusing on vaccinations, and on the other side, there is<br>a need to propose models that can help us in<br>understanding the spread of these pandemics as it can help<br>governmental and other concerned agencies to be well<br>prepared, especially from pandemics, which spreads<br>faster like COVID-19. The main reason for some<br>epidemic turning into pandemics is the connectivity<br>among different regions of the world, which makes it<br>easier to affect a wider geographical area, often...\",\" The aim of this paper consists in the<br>application of a recent epidemiological model, namely SEIR<br>with Social Distancing (SEIR-SD), extended here<br>through the definition of a social distancing function<br>varying over time, to assess the situation related to<br>the spreading of the coronavirus Covid-19 in Italy<br>and in two of its most important regions, i.e.,<br>Lombardy and Campania. To profitably use this model, the<br>most suitable values of its parameters must be<br>found. The estimation of the SEIR-SD model parameters<br>takes place here through the use of Differential<br>Evolution, a heuristic optimization technique. In this<br>way, we are able...\",\" The novel Coronavirus of 2019 caused an ongoing<br>pandemic with over 400, 000 confirmed cases and large<br>variability in its reported case fatality rates (CFRs),<br>which are proportions of fatal cases among<br>demographic groups. The relative CFRs between groups and<br>countries are key ratios that guide policy decisions<br>regarding scarce medical resource allocation. In the<br>middle of an active outbreak, estimating this measure<br>involves correcting for time-and severity-dependent<br>reporting of cases as well as time-lags in observed<br>patient outcomes. In this work, we argue that we must<br>make up for lost information about time when<br>estimating the relative CFR: without...\",\" Improving the throughput of molecular<br>docking, a computationally intensive phase of the<br>virtual screening process, is a highly sought area of<br>research since it has a significant weight in the drug<br>designing process. With such improvements, the world<br>might find cures for incurable diseases like HIV<br>disease and Cancer sooner. Our approach presented in<br>this paper is to utilize a multi-core environment to<br>introduce Data Level Parallelism (DLP) to the Autodock<br>Vina software, which is a widely used for molecular<br>docking software. Autodock Vina already exploits<br>Instruction Level Parallelism (ILP) in multi-core<br>environments and therefore optimized for such<br>environments. However,...\",\" The motion of droplets ejected in the air during<br>sneezing, coughing, breathing and speaking has been<br>studied within the scope of Langevin stochastic<br>differential equation. The effects of drag, diffusion and<br>the gravity on the droplets during its motion in the<br>air have been taken into account. We found that the<br>distance traveled by a droplet released at an average<br>human height by an infected individual strongly<br>depends on the velocity of ejection and mass of the<br>droplet. For example, a droplet of radius 100 \\u00b5m and mass<br>4186 nano-gm released at a height of 1.7 meter will<br>travel 2.35...\",\" Mathematical models of epidemiological<br>systems enable investigation of and predictions about<br>potential disease outbreaks. However, commonly used<br>models are often highly simplified representations<br>of incredibly complex systems. Because of these<br>simplifications, the model output, of say new cases of a disease<br>over time, or when an epidemic will occur, may be<br>inconsistent with available data. In this case, we must<br>improve the model, especially if we plan to make<br>decisions based on it that could affect human health and<br>safety, but direct improvements are often beyond our<br>reach. In this work, we explore this problem through a<br>case study of...\",\" We provide quantitative predictions of first<br>order supply and demand shocks for the U.S. economy<br>associated with the COVID-19 pandemic at the level of<br>individual occupations and industries. To analyze the<br>supply shock, we classify industries as essential or<br>non-essential and construct a Remote Labor Index, which<br>measures the ability of different occupations to work<br>from home. Demand shocks are based on a study of the<br>likely effect of a severe influenza epidemic<br>developed by the US Congressional Budget Office.<br>Compared to the pre-COVID period, these shocks would<br>threaten around 22% of the US economy's GDP, jeopardise<br>24% of jobs...\",\" The epidemic curve and the final extent of the<br>COVID-19 pandemic are usually predicted from the rate of<br>early exponential raising using the SIR model. These<br>predictions implicitly assume a full social mixing, which<br>is not plausible generally. Here I am showing a<br>counterexample to the these predictions, based on random<br>propagation of an epidemic in Barab\\u00e1si-Albert scale-free<br>network models. The start of the epidemic suggests R 0 =<br>2.6, but unlike \\u2126 \\u2248 70% predicted by the SIR model,<br>they reach a final extent of only \\u2126 \\u2248 4% without<br>external mitigation. Daily infection rate at the top of...\",\" The spreading of virus infection is here<br>simulated over artificial human networks. Here, the<br>real-space urban life of people is modeled as a scalefree<br>network with constraints. A scale-free network has<br>been adopted for modeling on-line communities so<br>far but is employed here for the aim to represent<br>peoples' social behaviors where the generated<br>communities are restricted reflecting the spatiotemporal<br>constraints in the real life. As a result, three findings and<br>a policy proposal have been obtained. First, the<br>height of the peaks in the time sequence of the number of<br>infection cases tends to get reduced corresponding to the...\",\" The COVID-19 (formerly, 2019-nCoV) epidemic<br>has become a global health emergency, as such, WHO<br>declared PHEIC. China has taken the most hit since the<br>outbreak of the virus, which could be dated as far back as<br>late November by some experts. It was not until<br>January 23rd that the Wuhan government finally<br>recognized the severity of the epidemic and took a drastic<br>measure to curtain the virus spread by closing down all<br>transportation connecting the outside world. In this study, we<br>seek to answer a few questions: How did the virus get<br>spread from the epicenter Wuhan city to the...\",\" This paper introduces a microscopic approach<br>to model epidemics, which can explicitly<br>consider the consequences of individual's decisions on<br>the spread of the disease. We first formulate a<br>microscopic multi-agent epidemic model where every agent<br>can choose its activity level that affects the<br>spread of the disease. Then by minimizing agents' cost<br>functions, we solve for the optimal decisions for<br>individual agents in the framework of game theory and<br>multi-agent reinforcement learning. Given the optimal<br>decisions of all agents, we can make predictions about the<br>spread of the disease. We show that there are negative<br>externalities in the sense that...\",\" The spread of sexually transmitted diseases<br>(e.g. Chlamydia, Syphilis, Gonorrhea, HIV) across<br>populations is a major concern for scientists and health<br>agencies. In this context, both data collection on sexual<br>contact networks and the modeling of disease<br>spreading, are intensively contributing to the search for<br>effective immunization policies. Here, the spreading of<br>sexually transmitted diseases on bipartite scale-free<br>graphs, representing heterosexual contact networks,<br>is considered. We analytically derive the<br>expression for the epidemic threshold and its dependence<br>with the system size in finite populations. We show<br>that the epidemic outbreak in bipartite<br>populations, with number of sexual partners distributed as...\",\" In this note we discuss the impact of the<br>COVID-19 outbreak from the perspective of<br>market-structure. We observe that US marketstructure has<br>dramatically changed during the past four weeks and that the<br>level of change has followed the number of infected<br>cases reported in the USA. Presently,<br>market-structure resembles most closely the structure during<br>the middle of the 2008 crisis but there are signs<br>that it may be starting to evolve into a new structure<br>altogether. This is the first article of a series where we<br>will be analysing and discussing market-structure<br>as it evolves to a state of further...\",\" Virus transmission from person to person is an<br>emergency event facing the global public. Early<br>detection and isolation of potentially susceptible<br>crowds can effectively control the epidemic of its<br>disease. Existing metrics can not correctly address the<br>infected rate on trajectories. To solve this problem, we<br>propose a novel spatio-temporal infected rate (IR)<br>measure based on human moving trajectories that can<br>adequately describe the risk of being infected by a given<br>query trajectory of a patient. Then, we manage source<br>data through an efficient spatio-temporal index to<br>make our system more scalable, and can quickly query<br>susceptible crowds from massive...\",\" We present a parsimonious stochastic model for<br>valuation of options on the fraction of infected<br>individuals during an epidemic. The underlying stochastic<br>dynamical system is a stochastic differential version of<br>the SIR model of mathematical epidemiology.\",\" For nearly a century, the initial reproduction<br>number (R 0 ) has been used as a one number summary to<br>compare outbreaks of infectious disease, yet there is<br>no 'standard' estimator for R 0 . Difficulties in<br>estimating R 0 arise both from how a disease transmits<br>through a population as well as from differences in<br>statistical estimation method. We describe eight methods<br>used to estimate R 0 and provide a thorough<br>simulation study of how these estimates change in the<br>presence of different disease parameters. As<br>motivation, we analyze the 2009 outbreak of the H1N1<br>pandemic influenza in the...\",\" We report a statistical analysis of some highly<br>infected countries by the novel coronavirus . The<br>cumulative infected data were fitted with various growth<br>models (e.g. Logistic equation, Weibull equation and<br>Hill equation) and obtained the power index of top<br>ten highly infected countries. The newly infected<br>data were fitted with Gaussian distribution with<br>the peak at ~40 days for the countries whose<br>infection curves are seem to be saturated. The similarity<br>in growth kinetics of infected people of<br>different countries provides first-hand guidelines to<br>take proper precautions to minimize human damage.\",\" The recent COVID-19 pandemic, which was first<br>detected in Wuhan, China, has been linked to increased<br>anti-Chinese sentiment in the United States. Recently,<br>Broniatowski et al. found that foreign powers, and<br>especially Russia, were implicated in information<br>operations using public health crises to promote discord<br>-including racial conflict -in American society<br>(Broniatowski et al., 2018) . This brief con-\",\" The current pandemic caused by the coronavirus<br>SARS-CoV-2 is having negative health, social and economic<br>consequences worldwide. In Europe, the pandemic started to<br>develop strongly at the end of February and beginning of<br>March 2020. It has subsequently spread over the<br>continent, with special virulence in northern Italy and<br>inland Spain. In this study we show that an unusual<br>persistent anticyclonic situation prevailing in<br>southwestern Europe during February 2020 (i.e. anomalously<br>strong positive phase of the North Atlantic and Arctic<br>Oscillations) could have resulted in favorable conditions,<br>in terms of air temperature and humidity, in Italy<br>and Spain for a...\",\"Not provided.\",\" Internet of Things is a revolutionary domain<br>that has the caliber to impact our lives and bring<br>significant changes to the world. Several IoT applications<br>have been envisioned to facilitate data driven and<br>smart application for the user. Smart City and<br>Intelligent Transportation System (ITS) offer a<br>futuristic vision of smart, secure and safe experience to<br>the end user, and at the same time efficiently<br>manage the sparse resources and optimize the<br>efficiency of city operations. However, outbreaks and<br>pandemics like COVID-19 have revealed limitations of the<br>existing deployments, therefore, architecture,<br>applications and technology systems need to be developed for...\",\" The novel coronavirus outbreak is a global<br>pandemic with community circulation in many countries,<br>including the U.S. where every state is reporting<br>confirmed cases. The course of this pandemic will be<br>largely shaped by how governments enact timely<br>policies, disseminate the information, and most<br>importantly, how the public reacts to them. Here, we examine<br>informationseeking responses to the first COVID-19 case public<br>announcement in a state. By using an eventstudy framework, we<br>show that such news increases collective attention<br>to the crisis right away, but the elevated level of<br>attention is short-lived, even though the initial<br>announcements were followed by...\",\" Since the SARS outbreak in 2003, a lot of<br>predictive epidemiological models have been proposed. At<br>the end of 2019, a novel coronavirus, termed as<br>2019-nCoV, has broken out and is propagating in China and<br>the world. Here we propose a multi-model ordinary<br>differential equation set neural network (MMODEs-NN) and<br>model-free methods to predict the interprovincial<br>transmissions in mainland China, especially those from Hubei<br>Province. Compared with the previously proposed<br>epidemiological models, the proposed network can simulate the<br>transportations with the ODEs activation method, while the<br>model-free methods based on the sigmoid function,<br>Gaussian function, and Poisson distribution are linear...\",\" Spatial spread of infectious diseases among<br>populations via the mobility of humans is highly stochastic<br>and heterogeneous. Accurate forecast/mining of<br>the spread process is often hard to be achieved by<br>using statistical or mechanical models. Here we<br>propose a new reverse problem, which aims to identify<br>the stochastically spatial spread process itself<br>from observable information regarding the arrival<br>history of infectious cases in each subpopulation. We<br>solved the problem by developing an efficient<br>optimization algorithm based on dynamical programming,<br>which comprises three procedures: i, anatomizing<br>the whole spread process among all subpopulations<br>into disjoint componential patches; ii, inferring<br>the most...\",\" COVID-19 has affected the world tremendously.<br>It is critical that biological experiments and<br>clinical designs are informed by computational<br>approaches for time-and cost-effective solutions.<br>Comparative analyses particularly can play a key role to<br>reveal structural changes in proteins due to<br>mutations, which can lead to behavioural changes, such as<br>the increased binding of the SARS-CoV-2 surface<br>glycoprotein to human ACE2 receptors. The aim of this report<br>is to provide an easy to follow tutorial for<br>biologists and others without delving into different<br>bioinformatics tools. More complex analyses such as the use of<br>large-scale computational methods can then be utilised.<br>Starting...\",\" The main focus of this study is to collect and<br>prepare data on air passengers traffic worldwide with<br>the scope of analyze the impact of travel ban on the<br>aviation sector. Based on historical data from January<br>2010 till October 2019, a forecasting model is<br>implemented in order to set a reference baseline. Making use<br>of airplane movements extracted from online<br>flight tracking platforms and on-line booking<br>systems, this study presents also a first assessment of<br>recent changes in flight activity around the world as a<br>result of the COVID-19 pandemic. To study the effects<br>of air travel ban on...\",\" Wavelet Transform (DWT) algorithms were used<br>as feature extraction methods. Support Vector<br>Machines (SVM) classified the extracted features.<br>2-fold, 5-fold and 10-fold cross-validations were<br>implemented during the classification process.<br>Sensitivity, specificity, accuracy, precision, and<br>F-score metrics were used to evaluate the<br>classification performance. The best classification<br>accuracy was obtained as 99.68% with 10-fold<br>cross-validation and GLSZM feature extraction method.\",\" Successful containment of the Coronavirus<br>pandemic rests on the ability to quickly and reliably<br>identify those who have been in close proximity to a<br>contagious individual. Existing tools for doing so rely on<br>the collection of exact location information of<br>individuals over lengthy time periods, and combining this<br>information with other personal information. This<br>unprecedented encroachment on individual privacy at<br>national scales has created an outcry and risks<br>rejection of these tools.\\nWe propose an alternative: an<br>extremely simple scheme for providing fine-grained and<br>timely alerts to users who have been in the close<br>vicinity of an infected individual. Crucially, this...\",\" The novel coronavirus (2019-nCoV) has been<br>declared to be a new international health emergence and<br>no specific drug has been yet identified. Several<br>methods are currently being evaluated such as protease<br>and glycosylated spike (S) protein inhibitors,<br>that outlines the main fusion site among<br>coronavirus and host cells. Notwithstanding, the Heptad<br>Repeat 1 (HR1) domain on the glycosylated spike (S)<br>protein is the region with less mutability and then the<br>most encouraging target for new inhibitors drugs.<br>The novelty of the proposed approach, compared to<br>others, lies in a precise training of a deep neural<br>network toward the 2019-nCoV virus....\",\" The outbreak of the new virus COVID-19, beyond<br>the human health risks and loss, has caused also<br>very serious problems in a wide range of human<br>activities, including the basic and applied scientific<br>research, mainly that concern world wide<br>collaborations. It is desirable to all of us to have the prospect<br>of quickly predicting a turning point in the daily<br>cases curve of the disease. In this work we face the<br>problem of COVID-19 virus disease spreading by aiming<br>mostly to create a reliable mathematical model<br>describing this mechanism for an isolated society, for<br>cities or even for a whole...\",\" We demonstrate use of iteratively pruned deep<br>learning (DL) model ensembles for detecting the<br>\\\"coronavirus disease 2019\\\" infection with chest X-rays<br>(CXRs). The disease is caused by the novel Severe Acute<br>Respiratory Syndrome Coronavirus 2 (SARS-CoV-2) virus,<br>also known as the novel Coronavirus (2019-nCoV). A<br>custom convolutional neural network (CNN) and a<br>selection of pretrained CNN models are trained on<br>publicly available CXR collections to learn CXR<br>modality-specific feature representations and the learned<br>knowledge is transferred and fine-tuned to improve<br>performance and generalization in the related task of<br>classifying normal, bacterial pneumonia, and CXRs<br>exhibiting COVID-19 abnormalities. The best performing...\",\" Diffusion of information, spread of rumors and<br>infectious diseases are all instances of stochastic<br>processes that occur over the edges of an underlying<br>network. Many times networks over which contagions<br>spread are unobserved, and such networks are often<br>dynamic and change over time. In this paper, we<br>investigate the problem of inferring dynamic networks<br>based on information diffusion data. We assume there<br>is an unobserved dynamic network that changes<br>over time, while we observe the results of a dynamic<br>process spreading over the edges of the network. The<br>task then is to infer the edges and the dynamics of the...\",\" In the COVID-19 outbreak, governments have<br>applied progressive restrictions to production<br>activities, permitting only those that are considered<br>strategic or that provide essential services. This is<br>particularly apparent in countries that have been stricken<br>hard by the virus, with Italy being a major example.<br>Yet we know that companies are not just isolated<br>entities: They organize themselves into intricate<br>shareholding structures -forming company networks<br>-distributing decision power and dividends in sophisticated<br>schemes for various purposes. One tool from the<br>Artificial Intelligence (AI) toolbox that is<br>particularly effective to perform reasoning tasks on<br>domains characterized by many entities highly<br>interconnected with...\",\" Using a random 10% sample of tweets authored<br>from 2019-09-01 through 2020-03-25, we analyze the<br>dynamic behavior of words (1-grams) used on Twitter to<br>describe the ongoing COVID-19 pandemic. Across 24<br>languages, we find two distinct dynamic regimes: One<br>characterizing the rise and subsequent collapse in collective<br>attention to the initial Coronavirus outbreak in late<br>January, and a second that represents March<br>COVID-19-related discourse. Aggregating countries by dominant<br>language use, we find that volatility in the first<br>dynamic regime is associated with future volatility in<br>new cases of COVID-19 roughly three weeks (average<br>22.7 \\u00b1 2.17 days) later. Our results...\",\" The focus of this paper is to trace how mass<br>media, particularly newspapers, have addressed the<br>issues about the containment of contagion or the<br>explanation of epidemiological evolution. We propose an<br>interactive dashboard: CO.ME.T.A.. During crises it is<br>important to shape the best communication strategies in<br>order to respond to critical situations. In this<br>regard, it is important to monitor the information that<br>mass media and social platforms convey. The<br>dashboard allows to explore the mining of contents<br>extracted and study the lexical structure that links the<br>main discussion topics. The dashboard merges<br>together four methods: text mining, sentiment<br>analysis,...\",\" Here, in an effort towards facile and fast<br>screening/diagnosis of novel coronavirus disease 2019 (COVID-19),<br>we combined the unprecedently sensitive<br>graphene fieldeffect transistor (Gr-FET) with highly<br>selective antibody-antigen interaction to develop a<br>coronavirus immunosensor. The Gr-FET immunosensors can<br>rapidly identify (about 2 mins) and accurately capture<br>the COVID-19 spike protein S1 (which contains a<br>receptor binding domain, RBD) at a limit of detection<br>down to 0.2 pM, in a real-time and label-free manner.<br>Further results ensure that the Gr-FET immunosensors<br>can be promisingly applied to screen for<br>high-affinity antibodies (with binding constant up to 2\\u00d710 11<br>M -1 against the...\",\" The crisis caused by COVID-19 revealed the<br>global unpreparedness to handle the impact of a<br>pandemic. In this paper, we present a statistical<br>analysis of the data related to the COVID-19 outbreak in<br>China, specifically the infection speed, death and<br>fatality rates in Hubei province. By fitting<br>distributions of these quantities we design a parametric<br>reinsurance contract whose trigger and cap are based on the<br>probability distributions of the infection speed, death<br>and fatality rates. In particular, fitting the<br>distribution for the infection speed and death rates we<br>provide a measure of the effectiveness of a state's<br>action during an...\",\" Early detection of person-to-person<br>transmission of emerging infectious diseases such as avian<br>influenza is crucial for containing pandemics. We<br>developed a simple permutation test and its refined<br>version for this purpose. A simulation study shows that<br>the refined permutation test is as powerful as or<br>outcompetes the conventional test built on asymptotic<br>theory, especially when the sample size is small. In<br>addition, our resampling methods can be applied to a broad<br>range of problems where an asymptotic test is not<br>available or fails. We also found that decent statistical<br>power could be attained with just a small number of<br>cases,...\",\" The rise of the World Airline Network over the<br>past century has lead to sharp changes in our notions<br>of 'distance' and 'closeness' -both in terms of<br>trade and travel, but also (less desirably) with<br>respect to the spread of disease. Using flight data from<br>the WAN, along with a drastically simplified<br>epidemic model, we are able to predict epidemic arrival<br>times, for arbitrary initial conditions, in a<br>computationally efficient manner. Our framework provides some<br>theoretical justification to the 'effective distance'<br>originally introduced by Brockmann & Helbing (2013),<br>however we also observed that the predictive power of<br>such heuristics is...\",\" From March 23rd, the data for the recovered<br>cases of COVID-19 are missing from the standard<br>repository maintained by the Johns Hopkins University in<br>collaboration with the WHO. But since data concerning<br>recovered patients are extremely important for<br>modelling the COVID-19 outbreak, a method for estimating<br>the missing data is provided and tested. As a<br>byproduct, it produces estimates for the probabilities to<br>die k days after confirmation, or to survive after d<br>days.\",\" The objective of this article is to explore the<br>Information and Communication Technology (ICT)<br>interventions and its strengths, weaknesses, opportunities<br>and threats for the containment of the pandemic<br>spread of novel Coronavirus. The research adopted a<br>qualitative research approach, while the study data were<br>collected through online content review and Focus Group<br>Discussion (FGD). Starting with a preliminary set of about<br>1200 electronic resources or contents, 56 were<br>selected for review study, applying an inclusion and<br>exclusion criteria. The review study revealed ICT<br>interventions that include websites and dashboards, mobile<br>applications, robotics and drones, artificial intelligence<br>(AI), data analytic, wearable...\",\" How to model the 2019 CoronaVirus (2019-nCov)<br>spread in China is one of the most urgent and<br>interesting problems in applied mathematics. In this<br>paper, we propose a novel time delay dynamic system<br>with external source to describe the trend of local<br>outbreak for the 2019-nCoV. The external source is<br>introduced in the newly proposed dynamic system, which can<br>be considered as the suspected people travel to<br>different areas. The numerical simulations exhibit the<br>dynamic system with the external source is more<br>reliable than the one without it, and the rate of<br>isolation is extremely important for controlling the<br>increase...\",\" Based on the classical SIR model, we derive a<br>simple modification for the dynamics of epidemics<br>with a known incubation period of infection. The<br>model is described by a system of<br>integrodifferential equations. Parameters of our model directly<br>related to epidemiological data. We derive some<br>analytical results, as well as perform numerical<br>simulations. We use the proposed model to analyze COVID-19<br>epidemic data in Armenia. We propose a strategy:<br>organize a quarantine, and then conduct extensive<br>testing of risk groups during the quarantine,<br>evaluating the percentage of the population among risk<br>groups and people with symptoms.\",\" We recently described a dynamic causal model of<br>a COVID-19 outbreak within a single region.<br>Here, we combine several of these (epidemic) models<br>to create a (pandemic) model of viral spread among<br>regions. Our focus is on a second wave of new cases that may<br>result from loss of immunity-and the exchange of<br>people between regions-and how mortality rates can be<br>ameliorated under different strategic responses. In<br>particular, we consider hard or soft social distancing<br>strategies predicated on national (Federal) or regional<br>(State) estimates of the prevalence of infection in the<br>population. The modelling is demonstrated using<br>timeseries of new...\",\"Not provided.\",\" Recently, the pandemic of the novel<br>Coronavirus Disease-2019 has presented governments with<br>ultimate challenges. In the United States, the country<br>with the highest confirmed COVID-19 infection<br>cases, a nationwide social distancing protocol has<br>been implemented by the President. For the first<br>time in a hundred years since the 1918 flu pandemic,<br>the US population is mandated to stay in their<br>households and avoid public contact. As a result, the<br>majority of public venues and services have ceased their<br>operations. Following the closure of the University of<br>Washington on March 7th, more than a thousand colleges and<br>universities in the United...\",\" We consider the pandemic spreading of COVID-19<br>for some selected countries after the outbreak of<br>the coronavirus in Wuhan City, China. We estimated<br>the infection rate and the initial infecting<br>individuals of COVID-19 by using the officially reported<br>data at the early stage of the epidemic for the<br>susceptible (S), infectable (I), quarantined (Q), and<br>confirmed recovered (R k ) population model, so called<br>SIQR k model. In the officially reported data we know<br>the quarantined cases and the official reported<br>recovered cases. We can't know the recovered cases from<br>the asymptomatic cases. In the SIQR k model we can...\",\" With the rapid development of COVID-19 into a<br>global pandemic, there is an ever more urgent need for<br>cheap, fast and reliable tools that can assist<br>physicians in diagnosing COVID-19. Medical imaging such<br>as CT can take a key role in complementing<br>conventional diagnostic tools from molecular biology, and,<br>using deep learning techniques, several automatic<br>systems were demonstrated promising performances<br>using CT or X-ray data. Here, we advocate a more<br>prominent role of point-of-care ultrasound imaging to<br>guide COVID-19 detection. Ultrasound is<br>non-invasive and ubiquitous in medical facilities around<br>the globe. Our contribution is threefold. First,<br>we gather a lung...\",\" Recently, the lung infection due to<br>Coronavirus Disease (COVID-19) affected a large human<br>group worldwide and the assessment of the infection<br>rate in the lung is essential for treatment<br>planning. This research aims to propose a<br>Machine-Learning-System (MLS) to detect the COVID-19 infection using<br>the CT scan Slices (CTS). This MLS implements a<br>sequence of methods, such as multi-thresholding, image<br>separation using threshold filter, feature-extraction,<br>feature-selection, feature-fusion and classification. The<br>initial part implements the Chaotic-Bat-Algorithm<br>and Kapur's Entropy (CBA+KE) thresholding to<br>enhance the CTS. The threshold filter separates the<br>image into two segments based on a chosen threshold<br>'Th'. The...\",\" The corona virus disease 2019 caused by the<br>novel corona virus has an exponential rate of<br>infection. COVID-19 is particularly notorious as the<br>onset of symptoms in infected patients are usually<br>delayed and there exists a large number of asymptomatic<br>carriers. In order to prevent overwhelming of medical<br>facilities and large fatality rate, early stage testing<br>and diagnosis are key requirements. In this<br>article, we discuss the methodologies from the group<br>testing literature and its relevance to COVID-19<br>diagnosis. Specifically, we investigate the efficiency<br>of group testing using polymerase chain reaction<br>(PCR) for COVID-19. Group testing is a method in...\",\" The coronavirus disease 2019 (COVID-19)<br>caused by a new type of coronavirus has been emerging<br>from China and led to thousands of death globally<br>since December 2019. Despite many groups have<br>engaged in studying the newly emerged virus and<br>searching for the treatment of COVID-19, the<br>understanding of the COVID-19 target -ligand interactions<br>represents a key challenge. Herein, we introduce COVID-19<br>Docking Server, a web server that predicts the binding<br>modes between COVID-19 targets and the ligands<br>including small molecules, peptide and antibody.<br>Structures of proteins involved in the virus life cycle<br>were collected or constructed based on the homologs...\",\" Since the end of 2019 an outbreak of a new strain<br>of coronavirus, called 2019-nCoV, is reported<br>from China and later other parts of the world. Since<br>January 21, WHO reports daily data on confirmed cases<br>and deaths from both China and other countries [1] .<br>In this work we present some discrete and<br>continuous models to discribe the disease dynamics in<br>China and estimate the needed epidemiological<br>parameters. Good agreement with the current dynamics has be<br>found for both a discrete transmission model and a<br>slightly modified SIR-model.\"],\"authors\":[\" Shaoping Hu.  Yuan Gao.  Zhangming Niu.  Yinghui<br>Jiang.  Lao Li.  Xianglu Xiao.  Minhao Wang.  Evandro Fang<br>Fei.  Wade Menpes-Smith.  Jun Xia.  Hui Ye.  Guang Yang\",\" Ophir Gozes.  Maayan Frid-Adar.  Hayit<br>Greenspan.  Patrick Browning D..  Huangqi Zhang.  Wenbin Ji. <br>Adam Bernheim.  Eliot Siegel\",\" P. Grinchuk S..  E. Fisenko I..  S. Fisenko P..  S.<br>Danilova-Tretiak M.\",\"Rose Baker\",\" Gregory Haber.  Yaakov Malinovsky.  Paul Albert<br>S.\",\"Samuel Scarpino V..  Giovanni Petri\",\" Wuqiong Luo.  Wee Tay Peng.  Mei Leng\",\" Urs Gasser.  Marcello Ienca.  James Scheibner. <br>Joanna Sleigh.  Effy Vayena\",\"Muhammad Farooq.  Abdul Hafeez\",\"Philipp Wicke.  Marianna Bolognesi M.\",\"Julie Rowlett.  Carl-Joar Karlsson\",\"Mario Villalobos-Arias\",\"Xiao Fang.  David Siegmund\",\"Suman Dutta\",\" Luca Bolzoni.  Elena Bonacini.  Cinzia<br>Soresina.  Maria Groppi\",\" Tridip Sardar.  Sk Nadim Shahid.  Joydev<br>Chattopadhyay\",\"Keshav Amla.  Tarun Amla\",\"Jingyuan Yu\",\"Luca Dell'Anna\",\"Federico Zullo\",\" Pedro Savi V..  Marcelo Savi A..  Beatriz Borges\",\"Zhanshan Ma\",\"Neeraj Poonia.  Sarita Azad\",\" Brian Subirana.  Ferran Hueto.  Prithvi<br>Rajasekaran.  Jordi Laguarta.  Susana Puig.  Josep Malvehy. <br>Oriol Mitja.  Antoni Trilla.  Carlos Moreno Iv'an. <br>Jos'e Valle Francisco Munoz.  Ana Gonz'alez Esther<br>Mercado.  Barbara Vizmanos.  Sanjay Sarma\",\" Bnaya Gross.  Zhiguo Zheng.  Shiyan Liu.  Xiaoqi<br>Chen.  Alon Sela.  Jianxin Li.  Daqing Li.  Shlomo Havlin\",\" Steven Sanche.  Yen Lin Ting.  Chonggang Xu. <br>Ethan Romero-Severson.  Nicolas Hengartner W.. <br>Ruian Ke\",\"Linda Wang.  Alexander Wong\",\" Jirong Yi.  Raghu Mudumbai.  Weiyu Xu\",\"Carlos Castro Armando De\",\" Alex Berke.  Michiel Bakker.  Praneeth<br>Vepakomma.  Kent Larson.  Alex Pentland 'Sandy'\",\" Anatoly Zhigljavsky.  Roger Whitaker.  Ivan<br>Fesenko.  Kobi Kremnizer.  Jack Noonan.  Paul Harper. <br>Jonathan Gillard.  Thomas Woolley.  Daniel Gartner. <br>Jasmine Grimsley.  Edilson Arruda de.  Val Fedorov.  Tom<br>MBE Crick\",\" Raphael Tang.  Rodrigo Nogueira.  Edwin Zhang. <br>Nikhil Gupta.  Phuong Cam.  Kyunghyun Cho.  Jimmy Lin\",\"Stephen Moore E..  Eric Okyere\",\" Michael Small.  Pengliang Shi.  Chi Tse Kong\",\" C. Galbiati.  A. Abba.  P. Agnes.  P. Amaudruz.  M.<br>Arba.  F. Ardellier-Desages.  C. Badia.  G. Batignani. <br>G. Bellani.  G. Bianchi.  D. Bishop.  V. Bocci.  W.<br>Bonivento.  B. Bottino.  M. Bouchard.  S. Brice.  G. Buccino. <br>S. Bussino.  A. Caminata.  A. Capra.  M. Caravati.  M.<br>Carlini.  L. Carrozzi.  J. Cela M..  B. Celano.  C. Charette. <br>S. Coelli.  M. Constable.  V. Cocco.  G. Croci.  S.<br>Cudmore.  A. Molin Dal.  S. D'Auria.  G. D'Avenio.  J.<br>DeRuiter.  S. Cecco De.  L. Lauretis De.  M. Tutto Del.  A.<br>Devoto.  T. Dinon.  E. Druszkiewicz.  A. Fabbri.  F.<br>Ferroni.  G. Fiorillo.  R. Ford.  G. Foti.  D. Franco.  F.<br>Gabriele.  P. Abia Garcia.  L. Giarratana S..  J. Givoletti. <br>Mi. Givoletti.  G. Gorini.  E. Gramellini.  G.<br>Grosso.  F. Guescini.  E. Guetre.  T. Hadden.  J. Hall.  A.<br>Heavey.  G. Hersak.  N. Hessey.  An. Ianni.  C. Ienzi.  V.<br>Ippolito.  C. Kendziora L..  M. King.  A. Kittmer.  I.<br>Kochanek.  R. Kruecken.  M. Commara La.  G. Leblond.  X. Li.  C.<br>Lim.  T. Lindner.  T. Lombardi.  T. Long.  P. Lu.  G.<br>Lukhanin.  G. Magni.  R. Maharaj.  M. Malosio.  C. Mapelli.  P.<br>Maqueo.  P. Margetak.  S. Mari M..  L. Martin.  N.<br>Massacret.  A. McDonald.  D. Minuzzo.  T. Mohayai A..  L.<br>Tosatti Molinari.  C. Moretti.  A. Muraro.  F. Nati.  A.<br>Noble J..  A. Norrick.  K. Olchanski.  I. Palumbo.  R.<br>Paoletti.  N. Paoli.  C. Pearson.  C. Pellegrino.  V. Pesudo. <br>A. Pocar.  M. Pontesilli.  R. Pordes.  S. Pordes.  A.<br>Prini.  O. Putignano.  J. Raaf L..  M. Razeti.  A. Razeto. <br>D. Reed.  A. Renshaw.  M. Rescigno.  F. Retiere.  L.<br>Rignanese P..  J. Rode.  L. Romualdez J..  R. Santorelli.  D.<br>Sablone.  E. Scapparone.  T. Schaubel.  B. Shaw.  A. Slutsky<br>S..  B. Smith.  N.J.T. Smith.  P. Spagnolo.  F.<br>Spinella.  A. Stenzler.  A. Steri.  L. Stiaccini.  C.<br>Stoughton.  P. Stringari.  M. Tardocchi.  R. Tartaglia.  G.<br>Testera.  C. Tintori.  A. Tonazzo.  J. Tseng.  E. Viscione. <br>F. Vivaldi.  M. Wada.  H. Wang.  S. Westerdale.  S.<br>Yue.  A. Zardoni\",\" Giuseppe Calafiore C..  Carlo Novara.  Corrado<br>Possieri\",\" R. Gonzalez I..  F. Munoz.  P. Moya S..  M. Kiwi\",\"Giuseppe Gaeta\",\"Emmanuel Nimako-Aidoo de-Graft Johnson Owusu-Ansah Atinuke O. Adebanji E\",\" Kathakali Biswas.  Abdul Khaleque.  Parongama<br>Sen\",\" Yi-Cheng Chen.  Ping-En Lu.  Cheng-Shang Chang. <br>Tzu-Hsuan Liu\",\"Duanbing Chen.  Tao Zhou\",\" Philip Par'e E..  Ji Liu.  Carolyn Beck L.. <br>Angelia Nedi'c.  Tamer Bacsar\",\" Marc Eisenstadt.  Manoharan Ramachandran. <br>Niaz Chowdhury.  Allan Third.  John Domingue\",\"Anis Koubaa\",\" Harshad Khadilkar.  Tanuja Ganu.  Deva<br>Seetharam P\",\" Dave DeCaprio.  Joseph Gartner.  Thadeus<br>Burgess.  Sarthak Kothari.  Shaayan Sayed.  Carol McCall<br>J.\",\"Changchuan Yin\",\" Rosalyn Moran J..  Erik Fagerholm D..  Maell<br>Cullen.  Jean Daunizeau.  Mark Richardson P..  Steven<br>Williams.  Federico Turkheimer.  Rob Leech.  Karl Friston<br>J.\",\" Yu-Huan Wu.  Shang-Hua Gao.  Jie Mei.  Jun Xu. <br>Deng-Ping Fan.  Chao-Wei Zhao.  Ming-Ming Cheng\",\" Tianyang Li.  Zhongyi Han.  Benzheng Wei. <br>Yuanjie Zheng.  Yanfei Hong.  Jinyu Cong\",\"Apiano Morais F.\",\"Samuel Heroy\",\" Vincent Wong.  Daniel Cooney.  Yaneer Bar-Yam\",\" Dalia Ezzat.  Aboul Hassanien ell.  Hassan Ella<br>Aboul\",\"Adam Wolisz\",\"Vukosi Marivate.  Herkulaas Combrink MvE\",\" Zixin Hu.  Qiyang Ge.  Shudi Li.  Li Jin.  Momiao<br>Xiong\",\"Benjamin Maier F..  Dirk Brockmann\",\"Giuseppe Gaeta\",\" Semra Ahmetolan.  Ayse Bilge Humeyra.  Ali<br>Demirci.  Ayse Peker-Dobie.  Onder Ergonul\",\" Fei Liu.  Aaron Page.  Sarah Strode A..  Yasuko<br>Yoshida.  Sungyeon Choi.  Bo Zheng.  Lok Lamsal N..  Can Li. <br>Nickolay Krotkov A..  Henk Eskes.  A Ronaldvander.  Pepijn<br>Veefkind.  Pieternel Levelt.  Joanna Joiner.  Oliver<br>Hauser P.\",\" Juan Mora C..  Sandra P'erez.  Ignacio<br>Rodr'iguez.  Asunci'on N'unez.  Alla Dvorzhak\",\"Tsumoru Shintake\",\" F. Mart'inez-'Alvarez.  G. Asencio-Cort'es. <br>J. Torres F..  D. Guti'errez-Avil'es.  L.<br>Melgar-Garc'ia.  R. P'erez-Chac'on.  C. Rubio-Escudero.  J.<br>Riquelme C..  A. Troncoso\",\"Anuj Srivastava\",\"Abhishek Dhar\",\"Massimo Materassi\",\" Ramesh Raskar.  Isabel Schunemann.  Rachel<br>Barbar.  Kristen Vilcans.  Jim Gray.  Praneeth<br>Vepakomma.  Suraj Kapa.  Andrea Nuzzo.  Rajiv Gupta.  Alex<br>Berke.  Dazza Greenwood.  Christian Keegan.  Shriank<br>Kanaparti.  Robson Beaudry.  David Stansbury.  Beatriz<br>Arcila Botero.  Rishank Kanaparti.  Vitor Pamplona. <br>Francesco Benedetti M.  Alina Clough.  Riddhiman Das. <br>Kaushal Jain.  Khahlil Louisy.  Greg Nadeau.  Steve<br>Penrod.  Yasaman Rajaee.  Abhishek Singh.  Greg Storm. <br>John Werner\",\" Li-Xin Zhong.  Wen-Juan Xu.  Rong-Da Chen.  Tian<br>Qiu.  Chen-Yang Zhong\",\" Xiaowei Xu.  Xiangao Jiang.  Chunlian Ma.  Peng<br>Du.  Xukun Li.  Shuangzhi Lv.  Liang Yu.  Yanfei Chen. <br>Junwei Su.  Guanjing Lang.  Yongtao Li.  Hong Zhao. <br>Kaijin Xu.  Lingxiang Ruan.  Wei Wu\",\" Rui Qiao.  Ngoc Tran Hieu.  Baozhen Shan.  Ali<br>Ghodsi.  Ming Li\",\" Zheng Jiang.  Menghan Hu.  Lei Fan.  Yaling Pan. <br>Wei Tang.  Guangtao Zhai.  Yong Lu\",\" Lorenzo Cappello.  Amandine Veber.  Julia<br>Palacios A.\",\" Babacar Ndiaye Mbaye.  Lena Tendeng.  Diaraf<br>Seck\",\" Arvin Hekmati.  Gowri Ramachandran.  Bhaskar<br>Krishnamachari\",\" Guillaume Chassagnon.  Maria Vakalopoulou. <br>Enzo Battistella.  Stergios Christodoulidis. <br>Trieu-Nghi Hoang-Thi.  Severine Dangeard.  Eric Deutsch. <br>Fabrice Andre.  Enora Guillo.  Nara Halm.  Stefany Hajj<br>El.  Florian Bompard.  Sophie Neveu.  Chahinez Hani. <br>Ines Saab.  Alienor Campredon.  Hasmik Koulakian. <br>Souhail Bennani.  Gael Freche.  Aurelien Lombard.  Laure<br>Fournier.  Hippolyte Monnier.  Teodor Grand.  Jules<br>Gregory.  Antoine Khalil.  Elyas Mahdjoub.  Pierre-Yves<br>Brillet.  Stephane Ba Tran.  Valerie Bousson. <br>Marie-Pierre Revel.  Nikos Paragios\",\" Beth Licitra N..  Kelly Sams L..  Donald Lee W.. <br>Gary R.Whittaker\",\" Fabian Stephany.  Niklas Stoehr.  Philipp<br>Darius.  Leonie Neuhauser.  Ole Teutloff.  Fabian<br>Braesemann\",\"Rahul Goel.  Rajesh Sharma\",\" I. Falco De.  A. Cioppa Della.  U. Scafuri.  E.<br>Tarantino\",\" Anastasios Angelopoulos Nikolas.  Reese<br>Pathak.  Rohit Varma.  Michael Jordan I.\",\" Upul Senanayake.  Rahal Prabuddha.  Roshan<br>Ragel\",\" Santosh Das K..  Jan-e Alam.  Salvatore Plumari. <br>Vincenzo Greco\",\"Rebecca Morrison E..  Americo Cunha\",\" R. Rio-Chanona Maria del.  Penny Mealy.  Anton<br>Pichler.  Francois Lafond.  Doyne Farmer\",\"Gyula Szab'o M.\",\"Yukio Ohsawa\",\" Baoquan Chen.  Mingyi Shi.  Xingyu Ni.  Liangwang<br>Ruan.  Hongda Jiang.  Heyuan Yao.  Mengdi Wang.  Zhenhua<br>Song.  Qiang Zhou.  Tong Ge\",\"Changliu Liu\",\" J. Gomez-Gardenes.  V. Latora.  Y. Moreno.  E.<br>Profumo V.\",\" Pier Procacci Francesco.  Carolyn Phelan E.. <br>Tomaso Aste\",\" Huajun He.  Ruiyuan Li.  Rubin Wang.  Jie Bao.  Yu<br>Zheng.  Tianrui Li\",\"Andrew Lesniewski.  Nicholas Lesniewski\",\" Shannon Gallagher.  Andersen Chang.  William<br>Eddy F.\",\"Jagadish Kumar.  K. Hembram P. S. S.\",\" Autumn Toney.  Akshat Pandey.  Wei Guo.  David<br>Broniatowski.  Aylin Caliskan\",\" Arturo Sanchez-Lorenzo.  Javier<br>Vaquero-Mart'inez.  Josep Calb'o.  Martin Wild.  Ana Santurt'un. <br>Joan-A. Lopez-Bustins.  Jose-M. Vaquero.  Doris<br>Folini.  Manuel Ant'on\",\"Pitoyo Hartono\",\" Maanak Gupta.  Mahmoud Abdelsalam.  Sudip<br>Mittal\",\" Ana Bento I..  Thuy Nguyen.  Coady Wing.  Felipe<br>Lozano-Rojas.  Yong-Yeol Ahn.  Kosali Simon\",\" Tianyu Zeng.  Yunong Zhang.  Zhenyu Li.  Xiao Liu. <br>Binbin Qiu\",\" Jian-Bo Wang.  Lin Wang.  Xiang Li\",\"Goksel Misirli\",\" Stefano Iacus Maria.  Fabrizio Natale.  Carlos<br>Satamaria.  Spyridon Spyratos.  Michele Vespe\",\" Mucahid Barstugan.  Umut Ozkaya.  Saban Ozturk\",\" Ran Canetti.  Ari Trachtenberg.  Mayank Varia\",\"Nicolo Savioli\",\"S. Maltezos\",\" Sivaramakrishnan Rajaraman.  Jen Siegelman. <br>Philip Alderson O..  Lucas Folio S..  Les Folio R.. <br>Sameer Antani K.\",\" Manuel Rodriguez Gomez.  Jure Leskovec. <br>Bernhard Scholkopf\",\" Luigi Bellomarini.  Marco Benedetti.  Andrea<br>Gentili.  Rosario Laurendi.  Davide Magnanimi.  Antonio<br>Muci.  Emanuel Sallinger\",\" David Dewhurst Rushing.  Thayer Alshaabi. <br>Michael Arnold V..  Joshua Minot R..  Christopher<br>Danforth M..  Peter Dodds Sheridan\",\" Emma Zavarrone.  Maria Grassia Gabriella. <br>Marina Marino.  Rasanna Cataldo.  Rocco Mazza.  Nicola<br>Canestrari\",\" Xiaoyan Zhang.  Qige Qi.  Qiushi Jing.  Shen Ao. <br>Zhihong Zhang.  Mingchao Ding.  Muhong Wu.  Kaihui Liu. <br>Weipeng Wang.  Yunhan Ling.  Zhengjun Zhang.  Wangyang Fu\",\" S. Sahin.  M. Boado-Penas C..  C.<br>Constantinescu.  J. Eisenberg.  K. Henshaw.  M. Hu.  J. Wang.  W. Zhu\",\" Yang Yang.  Ira Longini M..  M. Halloran<br>Elizabeth\",\"Alastair Jamieson-Lane.  Bernd Blasius\",\"Robert Schaback\",\" Akib Zaman.  Muhammad Islam Nazrul.  Tarannum<br>Zaki.  Mohammad Hossain Sajjad\",\" Yu Chen.  Jin Cheng.  Yu Jiang.  Keji Liu\",\"David Saakian B.\",\" Karl Friston J..  Thomas Parr.  Peter Zeidman. <br>Adeel Razi.  Guillaume Flandin.  Jean Daunizeau. <br>Oliver Hulme J..  Alexander Billig J..  Vladimir<br>Litvak.  Cathy Price J..  Rosalyn Moran J..  Christian<br>Lambert\",\" Erik Boetto.  Maria Fantini Pia.  Aldo Gangemi. <br>Davide Golinelli.  Manfredi Greco.  Andrea Nuzzolese<br>Giovanni.  Valentina Presutti.  Flavia Rallo\",\" Viet Duong.  Phu Pham.  Tongyu Yang.  Yu Wang. <br>Jiebo Luo\",\" Seo Chae Yoon.  Kyoung-Eun Lee.  Hyun Lee Min.  Nam<br>Jun.  Quang Le Ahn.  Biseko Mafwele Juma.  Tae Lee Ho. <br>Doo Kim Hwan.  Jae Lee Woo\",\" Jannis Born.  Gabriel Brandle.  Manuel Cossio. <br>Marion Disdier.  Julie Goulet.  J'er'emie Roulin.  Nina<br>Wiedemann\",\" Seifedine Kadry.  Venkatesan Rajinikanth. <br>Seungmin Rho.  Nadaradjane Raja Sri Madhava.  Vaddi Rao<br>Seshagiri.  Krishnan Thanaraj Palani\",\"Lakshmi Theagarajan N.\",\" Ren Kong.  Guangbo Yang.  Rui Xue.  Ming Liu.  Feng<br>Wang.  Jianping Hu.  Xiaoqiang Guo.  Shan Chang\",\"Thomas Gotz\"],\"desc\":{\"__ndarray__\":\"AQAAAAEAAAAEAAAAAAAAAAYAAAAEAAAABwAAAAIAAAABAAAABQAAAAQAAAAAAAAAAAAAAAQAAAADAAAABwAAAAAAAAAEAAAAAAAAAAAAAAAAAAAABAAAAAAAAAABAAAABAAAAAQAAAABAAAABgAAAAAAAAACAAAABgAAAAcAAAADAAAAAAAAAAMAAAAAAAAABAAAAAAAAAAEAAAAAAAAAAQAAAAEAAAAAwAAAAIAAAAEAAAABwAAAAMAAAAEAAAAAAAAAAEAAAABAAAAAAAAAAQAAAAEAAAAAQAAAAIAAAAEAAAAAAAAAAQAAAAAAAAAAAAAAAQAAAAAAAAABAAAAAQAAAAAAAAAAAAAAAQAAAACAAAABAAAAAEAAAAEAAAAAQAAAAcAAAAAAAAAAgAAAAEAAAAEAAAABQAAAAQAAAAAAAAAAAAAAAYAAAAEAAAAAAAAAAUAAAAEAAAABwAAAAQAAAADAAAABwAAAAUAAAAHAAAAAAAAAAAAAAAAAAAABAAAAAQAAAAEAAAABAAAAAQAAAAAAAAABAAAAAQAAAAEAAAAAQAAAAIAAAABAAAAAAAAAAEAAAAHAAAABQAAAAAAAAAFAAAAAwAAAAAAAAAGAAAABwAAAAAAAAADAAAAAwAAAAAAAAAAAAAABAAAAAIAAAAAAAAAAQAAAAEAAAAGAAAAAgAAAAAAAAA=\",\"dtype\":\"int32\",\"shape\":[131]},\"journal\":[\"NaN\",\"NaN\",\"NaN\",\"NaN\",\"NaN\",\"NaN\",\"NaN\",\"NaN\",\"NaN\",\"NaN\",\"NaN\",\"NaN\",\"NaN\",\"NaN\",\"NaN\",\"NaN\",\"NaN\",\"NaN\",\"NaN\",\"NaN\",\"NaN\",\"NaN\",\"NaN\",\"NaN\",\"NaN\",\"NaN\",\"NaN\",\"NaN\",\"NaN\",\"NaN\",\"NaN\",\"NaN\",\"NaN\",\"NaN\",\"NaN\",\"NaN\",\"NaN\",\"NaN\",\"NaN\",\"NaN\",\"NaN\",\"NaN\",\"NaN\",\"NaN\",\"NaN\",\"NaN\",\"NaN\",\"NaN\",\"NaN\",\"NaN\",\"NaN\",\"NaN\",\"NaN\",\"NaN\",\"NaN\",\"NaN\",\"NaN\",\"NaN\",\"NaN\",\"NaN\",\"NaN\",\"NaN\",\"NaN\",\"NaN\",\"NaN\",\"NaN\",\"NaN\",\"NaN\",\"NaN\",\"NaN\",\"NaN\",\"NaN\",\"NaN\",\"NaN\",\"NaN\",\"NaN\",\"NaN\",\"NaN\",\"NaN\",\"NaN\",\"NaN\",\"NaN\",\"NaN\",\"NaN\",\"NaN\",\"NaN\",\"NaN\",\"NaN\",\"NaN\",\"NaN\",\"Proceedings of the National Academy of Sciences\",\"NaN\",\"NaN\",\"NaN\",\"NaN\",\"NaN\",\"NaN\",\"NaN\",\"NaN\",\"NaN\",\"NaN\",\"NaN\",\"NaN\",\"NaN\",\"NaN\",\"NaN\",\"NaN\",\"NaN\",\"NaN\",\"NaN\",\"NaN\",\"NaN\",\"NaN\",\"NaN\",\"NaN\",\"NaN\",\"The Annals of Applied Statistics\",\"NaN\",\"NaN\",\"NaN\",\"NaN\",\"NaN\",\"NaN\",\"NaN\",\"NaN\",\"NaN\",\"NaN\",\"NaN\",\"NaN\",\"NaN\",\"NaN\"],\"labels\":[\"C-1\",\"C-1\",\"C-4\",\"C-0\",\"C-6\",\"C-4\",\"C-7\",\"C-2\",\"C-1\",\"C-5\",\"C-4\",\"C-0\",\"C-0\",\"C-4\",\"C-3\",\"C-7\",\"C-0\",\"C-4\",\"C-0\",\"C-0\",\"C-0\",\"C-4\",\"C-0\",\"C-1\",\"C-4\",\"C-4\",\"C-1\",\"C-6\",\"C-0\",\"C-2\",\"C-6\",\"C-7\",\"C-3\",\"C-0\",\"C-3\",\"C-0\",\"C-4\",\"C-0\",\"C-4\",\"C-0\",\"C-4\",\"C-4\",\"C-3\",\"C-2\",\"C-4\",\"C-7\",\"C-3\",\"C-4\",\"C-0\",\"C-1\",\"C-1\",\"C-0\",\"C-4\",\"C-4\",\"C-1\",\"C-2\",\"C-4\",\"C-0\",\"C-4\",\"C-0\",\"C-0\",\"C-4\",\"C-0\",\"C-4\",\"C-4\",\"C-0\",\"C-0\",\"C-4\",\"C-2\",\"C-4\",\"C-1\",\"C-4\",\"C-1\",\"C-7\",\"C-0\",\"C-2\",\"C-1\",\"C-4\",\"C-5\",\"C-4\",\"C-0\",\"C-0\",\"C-6\",\"C-4\",\"C-0\",\"C-5\",\"C-4\",\"C-7\",\"C-4\",\"C-3\",\"C-7\",\"C-5\",\"C-7\",\"C-0\",\"C-0\",\"C-0\",\"C-4\",\"C-4\",\"C-4\",\"C-4\",\"C-4\",\"C-0\",\"C-4\",\"C-4\",\"C-4\",\"C-1\",\"C-2\",\"C-1\",\"C-0\",\"C-1\",\"C-7\",\"C-5\",\"C-0\",\"C-5\",\"C-3\",\"C-0\",\"C-6\",\"C-7\",\"C-0\",\"C-3\",\"C-3\",\"C-0\",\"C-0\",\"C-4\",\"C-2\",\"C-0\",\"C-1\",\"C-1\",\"C-6\",\"C-2\",\"C-0\"],\"links\":[\"NaN\",\"NaN\",\"NaN\",\"NaN\",\"NaN\",\"NaN\",\"10.1109/tsp.2013.2256902\",\"NaN\",\"NaN\",\"NaN\",\"NaN\",\"NaN\",\"NaN\",\"10.13140/rg.2.2.12559.12966\",\"NaN\",\"NaN\",\"NaN\",\"NaN\",\"NaN\",\"NaN\",\"NaN\",\"NaN\",\"NaN\",\"NaN\",\"NaN\",\"NaN\",\"NaN\",\"NaN\",\"NaN\",\"NaN\",\"NaN\",\"NaN\",\"NaN\",\"NaN\",\"NaN\",\"NaN\",\"NaN\",\"NaN\",\"NaN\",\"NaN\",\"NaN\",\"NaN\",\"NaN\",\"NaN\",\"NaN\",\"NaN\",\"NaN\",\"NaN\",\"NaN\",\"NaN\",\"NaN\",\"NaN\",\"NaN\",\"NaN\",\"NaN\",\"NaN\",\"NaN\",\"NaN\",\"NaN\",\"NaN\",\"NaN\",\"NaN\",\"NaN\",\"NaN\",\"NaN\",\"NaN\",\"NaN\",\"NaN\",\"NaN\",\"NaN\",\"NaN\",\"NaN\",\"NaN\",\"NaN\",\"NaN\",\"NaN\",\"NaN\",\"NaN\",\"NaN\",\"NaN\",\"NaN\",\"NaN\",\"10.1109/iciafs.2012.6419885\",\"NaN\",\"NaN\",\"NaN\",\"NaN\",\"NaN\",\"NaN\",\"NaN\",\"10.1073/pnas.0707332105\",\"NaN\",\"NaN\",\"NaN\",\"NaN\",\"NaN\",\"NaN\",\"NaN\",\"NaN\",\"NaN\",\"NaN\",\"NaN\",\"10.1109/tcyb.2015.2489702\",\"NaN\",\"NaN\",\"NaN\",\"NaN\",\"NaN\",\"NaN\",\"NaN\",\"NaN\",\"NaN\",\"NaN\",\"NaN\",\"NaN\",\"NaN\",\"10.1214/07-aoas105\",\"NaN\",\"NaN\",\"NaN\",\"NaN\",\"NaN\",\"NaN\",\"NaN\",\"NaN\",\"NaN\",\"NaN\",\"NaN\",\"NaN\",\"NaN\",\"NaN\"],\"titles\":[\" Weakly Supervised Deep Learning for COVID-19<br>Infection Detection and Classification from CT Images\",\" Rapid AI Development Cycle for the Coronavirus<br>(COVID-19) Pandemic: Initial Results for Automated<br>Detection&Patient Monitoring using Deep Learning CT Image<br>Analysis\",\" Isothermal evaporation rate of deposited<br>liquid aerosols and the SARS-CoV-2 coronavirus<br>survival\",\" Reactive Social distancing in a SIR model of<br>epidemics such as COVID-19\",\" Is Group Testing Ready for Prime-time in<br>Disease Identification?\",\" On the predictability of infectious disease<br>outbreaks\",\" Identifying Infection Sources and Regions in<br>Large Networks\",\" Digital tools against COVID-19: Framing the<br>ethical challenges and how to address them\",\" COVID-ResNet: A Deep Learning Framework for<br>Screening of COVID19 from Radiographs\",\" Framing COVID-19: How we conceptualize and<br>discuss the pandemic on Twitter\",\" Decisions and disease: the evolution of<br>cooperation in a pandemic\",\" Using generalized logistics regression to<br>forecast population infected by Covid-19\",\" Detection and Estimation of Local Signals\",\" Dynamics of Interacting Hotspots -- I\",\" Time-optimal control strategies in SIR<br>epidemic models\",\" Assessment of 21 Days Lockdown Effect in Some<br>States and Overall India: A Predictive Mathematical<br>Study on COVID-19 Outbreak\",\" The Impact of Public Safety Measures on the<br>Spread of COVID-19 in the United States Assessed By<br>Causal Model-Based Projections of the Pandemic\",\" Open access institutional and news media tweet<br>dataset for COVID-19 social science research\",\" Solvable delay model for epidemic spreading:<br>the case of Covid-19 in Italy\",\" Some numerical observations about the<br>COVID-19 epidemic in Italy\",\" A Mathematical Description of the Dynamics of<br>Coronavirus Disease (COVID-19): A Case Study of Brazil\",\" Spatiotemporal fluctuation scaling law and<br>metapopulation modeling of the novel coronavirus (COVID-19)<br>and SARS outbreaks\",\" Short-term forecasts of COVID-19 spread<br>across Indian states until 1 May 2020\",\" Hi Sigma, do I have the Coronavirus?: Call for a<br>New Artificial Intelligence Approach to Support<br>Health Care Professionals Dealing With The COVID-19<br>Pandemic\",\" Spatio-temporal propagation of COVID-19<br>pandemics\",\" The Novel Coronavirus, 2019-nCoV, is Highly<br>Contagious and More Infectious Than Initially Estimated\",\" COVID-Net: A Tailored Deep Convolutional<br>Neural Network Design for Detection of COVID-19 Cases<br>from Chest X-Ray Images\",\" Low-Cost and High-Throughput Testing of<br>COVID-19 Viruses and Antibodies via Compressed<br>Sensing: System Concepts and Computational<br>Experiments\",\" SIR Model for COVID-19 calibrated with<br>existing data and projected for Colombia\",\" Assessing Disease Exposure Risk with Location<br>Data: A Proposal for Cryptographic Preservation of<br>Privacy\",\" Generic probabilistic modelling and<br>non-homogeneity issues for the UK epidemic of COVID-19\",\" Rapidly Bootstrapping a Question Answering<br>Dataset for COVID-19\",\" Controlling the Transmission Dynamics of<br>COVID-19\",\" Plausible models for propagation of the SARS<br>virus\",\" Mechanical Ventilator Milano (MVM): A Novel<br>Mechanical Ventilator Designed for Mass Scale Production<br>in Response to the COVID-19 Pandemic\",\" A Modified SIR Model for the COVID-19 Contagion<br>in Italy\",\" Is a COVID19 Quarantine Justified in Chile or<br>USA Right Now?\",\" Social distancing versus early detection and<br>contacts tracing in epidemic management\",\" Data Driven Modeling of Projected Mitigation<br>and Suppressing Strategy Interventions for<br>SARS-COV 2 in Ghana\",\" Covid-19 spread: Reproduction of data and<br>prediction using a SIR model on Euclidean network\",\" A Time-dependent SIR model for COVID-19 with<br>Undetectable Infected Persons\",\" Control Efficacy on COVID-19\",\" Multi-Competitive Viruses over Static and<br>Time--Varying Networks\",\" COVID-19 Antibody Test Certification:<br>There's an app for that\",\" Understanding the COVID19 Outbreak: A<br>Comparative Data Analytics and Study\",\" Optimising Lockdown Policies for Epidemic<br>Control using Reinforcement Learning\",\" Building a COVID-19 Vulnerability Index\",\" Genotyping coronavirus SARS-CoV-2: methods<br>and implications\",\" Estimating required 'lockdown' cycles before<br>immunity to SARS-CoV-2: Model-based analyses of<br>susceptible population sizes, 'S0', in seven European<br>countries including the UK and Ireland\",\" JCS: An Explainable COVID-19 Diagnosis System<br>by Joint Classification and Segmentation\",\" Robust Screening of COVID-19 from Chest X-ray<br>via Discriminative Cost-Sensitive Learning\",\" Logistic approximations used to describe new<br>outbreaks in the 2020 COVID-19 pandemic\",\" Metropolitan-scale COVID-19 outbreaks: how<br>similar are they?\",\" Beyond Contact Tracing: Community-Based<br>Early Detection for Ebola Response\",\" GSA-DenseNet121-COVID-19: a Hybrid Deep<br>Learning Architecture for the Diagnosis of COVID-19<br>Disease based on Gravitational Search Optimization<br>Algorithm\",\" A Fully Distributed, Privacy Respecting<br>Approach for Back-tracking of Potentially Infectious<br>Contacts\",\" Use of Available Data To Inform The COVID-19<br>Outbreak in South Africa: A Case Study\",\" Artificial Intelligence Forecasting of<br>Covid-19 in China\",\" Effective containment explains<br>sub-exponential growth in confirmed cases of recent COVID-19<br>outbreak in Mainland China\",\" Data Analysis for the COVID-19 early dynamics<br>in Northern Italy. The effect of first<br>restrictive measures\",\" What Can We Estimate from Fatality and<br>Infectious Case Data? A case Study of Covid-19 Pandemic\",\" Abrupt declines in tropospheric nitrogen<br>dioxide over China after the outbreak of COVID-19\",\" A Semiempirical Dynamical Model to Forecast<br>the Propagation of Epidemics: The Case of the<br>Sars-Cov-2 in Spain\",\" Possibility of Disinfection of SARS-CoV-2<br>(COVID-19) in Human Respiratory Tract by Controlled<br>Ethanol Vapor Inhalation\",\" Coronavirus Optimization Algorithm: A<br>bioinspired metaheuristic based on the COVID-19<br>propagation model\",\" Agent-Level Pandemic Simulation (ALPS) for<br>Analyzing Effects of Lockdown Measures\",\" A critique of the Covid-19 analysis for India by<br>Singh and Adhikari\",\" Some fractal thoughts about the COVID-19<br>infection outbreak\",\" Apps Gone Rogue: Maintaining Personal Privacy<br>in an Epidemic\",\" Coupled effects of local movement and global<br>interaction on contagion\",\" Deep Learning System to Screen Coronavirus<br>Disease 2019 Pneumonia\",\" Personalized workflow to identify optimal<br>T-cell epitopes for peptide-based vaccines against<br>COVID-19\",\" Combining Visible Light and Infrared Imaging<br>for Efficient Detection of Respiratory<br>Infections such as COVID-19 on Portable Device\",\" The Tajima heterochronous n-coalescent:<br>inference from heterochronously sampled molecular data\",\" Comparative prediction of confirmed cases<br>with COVID-19 pandemic by machine learning,<br>deterministic and stochastic SIR models\",\" CONTAIN: Privacy-oriented Contact Tracing<br>Protocols for Epidemics\",\" AI-Driven CT-based quantification, staging<br>and short-term outcome prediction of COVID-19<br>pneumonia\",\" Feline coronaviruses associated with feline<br>infectious peritonitis have modifications to spike<br>protein activation sites at two discrete positions\",\" The CoRisk-Index: A data-mining approach to<br>identify industry-specific risk assessments related<br>to COVID-19 in real-time\",\" Mobility Based SIR Model For Pandemics -- With<br>Case Study Of COVID-19\",\" Coronavirus Covid-19 spreading in Italy:<br>optimizing an epidemiological model with dynamic social<br>distancing through Differential Evolution\",\" On the Bias Arising from Relative Time Lag in<br>COVID-19 Case Fatality Rate Estimation\",\" High Throughput Virtual Screening with Data<br>Level Parallelism in Multi-core Processors\",\" Stochastic Transmission of Sneezed and<br>Coughed Droplets -- Physicists' Perspective\",\" Embedded model discrepancy: A case study of<br>Zika modeling\",\" Supply and demand shocks in the COVID-19<br>pandemic: An industry and occupation perspective\",\" Propagation and mitigation of epidemics in a<br>scale-free network\",\" COVID-19 Should be Suppressed by Mixed<br>Constraints -- from Simulations on Constrained Scale-Free<br>Networks\",\" Visual Data Analysis and Simulation<br>Prediction for COVID-19\",\" A Microscopic Epidemic Model and Pandemic<br>Prediction Using Multi-Agent Reinforcement Learning\",\" Spreading of sexually transmitted diseases in<br>heterosexual populations\",\" Market structure dynamics during COVID-19<br>outbreak\",\" Efficient Suspected Infected Crowds<br>Detection Based on Spatio-Temporal Trajectories\",\" Options on infectious diseases\",\" Exploring the nuances of R0: Eight estimates<br>and application to 2009 pandemic influenza\",\" Epidemiological study of novel coronavirus<br>(COVID-19)\",\" Pro-Russian Biases in Anti-Chinese Tweets<br>about the Novel Coronavirus\",\" Anomalous atmospheric circulation favored<br>the spread of COVID-19 in Europe\",\" Generating Similarity Map for COVID-19<br>Transmission Dynamics with Topological Autoencoder\",\" Enabling and Enforcing Social Distancing<br>Measures using Smart City and ITS Infrastructures: A<br>COVID-19 Use Case\",\" Information Seeking Responses to News of Local<br>COVID-19 Cases: Evidence from Internet Search Data\",\" Predictions of 2019-nCoV Transmission Ending<br>via Comprehensive Methods\",\" Identifying spatial invasion of pandemics on<br>metapopulation networks via anatomizing arrival history\",\" A comparative analysis for SARS-CoV-2\",\" Estimating and Projecting Air Passenger<br>Traffic during the COVID-19 Coronavirus Outbreak and<br>its Socio-Economic Impact\",\" Coronavirus (COVID-19) Classification using<br>CT Images by Machine Learning Methods\",\" Anonymous Collocation Discovery: Harnessing<br>Privacy to Tame the Coronavirus\",\" One-shot screening of potential peptide<br>ligands on HR1 domain in COVID-19 glycosylated spike<br>(S) protein with deep siamese network\",\" Parametrization Model Motivated from<br>Physical Processes for Studying the Spread of COVID-19<br>Epidemic\",\" Iteratively Pruned Deep Learning Ensembles<br>for COVID-19 Detection in Chest X-rays\",\" Structure and Dynamics of Information<br>Pathways in Online Media\",\" COVID-19 and Company Knowledge Graphs:<br>Assessing Golden Powers and Economic Impact of Selective<br>Lockdown via AI Reasoning\",\" Divergent modes of online collective<br>attention to the COVID-19 pandemic are associated with<br>future caseload variance\",\" CO.ME.T.A. -- covid-19 media textual<br>analysis. A dashboard for media monitoring\",\" Electrical probing of COVID-19 spike protein<br>receptor binding domain via a graphene field-effect<br>transistor\",\" COVID-19 in a social reinsurance framework:<br>Forewarned is forearmed\",\" A resampling-based test to detect<br>person-to-person transmission of infectious disease\",\" Epidemic Arrival Times; Theory, Discussion,<br>and Limitations\",\" Modelling Recovered Cases and Death<br>Probabilities for the COVID-19 Outbreak\",\" ICT Intervention in the Containment of the<br>Pandemic Spread of COVID-19: An Exploratory Study\",\" A Time Delay Dynamic System with External<br>Source for the Local Outbreak of 2019-nCoV\",\" A simple statistical physics model for the<br>epidemic with incubation period\",\" Second waves, social distancing, and the<br>spread of COVID-19 across America\",\" Using altmetrics for detecting impactful<br>research in quasi-zero-day time-windows: the case of<br>COVID-19\",\" The Ivory Tower Lost: How College Students<br>Respond Differently than the General Public to the<br>COVID-19 Pandemic\",\" Estimation of Infection Rate and Prediction of<br>Initial Infected Individuals of COVID-19\",\" POCOVID-Net: Automatic Detection of COVID-19<br>From a New Lung Ultrasound Imaging Dataset (POCUS)\",\" Development of a Machine-Learning System to<br>Classify Lung CT Scan Images into Normal/COVID-19 Class\",\" Group Testing for COVID-19: How to Stop<br>Worrying and Test More\",\" COVID-19 Docking Server: An interactive<br>server for docking small molecules, peptides and<br>antibodies against potential targets of COVID-19\",\" First attempts to model the dynamics of the<br>Coronavirus outbreak 2020\"],\"x\":{\"__ndarray__\":\"2nlwQLmJcECol2tA+0uVQCXZa0Ce1qRA32uCQNK1W0AwaHBA4P5DQPn8okBfNpVAMGiGQEfeoEC5q5lAdW2nQPhak0BwCERAo72eQDQllkCSD5ZAhSKpQEHVnUCOwW1AsLijQLDAnUCiC3FAmg5pQLLulkC7FFRAsBGUQObSXkBup5hABMKPQAkGYkCrgZBADs6XQBKmk0AzSJhAuuyUQG6vr0D7T61A4e6RQDGWS0BgLZFAYeiDQEMhgEAuOUBAKfCTQO6NcUCnbWxA0zeXQDL1o0CLK5dAbbJvQE1dXEB8ZHxA2Q+ZQFk/oUCGBJ9AB9aVQAX+sECQy5VABA9kQF5vh0DoqJNAF1mSQBChqUBLv1hA1RSVQGFWckAGeT5AOFFwQPCwd0CvjJZAZrtSQGQvb0B/qzxAmfJOQEirk0AtrJBAEdCSQJmMREByQZ1Ak32KQHcQR0AXjJlAsTuEQMvAnkDo8pJARHePQI9jk0CQXHhALmSZQC/Yj0AFT55AbzJCQGw/l0BZYZFAwQdrQBq5lEDTFJpAAOaLQMhbQUD575pASiltQPCSUUB26z9AATGUQBuhckDnWYVAuRtGQFqOkEA+UlFAYyM+QNYzmEAPs49AgmGLQC1jpUAZqWNAf3mjQMk/l0CqM49AVdlvQF33R0BOO5hACDNvQMCjbUAn2GhAMOU9QNmQl0A=\",\"dtype\":\"float32\",\"shape\":[131]},\"x_backup\":{\"__ndarray__\":\"2nlwQLmJcECol2tA+0uVQCXZa0Ce1qRA32uCQNK1W0AwaHBA4P5DQPn8okBfNpVAMGiGQEfeoEC5q5lAdW2nQPhak0BwCERAo72eQDQllkCSD5ZAhSKpQEHVnUCOwW1AsLijQLDAnUCiC3FAmg5pQLLulkC7FFRAsBGUQObSXkBup5hABMKPQAkGYkCrgZBADs6XQBKmk0AzSJhAuuyUQG6vr0D7T61A4e6RQDGWS0BgLZFAYeiDQEMhgEAuOUBAKfCTQO6NcUCnbWxA0zeXQDL1o0CLK5dAbbJvQE1dXEB8ZHxA2Q+ZQFk/oUCGBJ9AB9aVQAX+sECQy5VABA9kQF5vh0DoqJNAF1mSQBChqUBLv1hA1RSVQGFWckAGeT5AOFFwQPCwd0CvjJZAZrtSQGQvb0B/qzxAmfJOQEirk0AtrJBAEdCSQJmMREByQZ1Ak32KQHcQR0AXjJlAsTuEQMvAnkDo8pJARHePQI9jk0CQXHhALmSZQC/Yj0AFT55AbzJCQGw/l0BZYZFAwQdrQBq5lEDTFJpAAOaLQMhbQUD575pASiltQPCSUUB26z9AATGUQBuhckDnWYVAuRtGQFqOkEA+UlFAYyM+QNYzmEAPs49AgmGLQC1jpUAZqWNAf3mjQMk/l0CqM49AVdlvQF33R0BOO5hACDNvQMCjbUAn2GhAMOU9QNmQl0A=\",\"dtype\":\"float32\",\"shape\":[131]},\"y\":{\"__ndarray__\":\"nCYwvedRm73Igw7Ao8+4v2Gyvb+KsuK/57P+v5fha7+ZMBS+TlPvvm+y/7/CvFu/9oqbv/jjnL9ej/S/il7ZvrZrXb/G/tS+kv6wv/vTm79PPZK/OvyAv8bdF7+sLrK+7a6Rv+bMfb+3Yc+9Y8LEv/KtgL+A8Y2/CSWfv5Frvr74Hem/622vvxMgC8AevZe/qErYvo8Jn79+gyu/fwOZv7tS3L88BE+/0x0HwH82jb8PpNq+cRP6v1U1KL9Os+K/NNF0vxRGEr2el4q8+0Z2v24ghr88C7O/FDG7vYCjlb+9VA2/0vXuvn0egb+GpC2/PVuEv8x0/r6cFFK/YoQQwEBYp79F5+a/0hGWv+Hhw7/Lw4y/xjfuv4RYyL2Efs+/ule/vaNd9b/B2oy/sPeSv9NoWL0pBOq/+PQ8vzpxxr+G3Ji/uJ8Sv+060b/5bT0+hRaevwhzQr9oztC/ziYBwCucgL+8ogrAv2v3vzz9HLs6BwLAdd/Vv/xNmb/F5i2/15XGvjL6Ir6Y9zG8PNGCv61Qi77fqla/av8TwGsW3r+cVfK9kHgMPntlkL/Oxsm/3DGDv85Ufb2t5/+/IR1qv90rc74B4hC/GKbjv1YVO79ptbm/UyzRv84tRb/pZDS/rAhxvzZ1p7+8qYO/RtwNv/d94L74OIW/Cge/vcGSnj06PMS/XrvWv2LNhr8=\",\"dtype\":\"float32\",\"shape\":[131]},\"y_backup\":{\"__ndarray__\":\"nCYwvedRm73Igw7Ao8+4v2Gyvb+KsuK/57P+v5fha7+ZMBS+TlPvvm+y/7/CvFu/9oqbv/jjnL9ej/S/il7ZvrZrXb/G/tS+kv6wv/vTm79PPZK/OvyAv8bdF7+sLrK+7a6Rv+bMfb+3Yc+9Y8LEv/KtgL+A8Y2/CSWfv5Frvr74Hem/622vvxMgC8AevZe/qErYvo8Jn79+gyu/fwOZv7tS3L88BE+/0x0HwH82jb8PpNq+cRP6v1U1KL9Os+K/NNF0vxRGEr2el4q8+0Z2v24ghr88C7O/FDG7vYCjlb+9VA2/0vXuvn0egb+GpC2/PVuEv8x0/r6cFFK/YoQQwEBYp79F5+a/0hGWv+Hhw7/Lw4y/xjfuv4RYyL2Efs+/ule/vaNd9b/B2oy/sPeSv9NoWL0pBOq/+PQ8vzpxxr+G3Ji/uJ8Sv+060b/5bT0+hRaevwhzQr9oztC/ziYBwCucgL+8ogrAv2v3vzz9HLs6BwLAdd/Vv/xNmb/F5i2/15XGvjL6Ir6Y9zG8PNGCv61Qi77fqla/av8TwGsW3r+cVfK9kHgMPntlkL/Oxsm/3DGDv85Ufb2t5/+/IR1qv90rc74B4hC/GKbjv1YVO79ptbm/UyzRv84tRb/pZDS/rAhxvzZ1p7+8qYO/RtwNv/d94L74OIW/Cge/vcGSnj06PMS/XrvWv2LNhr8=\",\"dtype\":\"float32\",\"shape\":[131]}},\"selected\":{\"id\":\"1406\",\"type\":\"Selection\"},\"selection_policy\":{\"id\":\"1405\",\"type\":\"UnionRenderers\"}},\"id\":\"1345\",\"type\":\"ColumnDataSource\"},{\"attributes\":{},\"id\":\"1365\",\"type\":\"BasicTicker\"},{\"attributes\":{\"label\":{\"field\":\"labels\"},\"renderers\":[{\"id\":\"1386\",\"type\":\"GlyphRenderer\"}]},\"id\":\"1395\",\"type\":\"LegendItem\"},{\"attributes\":{\"children\":[{\"id\":\"1408\",\"type\":\"Slider\"},{\"id\":\"1409\",\"type\":\"TextInput\"}]},\"id\":\"1411\",\"type\":\"Row\"},{\"attributes\":{\"dimension\":1,\"ticker\":{\"id\":\"1365\",\"type\":\"BasicTicker\"}},\"id\":\"1368\",\"type\":\"Grid\"},{\"attributes\":{\"fill_color\":{\"field\":\"desc\",\"transform\":{\"id\":\"1347\",\"type\":\"LinearColorMapper\"}},\"line_alpha\":{\"value\":0.3},\"size\":{\"units\":\"screen\",\"value\":5},\"x\":{\"field\":\"x\"},\"y\":{\"field\":\"y\"}},\"id\":\"1384\",\"type\":\"Scatter\"},{\"attributes\":{\"bottom_units\":\"screen\",\"fill_alpha\":{\"value\":0.5},\"fill_color\":{\"value\":\"lightgrey\"},\"left_units\":\"screen\",\"level\":\"overlay\",\"line_alpha\":{\"value\":1.0},\"line_color\":{\"value\":\"black\"},\"line_dash\":[4,4],\"line_width\":{\"value\":2},\"render_mode\":\"css\",\"right_units\":\"screen\",\"top_units\":\"screen\"},\"id\":\"1393\",\"type\":\"BoxAnnotation\"},{\"attributes\":{},\"id\":\"1369\",\"type\":\"PanTool\"},{\"attributes\":{\"callback\":null,\"point_policy\":\"follow_mouse\",\"tooltips\":[[\"Title\",\"@titles{safe}\"],[\"Author(s)\",\"@authors{safe}\"],[\"Journal\",\"@journal\"],[\"Abstract\",\"@abstract{safe}\"],[\"Link\",\"@links\"]]},\"id\":\"1346\",\"type\":\"HoverTool\"},{\"attributes\":{\"active_drag\":\"auto\",\"active_inspect\":\"auto\",\"active_multi\":null,\"active_scroll\":\"auto\",\"active_tap\":\"auto\",\"tools\":[{\"id\":\"1346\",\"type\":\"HoverTool\"},{\"id\":\"1369\",\"type\":\"PanTool\"},{\"id\":\"1370\",\"type\":\"WheelZoomTool\"},{\"id\":\"1371\",\"type\":\"BoxZoomTool\"},{\"id\":\"1372\",\"type\":\"ResetTool\"},{\"id\":\"1373\",\"type\":\"SaveTool\"},{\"id\":\"1374\",\"type\":\"TapTool\"}]},\"id\":\"1375\",\"type\":\"Toolbar\"},{\"attributes\":{\"overlay\":{\"id\":\"1393\",\"type\":\"BoxAnnotation\"}},\"id\":\"1371\",\"type\":\"BoxZoomTool\"}],\"root_ids\":[\"1415\"]},\"title\":\"Bokeh Application\",\"version\":\"1.1.0\"}};\n",
       "  var render_items = [{\"docid\":\"a3bdadfc-4adf-4e28-9f4c-6ce59aadfcd6\",\"roots\":{\"1415\":\"1ae1b849-c092-4477-9614-8d832fbc2383\"}}];\n",
       "  root.Bokeh.embed.embed_items_notebook(docs_json, render_items);\n",
       "\n",
       "  }\n",
       "  if (root.Bokeh !== undefined) {\n",
       "    embed_document(root);\n",
       "  } else {\n",
       "    var attempts = 0;\n",
       "    var timer = setInterval(function(root) {\n",
       "      if (root.Bokeh !== undefined) {\n",
       "        embed_document(root);\n",
       "        clearInterval(timer);\n",
       "      }\n",
       "      attempts++;\n",
       "      if (attempts > 100) {\n",
       "        console.log(\"Bokeh: ERROR: Unable to run BokehJS code because BokehJS library is missing\");\n",
       "        clearInterval(timer);\n",
       "      }\n",
       "    }, 10, root)\n",
       "  }\n",
       "})(window);"
      ],
      "application/vnd.bokehjs_exec.v0+json": ""
     },
     "metadata": {
      "application/vnd.bokehjs_exec.v0+json": {
       "id": "1415"
      }
     },
     "output_type": "display_data"
    }
   ],
   "source": [
    "# LAYOUT OF THE PAGE\n",
    "l = layout([\n",
    "    [slider, keyword],\n",
    "    [text_banner],\n",
    "    [div_curr],\n",
    "    [plot],\n",
    "])\n",
    "l.sizing_mode = \"scale_both\"\n",
    "\n",
    "# show\n",
    "output_file('t-sne_covid-19_interactive.html')\n",
    "show(l)"
   ]
  },
  {
   "cell_type": "markdown",
   "metadata": {},
   "source": [
    "# How to Use the Plot?\n",
    "\n",
    "Each dot on the plot represents a research article. They are color-coded by the cluster number that kmeans had found. By default no cluster is selected and all the clusters are displayed. To select a distinct cluster, set the slider to the desired cluster number. When an individual cluster is selected, a list of keywords found in that cluster will be displayed above the plot.You can also search for articles by specific keyword, either within an individual cluster or within all. Let's go through an example of how the tool can be used. \n",
    "\n",
    "**Note, This example is pulled from the full plot, available at:** <br>\n",
    "https://maksimekin.github.io/COVID19-Literature-Clustering/plots/t-sne_covid-19_interactive.html"
   ]
  },
  {
   "cell_type": "markdown",
   "metadata": {},
   "source": [
    "First let's check out the different clusters and see if anything interesting stands out. The easiest way to get a general idea of what is going on in each cluster is to look to the keywords for each cluster (the ones we identified through topic modeling). For the sake of example, let's say we see some keywords that interest us in cluster #9. This cluster seems to center around livestock"
   ]
  },
  {
   "cell_type": "code",
   "execution_count": 77,
   "metadata": {},
   "outputs": [
    {
     "data": {
      "image/png": "[encoded data removed]",
      "text/plain": [
       "<IPython.core.display.Image object>"
      ]
     },
     "execution_count": 77,
     "metadata": {
      "image/png": {
       "height": 60,
       "width": 1170
      }
     },
     "output_type": "execute_result"
    }
   ],
   "source": [
    "Image(filename=\"kaggle/input/kaggle-resources/cluster_9_keywords.PNG\", width=1170, height=60)"
   ]
  },
  {
   "cell_type": "markdown",
   "metadata": {},
   "source": [
    "<br>\n",
    "\n",
    "And here is what the actual cluster looks like, zoomed in on the plot:"
   ]
  },
  {
   "cell_type": "code",
   "execution_count": 78,
   "metadata": {},
   "outputs": [
    {
     "data": {
      "image/png": "[encoded data removed]",
      "text/plain": [
       "<IPython.core.display.Image object>"
      ]
     },
     "execution_count": 78,
     "metadata": {
      "image/png": {
       "height": 375,
       "width": 420
      }
     },
     "output_type": "execute_result"
    }
   ],
   "source": [
    "Image(filename='kaggle/input/kaggle-resources/cluster_9.PNG', width=420, height=375)"
   ]
  },
  {
   "cell_type": "markdown",
   "metadata": {},
   "source": [
    "Now let's say we interested specifically in cattle. Let's use the keyword search to filter for papers that specifically mention cattle. This is what the same cluster will look like now:"
   ]
  },
  {
   "cell_type": "code",
   "execution_count": 80,
   "metadata": {},
   "outputs": [
    {
     "data": {
      "image/png": "[encoded data removed]",
      "text/plain": [
       "<IPython.core.display.Image object>"
      ]
     },
     "execution_count": 80,
     "metadata": {
      "image/png": {
       "height": 375,
       "width": 420
      }
     },
     "output_type": "execute_result"
    }
   ],
   "source": [
    "Image(filename='kaggle/input/kaggle-resources/cluster_9_cattle.PNG', width=420, height=375)"
   ]
  },
  {
   "cell_type": "markdown",
   "metadata": {},
   "source": [
    "The shown articles are now a little thinner, showing only papers that are part of the cluster and that contain the keyword 'cattle'. The search can also be expanded to the entire dataset by setting the # of clusters to the default value of 20. Hovering over any article will give basic information like title, author, and abstract. Clicking on an article will pin that article above the plot and give a URL that will direct the user to the full paper. Here's what clicking an article looks like:"
   ]
  },
  {
   "cell_type": "code",
   "execution_count": 81,
   "metadata": {},
   "outputs": [
    {
     "data": {
      "image/png": "[encoded data removed]",
      "text/plain": [
       "<IPython.core.display.Image object>"
      ]
     },
     "execution_count": 81,
     "metadata": {
      "image/png": {
       "height": 100,
       "width": 600
      }
     },
     "output_type": "execute_result"
    }
   ],
   "source": [
    "Image(filename='kaggle/input/kaggle-resources/selected_paper.PNG', width=600, height=100)"
   ]
  },
  {
   "cell_type": "markdown",
   "metadata": {},
   "source": [
    "# Examples\n",
    "\n",
    "*Note: We will be using the [full plot](https://maksimekin.github.io/COVID19-Literature-Clustering/plots/t-sne_covid-19_interactive.html) for these examples*\n",
    "\n",
    "The plot can be used to quickly find many publications on a similar topic. For example, let's say we're interested in finding information on masks and their effectiveness. To do this we can either try to find a cluster with a keyword such as \"mask\" or we can search for the term directly and try to identify which cluster it most closely relates to. \n",
    "\n",
    "If you search for \"mask\", a dark green cluster (#12) is well represented. It would be wise to start the looking there. A quick scan of the titles indicates that these publications mainly address different masks and their uses for healthcare workers. \n",
    "\n",
    "Searching for a single key term may cause you to inadvertenly filter out highly similar papers that use different phrasing. After an initial examination, clear the search term and explore the whole cluster by adjusting the slider. In this case, we would set the slider to 12 and look for more interesting papers in the entire cluster.\n",
    "\n",
    "Now we will explore a couple task-oriented questions.\n",
    "\n",
    "## What do we know about diagnostics and surveillance?\n",
    "\n",
    "### Diagnostics\n",
    "- To start, we first searched one of the keyterms from this question (\"diagnostic\")\n",
    "- For \"diagnostic\", the brown cluster (#17) stood out immediately\n",
    "- Next we removed the search term and adjusted the slider to 17\n",
    "- Inside cluster 17 there exists a main cluster and a smaller, denser sub-cluster just off to the right of the main one. Both this main cluster and the sub-cluster seem to contain useful information on diagnosing viral infections. Just quickly skimming through the publications, we saw papers such as:\n",
    "\n",
    "    - [Evaluation of fast-track diagnostics and TaqMan array card real-time PCR assays for the detection of respiratory pathogens](https://www.sciencedirect.com/science/article/pii/S0167701214002991?via%3Dihub) \n",
    "    - [Advances in the diagnosis of respiratory virus infections](https://www.sciencedirect.com/science/article/pii/0928019796002103?via%3Dihub) \n",
    "\n",
    "### Surveillance \n",
    "- Next, we returned to the full plot by adjusting the slider to cluster 20 (clusters range from 0 to 19; 20 plots all)\n",
    "- We then repeated the search process with keyterm \"surveillance\"\n",
    "- The dominant cluster for this search term was cluster #8. After clearing the search box and adjusting the slider to 8, we looked at some of the titles and abstracts in this cluster\n",
    "- A couple that stood out: \n",
    "\n",
    "    - [Surveillance strategy for early detection of unusual infectious disease events](https://www.sciencedirect.com/science/article/pii/S1879625713000217?via%3Dihub)  \n",
    "    - [Communicable Disease Surveillance Ethics in the Age of Big Data and New Technology](https://link.springer.com/article/10.1007/s41649-019-00087-1)\n",
    "\n",
    "<br>\n",
    "## What do we know about vaccines and therapeutics?\n",
    "\n",
    "### Vaccine\n",
    "- To identify which cluster to examine first for papers on vaccines, we used a different strategy than before\n",
    "- By examinining the keywords generated through topic modeling for each cluster, we found that cluster #15 had related keywords like \"vaccine\", \"serum\", and \"delivery\"\n",
    "- To further verify, we also searched for \"vaccine\" within the whole dataset and found that cluster #15 was well represented\n",
    "- While exploring this cluster we ran into an issue of overrepresentation - many publications focused on vaccines that seemed unrelated. To remedy this we searched for \"corona\" within the cluster\n",
    "- This narrowed down the publications and made it easier to look for interesting papers. Here are a few that we found:\n",
    "\n",
    "    - [Development of next-generation respiratory virus vaccines through targeted modifications to viral immunomodulatory genes](https://www.tandfonline.com/doi/full/10.1586/14760584.2015.1095096)\n",
    "    - [Intranasal DNA Vaccine for Protection against Respiratory Infectious Diseases: The Delivery Perspectives](https://www.mdpi.com/1999-4923/6/3/378)\n",
    "\n",
    "### Therapeutics\n",
    "- Cluster #1 has more information on vaccine/therapeutics\n",
    "- Specifically, there is a lot of information on coronaviruses (the top keyword in the cluster is MERS)\n",
    "- A few interesting papers from cluster #1:\n",
    "\n",
    "    - [A safe and convenient pseudovirus-based inhibition assay to detect neutralizing antibodies and screen for viral entry inhibitors against the novel human coronavirus MERS-CoV](https://virologyj.biomedcentral.com/articles/10.1186/1743-422X-10-266)\n",
    "    - [Advances in MERS-CoV Vaccines and Therapeutics Based on the Receptor-Binding Domain](https://www.mdpi.com/1999-4915/11/1/60)\n",
    "    \n",
    "<br>\n"
   ]
  },
  {
   "cell_type": "markdown",
   "metadata": {},
   "source": [
    "# Conclusion\n",
    "In this project, we have attempted to cluster published literature on COVID-19 and reduce the dimensionality of the dataset for visualization purposes. This has allowed for an interactive scatter plot of papers related to COVID-19, in which material of similar theme is grouped together. Grouping the literature in this way allows for professionals to quickly find material related to a central topic. Instead of having to manually search for related work, every publication is connected to a larger topic cluster. The clustering of the data was done through k-means on a pre-processed, vectorized version of the literature’s body text. As k-means simply split the data into clusters, topic modeling through LDA was performed to identify keywords. This gave the topics that were prevalent in each of the clusters. Both the clusters and keywords are found through unsupervised learning models and can be useful in revealing patterns that humans may not have even thought about. In no part of this project did we have to manually organize the papers: the results are due to latent connections in the data. \n",
    " \n",
    "K-means (represented by colors) and t-SNE (represented by points) were able to independently find clusters, showing that relationships between papers can be identified and measured. Papers written on highly similar topics are typically near each other on the plot and bear the same k-means label. However, due to the complexity of the dataset, k-means and t-SNE will sometimes arrive at different decisions. The topics of much of the given literature are continuous and will not have a concrete decision boundary. This means that k-means and t-SNE can find different similarities to group the papers by. In these conditions, our approach performs quite well.\n",
    "\n",
    "As this is an unsupervised learning problem, the evaluation of our work was not an exact science. First, the plot was examined to assert that clusters were actually being formed. After being convinced of this, we examined the titles/abstracts of some of the papers in different clusters. For the most part, similar research areas were clustered. Our last evaluation method was classification. By training a classification model with the k-means labels and then testing it on a separate subset of the data, we could see that the clustering was not completely arbitrary as the classifier performed well. \n",
    "\n",
    "Our manual inspection of the documents was quite limited, as neither of the authors are qualified to assess the meaning of the literature. Even so, it was apparent that articles on key topics could be easily found in close proximity to each other. For example, searching for 'mask' can reveal a sub cluster of papers that evaluate the efficacy of masks.  We believe that health professionals can use this tool to find real links in the texts. By organizing the literature, qualified people can quickly find related publications that answer the task questions. This project can further be improved by abstracting the underlying data analysis techniques as described in this notebook to develop a user interface/tool that presents the related articles in a user-friendly manner.\n",
    "\n",
    "\n",
    "<br>\n",
    "<br>\n",
    "<br>"
   ]
  },
  {
   "cell_type": "markdown",
   "metadata": {},
   "source": [
    "**Some areas we thought were great:** (pros)\n",
    "- The tool is saved as an html file. It can be downloaded and used locally/offline.\n",
    "- It is portable/mobile, easily deployable, and failover safe; the risk of denial of service in the case of emergencies such as the loss of network connection is mitigated\n",
    "- Dimensionality reduction allows for the whole dataset to be easily accessible. The papers are all up on the plot and can be quickly examined by hovering over them. If the abstract seems interesting, the user can click on the point to bring up a text box with more information that will contain a link to the full paper\n",
    "- Patterns in the data found through clustering/dimensionality reduction may not be readily apparent to researchers. These unsupervised techniques can show humans hidden connnections in the literature\n",
    "- If the topics/clusters are not narrow enough for the user, a search for a key term that will only bring up papers that contain the search term. Search can be performed inside of a selected cluster or the entire dataset if preferred. This increases the flexibility of how patterns can be discovered.\n",
    "- A surface level examination of the plot showed some very interesting organization of the data. For example, one subcluster consisted of papers that tried to determine the efficacy of masks in preventing the spread of COVID-19.\n",
    "- Once the models are trained, the results can be generated in constant time.\n",
    "- This work can be easily replicated and modified as needed, serving as a foundation for future projects.\n",
    "\n",
    "<br>\n",
    "\n",
    "**Future thoughts to consider:** (cons)\n",
    "- Possible false positives, difficult to draw an exact line between subjects\n",
    "- K-means and t-SNE are unsupervised approaches that will not necessarily group instances in a predictable way. Due to their unsupervised nature, there is no 'right answer' for how the papers should be clustered. This could be difficult to debug if problems arise.\n",
    "- Loss of foreign language papers. This leads to the loss of experience from different geographic locations on dealing with COVID-19\n",
    "- The algorithms used in this notebook are stochastic so the results may vary depending on the random state. In this notebook all of the algorithms are set to random state 42 (the meaning of life) to ensure reproducible results\n",
    "- Long run time to train models on large dataset of literature"
   ]
  },
  {
   "cell_type": "markdown",
   "metadata": {},
   "source": [
    "# Citation/Sources\n",
    "\n",
    "Kaggle Submission: [COVID-19 Literature Clustering | Kaggle](https://www.kaggle.com/maksimeren/covid-19-literature-clustering#Unsupervised-Learning:-Clustering-with-K-Means)\n",
    " \n",
    " ```\n",
    "@inproceedings{Raff2020,\n",
    "\tauthor = {Raff, Edward and Nicholas, Charles and McLean, Mark},\n",
    "\tbooktitle = {The Thirty-Fourth AAAI Conference on Artificial Intelligence},\n",
    "\ttitle = {{A New Burrows Wheeler Transform Markov Distance}},\n",
    "\turl = {http://arxiv.org/abs/1912.13046},\n",
    "\tyear = {2020},\n",
    "}\n",
    "```\n",
    "```\n",
    "@misc{Kaggle,\n",
    "\tauthor = {Kaggle},\n",
    "\ttitle = {COVID-19 Open Research Dataset Challenge (CORD-19)},\n",
    "\tyear = {2020},\n",
    "\tmonth = {March},\n",
    "\tnote = {Allen Institute for AI in partnership with the Chan Zuckerberg Initiative, Georgetown University’s Center for   Security and Emerging Technology, Microsoft Research, and the National Library of Medicine - National Institutes of Health, in coordination with The White House Office of Science and Technology Policy.},\n",
    "\thowpublished = {\\url{https://www.kaggle.com/allen-institute-for-ai/CORD-19-research-challenge}}\n",
    "}\n",
    "```\n",
    "```\n",
    "@inproceedings{Shakespeare,\n",
    "\tauthor = {Nicholas, Charles},\n",
    "\ttitle = {Mr. Shakespeare, Meet Mr. Tucker},\n",
    "\tbooktitle = {High Performance Computing and Data Analytics Workshop},\n",
    "\tyear = {2019},\n",
    "\tmonth = {September},\n",
    "\tlocation = { Linthicum Heights, MD, USA},\n",
    "}\n",
    "```\n",
    "```\n",
    "@inproceedings{raff_lzjd_2017,\n",
    "\tauthor = {Raff, Edward and Nicholas, Charles},\n",
    "\ttitle = {An Alternative to NCD for Large Sequences, Lempel-Ziv Jaccard Distance},\n",
    "\tbooktitle = {Proceedings of the 23rd ACM SIGKDD International Conference on Knowledge Discovery and Data Mining},\n",
    "\tseries = {KDD '17},\n",
    "\tyear = {2017},\n",
    "\tisbn = {978-1-4503-4887-4},\n",
    "\tlocation = {Halifax, NS, Canada},\n",
    "\tpages = {1007--1015},\n",
    "\tnumpages = {9},\n",
    "\turl = {http://doi.acm.org/10.1145/3097983.3098111},\n",
    "\tdoi = {10.1145/3097983.3098111},\n",
    "\tacmid = {3098111},\n",
    "\tpublisher = {ACM},\n",
    "\taddress = {New York, NY, USA},\n",
    "\tkeywords = {cyber security, jaccard similarity, lempel-ziv, malware classification, normalized compression distance},\n",
    "}\n",
    "```\n",
    "```\n",
    "@inproceedings{ML_Book,\n",
    "    author = {Aurélien Geron},\n",
    "    title = {Hands-On Machine Learning with Scikit-Learn, Keras, and TensorFlow},\n",
    "    pages = {91, 233},\n",
    "    series = {2},\n",
    "    year = {2019},\n",
    "    isbn = {978-1-492-03264-9},\n",
    "    publisher = {O'Reilly},\n",
    "    copyright = {Kiwisoft S.A.S},\n",
    "}\n",
    "```\n",
    "\n",
    "<br>\n",
    "<br>\n",
    "\n",
    "**Thank you for looking at our notebook. We greatly appreciate tips, suggestions, and upvotes :)** <br>\n",
    "**If you would like to check out the interactive plot with the full dataset, please visit:**\n",
    "\n",
    "https://maksimekin.github.io/COVID19-Literature-Clustering/plots/t-sne_covid-19_interactive.html"
   ]
  }
 ],
 "metadata": {
  "kernelspec": {
   "display_name": "Python 3",
   "language": "python",
   "name": "python3"
  },
  "language_info": {
   "codemirror_mode": {
    "name": "ipython",
    "version": 3
   },
   "file_extension": ".py",
   "mimetype": "text/x-python",
   "name": "python",
   "nbconvert_exporter": "python",
   "pygments_lexer": "ipython3",
   "version": "3.6.8"
  }
 },
 "nbformat": 4,
 "nbformat_minor": 4
}
